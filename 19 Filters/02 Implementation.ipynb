{
 "cells": [
  {
   "cell_type": "markdown",
   "metadata": {},
   "source": [
    "### Authorization Filters"
   ]
  },
  {
   "cell_type": "markdown",
   "metadata": {},
   "source": [
    "<div dir=\"rtl\" style=\"margin:auto; width:90%; font-family:vazirmatn\">\n",
    "<p>نخستین مرحله از چرخه فیلترها شامل فیلترهای مجوز است. در این مرحله تصمیم گرفته می‌شود آیا کاربر اجازه‌ی دسترسی به اکشن موردنظر را دارد یا خیر. این فیلترها پیش از هر منطق دیگری اجرا می‌شوند تا در صورت عدم داشتن مجوز، اجرای اکشن را متوقف نموده و پاسخ مناسب (مانند خطای 403) را بازگردانند.</p>\n",
    "</div>"
   ]
  },
  {
   "cell_type": "markdown",
   "metadata": {
    "dotnet_interactive": {
     "language": "csharp"
    },
    "polyglot_notebook": {
     "kernelName": "csharp"
    }
   },
   "source": [
    "every ***Authorization Filters*** must implement `IAuthorizationFilter` or `IAsyncAuthorizationFilter` \n",
    "  \n",
    "`AuthorizationFilterContext` inherited from `FilterContext` and have `Result` property to return result base on my senario "
   ]
  },
  {
   "cell_type": "markdown",
   "metadata": {},
   "source": [
    "### Resource Filters"
   ]
  },
  {
   "cell_type": "markdown",
   "metadata": {},
   "source": [
    "<div dir=\"rtl\" style=\"margin:auto; width:90%; font-family:vazirmatn\">\n",
    "<p>پس از تأیید مجوزها، نوبت به Resource Filters می‌رسد. این فیلترها <code style=\"font-family:vazirmatn\">قبل و بعد</code> از اجرای تصمیم‌گیری درباره اکشن و فراخوانی آن اجرا می‌شوند. آن‌ها می‌توانند برای وظایفی مانند کش کردن نتایج یا ایجاد و پاکسازی منابع خاص استفاده شوند. نکته مهم این است که Resource Filters معمولاً قبل از اینکه اکشن واقعاً Resolve (توسط Model Binding) و اجرا شود، عمل می‌کنند.</p>\n",
    "</div>"
   ]
  },
  {
   "cell_type": "markdown",
   "metadata": {},
   "source": [
    "every ***Resource Filters*** must implement `IResourceFilter` or `IAsyncResourceFilter` "
   ]
  },
  {
   "cell_type": "markdown",
   "metadata": {},
   "source": [
    "### Action Filters"
   ]
  },
  {
   "cell_type": "markdown",
   "metadata": {},
   "source": [
    "<div dir=\"rtl\" style=\"margin:auto; width:90%; font-family:vazirmatn\">\n",
    "<p> این فیلترها قبل از اجرای متد اکشن و پس از اجرای متد اکشن قابل اجرا هستند. آن‌ها اجازه می‌دهند تا منطق‌هایی مثل ثبت لاگ قبل از اجرا (OnActionExecuting) و بعد از اجرا (OnActionExecuted) پیاده‌سازی شود. اگر این فیلترها تشخیص دهند که نیاز به لغو اجرای اکشن است یا باید نتیجه‌ی دیگری بازگردانند، می‌توانند این کار را انجام دهند.</p>\n",
    "</div>"
   ]
  },
  {
   "cell_type": "markdown",
   "metadata": {},
   "source": [
    "every ***Action Filters*** must implement `IActionFilter` or `IAsyncActionFilter` "
   ]
  },
  {
   "cell_type": "markdown",
   "metadata": {},
   "source": [
    "### Result Filters"
   ]
  },
  {
   "cell_type": "markdown",
   "metadata": {},
   "source": [
    "<div dir=\"rtl\" style=\"margin:auto; width:90%; font-family:vazirmatn\">\n",
    "<p>هنگامی که متد اکشن اجرای خود را به پایان رساند و یک نتیجه بازگرداند، نوبت به Result Filters می‌رسد. این فیلترها قبل و بعد از اجرای نتیجه (Render شدن View یا تولید JSON یا هر پاسخ دیگر) وارد عمل می‌شوند. اگر نیاز به اعمال تغییراتی بر روی نتیجه نهایی است (مانند اضافه کردن هدرهای خاص، تغییر فرمت پاسخ، یا کش کردن خروجی)، اینجا بهترین نقطه برای این کار است.</p>\n",
    "</div>"
   ]
  },
  {
   "cell_type": "markdown",
   "metadata": {},
   "source": [
    "every ***Result Filters*** must implement `IResultFilter` or `IAsyncResultFilter` "
   ]
  },
  {
   "cell_type": "markdown",
   "metadata": {},
   "source": [
    "### Exception Filters"
   ]
  },
  {
   "cell_type": "markdown",
   "metadata": {},
   "source": [
    "<div dir=\"rtl\" style=\"margin:auto; width:90%; font-family:vazirmatn\">\n",
    "<p>اگر در حین اجرای اکشن یا فیلترها استثنایی رخ دهد که هندل نشده باشد، Exception Filters وارد عمل می‌شوند. این فیلترها در زنجیره اجرا، به صورت اضطراری (در صورت وقوع خطا) فراخوانی شده و با مدیریت خطا و تولید پاسخ مناسب (مثلاً یک نتیجه‌ی خطای استاندارد یا ریدایرکت به صفحه‌ی خطا) چرخه را تکمیل می‌کنند.</p>\n",
    "</div>"
   ]
  },
  {
   "cell_type": "markdown",
   "metadata": {},
   "source": [
    "### Dependency Injection"
   ]
  },
  {
   "cell_type": "markdown",
   "metadata": {},
   "source": [
    "<div dir=\"rtl\" style=\"margin:auto; width:90%; font-family:vazirmatn\">\n",
    "<p>چالش <code>Dependency Injection (DI)</code> در فیلترهای ASP.NET Core به دلیل نحوه ایجاد و استفاده از فیلترها در برنامه‌ها پیش می‌آید. برای درک این چالش و ارائه راه‌حل، بیایید ابتدا مشکل را بررسی کنیم</p>\n",
    "<h3><strong>چالش Dependency Injection در فیلترها</strong></h3>\n",
    "<ol><li><p><strong>مشکل در زمان‌بندی ایجاد فیلترها</strong>:</p><ul><li>فیلترها معمولاً به صورت سراسری (Global)، برای کنترلر یا اکشن خاص اعمال می‌شوند. این فیلترها ممکن است قبل از اینکه DI بتواند وابستگی‌های مورد نیاز را تزریق کند، ایجاد شوند.</li><li>اگر فیلترها به صورت مستقیم در متدهای کنترلر یا اکشن‌ها مشخص شوند (به کمک Attribute)، ASP.NET Core به جای استفاده از DI، فیلتر را به صورت مستقیم با استفاده از سازنده پیش‌فرض آن (<code>new</code>) ایجاد می‌کند. این به این معناست که وابستگی‌ها از طریق DI قابل تزریق نخواهند بود.</li></ul></li><li><p><strong>ایجاد فیلترهای Attribute-based</strong>:</p><ul><li>وقتی یک فیلتر به صورت Attribute تعریف می‌شود (مثلاً <code>[MyFilter]</code>)، ASP.NET Core از DI برای ایجاد آن استفاده نمی‌کند، بلکه آن را مستقیماً نمونه‌سازی می‌کند. این موضوع باعث می‌شود وابستگی‌های مورد نیاز فیلتر در زمان اجرا قابل تزریق نباشند.</li></ul></li><li><p><strong>وابستگی‌های پیچیده</strong>:</p><ul><li>اگر فیلتر نیاز به وابستگی‌های پیچیده یا چندگانه داشته باشد (مانند سرویس‌های ثبت‌شده در DI)، بدون دسترسی به DI، مدیریت این وابستگی‌ها دشوار می‌شود.</li></ul></li></ol>\n",
    "</div>"
   ]
  },
  {
   "cell_type": "markdown",
   "metadata": {},
   "source": [
    "### Global Filters"
   ]
  },
  {
   "cell_type": "markdown",
   "metadata": {},
   "source": [
    "### Filters Order"
   ]
  }
 ],
 "metadata": {
  "kernelspec": {
   "display_name": ".NET (C#)",
   "language": "C#",
   "name": ".net-csharp"
  },
  "language_info": {
   "name": "python"
  },
  "polyglot_notebook": {
   "kernelInfo": {
    "defaultKernelName": "csharp",
    "items": [
     {
      "aliases": [],
      "name": "csharp"
     }
    ]
   }
  }
 },
 "nbformat": 4,
 "nbformat_minor": 2
}
