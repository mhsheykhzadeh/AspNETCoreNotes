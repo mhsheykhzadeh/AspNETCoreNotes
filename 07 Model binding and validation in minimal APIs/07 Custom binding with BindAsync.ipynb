{
 "cells": [
  {
   "cell_type": "markdown",
   "metadata": {},
   "source": [
    "if you want to `encapsulate the logic for extracting` the data from httpcontext, you can implementing `BindAsync` in your **endpoint handler parameter types**"
   ]
  },
  {
   "cell_type": "code",
   "execution_count": null,
   "metadata": {
    "dotnet_interactive": {
     "language": "csharp"
    },
    "polyglot_notebook": {
     "kernelName": "csharp"
    },
    "vscode": {
     "languageId": "polyglot-notebook"
    }
   },
   "outputs": [],
   "source": [
    "public static ValueTask<T> BindAsync(HttpContext context)\n",
    "\n",
    "public static ValueTask<T> BindAsync(HttpContext context, ParameterInfo parameter)\n"
   ]
  },
  {
   "cell_type": "code",
   "execution_count": null,
   "metadata": {
    "dotnet_interactive": {
     "language": "csharp"
    },
    "polyglot_notebook": {
     "kernelName": "csharp"
    },
    "vscode": {
     "languageId": "polyglot-notebook"
    }
   },
   "outputs": [],
   "source": [
    "public class ProductId\n",
    "{\n",
    "    public string Id { get; set; }\n",
    "\n",
    "    public static ValueTask<ProductId> BindAsync(HttpContext context, ParameterInfo parameter)\n",
    "    {\n",
    "        // بایندینگ از مسیر (route) یا query string\n",
    "        var routeValues = context.Request.RouteValues;\n",
    "        if (routeValues.TryGetValue(parameter.Name, out var value))\n",
    "        {\n",
    "            return new ValueTask<ProductId>(new ProductId { Id = value.ToString() });\n",
    "        }\n",
    "\n",
    "        // بایندینگ از query string\n",
    "        if (context.Request.Query.TryGetValue(parameter.Name, out var queryValue))\n",
    "        {\n",
    "            return new ValueTask<ProductId>(new ProductId { Id = queryValue });\n",
    "        }\n",
    "\n",
    "        // بایندینگ ناموفق\n",
    "        return new ValueTask<ProductId>(Task.FromException<ProductId>(new ArgumentException($\"Unable to bind {parameter.Name}\")));\n",
    "    }\n",
    "}\n",
    "\n",
    "app.MapGet(\"/product/{id}\", async (ProductId id) =>\n",
    "{\n",
    "    return $\"Received product ID: {id.Id}\";\n",
    "});\n",
    "\n"
   ]
  },
  {
   "cell_type": "code",
   "execution_count": null,
   "metadata": {
    "dotnet_interactive": {
     "language": "csharp"
    },
    "polyglot_notebook": {
     "kernelName": "csharp"
    },
    "vscode": {
     "languageId": "polyglot-notebook"
    }
   },
   "outputs": [],
   "source": [
    "public record SizeDetails(double height, double width)\n",
    "{\n",
    "    public static async ValueTask<SizeDetails?> BindAsync(\n",
    "        HttpContext context)\n",
    "    {\n",
    "        using var sr = new StreamReader(context.Request.Body);\n",
    "\n",
    "        string? line1 = await sr.ReadLineAsync(context.RequestAborted);\n",
    "        if (line1 is null) { return null; }\n",
    "\n",
    "        string? line2 = await sr.ReadLineAsync(context.RequestAborted);\n",
    "        if (line2 is null) { return null; }\n",
    "\n",
    "        return double.TryParse(line1, out double height)\n",
    "            && double.TryParse(line2, out double width)\n",
    "                ? new SizeDetails(height, width)\n",
    "                : null;\n",
    "    }\n",
    "}"
   ]
  }
 ],
 "metadata": {
  "kernelspec": {
   "display_name": ".NET (C#)",
   "language": "C#",
   "name": ".net-csharp"
  },
  "language_info": {
   "name": "python"
  },
  "polyglot_notebook": {
   "kernelInfo": {
    "defaultKernelName": "csharp",
    "items": [
     {
      "aliases": [],
      "name": "csharp"
     }
    ]
   }
  }
 },
 "nbformat": 4,
 "nbformat_minor": 2
}
