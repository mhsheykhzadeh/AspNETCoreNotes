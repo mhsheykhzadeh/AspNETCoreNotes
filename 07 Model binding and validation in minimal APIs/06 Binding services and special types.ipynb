{
 "cells": [
  {
   "cell_type": "markdown",
   "metadata": {
    "dotnet_interactive": {
     "language": "csharp"
    },
    "polyglot_notebook": {
     "kernelName": "csharp"
    }
   },
   "source": [
    "### Injecting well-known types"
   ]
  },
  {
   "cell_type": "markdown",
   "metadata": {},
   "source": [
    "that is, **hard-coded types** that ASP.NET Core knows about, such as `HttpContext` and `HttpRequest`"
   ]
  },
  {
   "cell_type": "code",
   "execution_count": null,
   "metadata": {
    "dotnet_interactive": {
     "language": "csharp"
    },
    "polyglot_notebook": {
     "kernelName": "csharp"
    },
    "vscode": {
     "languageId": "polyglot-notebook"
    }
   },
   "outputs": [],
   "source": [
    "app.MapGet(\"/\", (HttpContext context) => \"Hello world!\");"
   ]
  },
  {
   "cell_type": "markdown",
   "metadata": {},
   "source": [
    "You can use the following well-known types in your minimal API endpoint handlers\n",
    "- `HttpContext`\n",
    "- `HttpRequest` : Equivalent to the property `HttpContext.Request`,\n",
    "- `HttpResponse` : Equivalent to the property `HttpContext.Response`\n",
    "- `CancellationToken` : Equivalent to the property `HttpContext.RequestAborted`, this token is canceled if the client aborts the request.\n",
    "- `ClaimsPrincipal` : Equivalent to the property `HttpContext.User`\n",
    "- `Stream` : Equivalent to the property HttpRequest.Body\n",
    "- `PipeReader` : Equivalent to the property HttpContext.BodyReader"
   ]
  },
  {
   "cell_type": "markdown",
   "metadata": {},
   "source": [
    "<div dir=\"rtl\" style=\"margin:auto; width:90%; font-family:vazirmatn;\">\n",
    "<h5>Stream</h5>\n",
    "<p><code>Stream</code> معادل ویژگی <code>HttpRequest.Body</code> است. این پارامتر به شی <code>Stream</code> موجود در درخواست اشاره می‌کند. استفاده از <code>Stream</code> برای زمانی مناسب است که نیاز دارید داده‌های ورودی را به صورت تدریجی و کارآمد پردازش کنید، به خصوص زمانی که داده‌ها بسیار بزرگ هستند و نمی‌خواهید تمام آنها را به صورت یکجا در حافظه نگه دارید.</p>\n",
    "</div>"
   ]
  },
  {
   "cell_type": "code",
   "execution_count": null,
   "metadata": {
    "dotnet_interactive": {
     "language": "csharp"
    },
    "polyglot_notebook": {
     "kernelName": "csharp"
    },
    "vscode": {
     "languageId": "polyglot-notebook"
    }
   },
   "outputs": [],
   "source": [
    "app.MapPost(\"/upload\", async (Stream stream) =>\n",
    "{\n",
    "    // پردازش داده‌های ورودی به صورت تدریجی از طریق Stream\n",
    "    // مثلا خواندن داده‌ها و ذخیره آنها در فایل یا پایگاه داده\n",
    "});\n"
   ]
  },
  {
   "cell_type": "markdown",
   "metadata": {},
   "source": [
    "<div dir=\"rtl\" style=\"margin:auto; width:90%; font-family:vazirmatn;\">\n",
    "<h5>PipeReader</h5>\n",
    "<p><code>PipeReader</code> معادل ویژگی <code>HttpContext.BodyReader</code> است. این کلاس یک API سطح بالاتر در مقایسه با <code>Stream</code> ارائه می‌دهد و برای سناریوهای مشابه به کار می‌رود. <code>PipeReader</code> به شما این امکان را می‌دهد که داده‌های ورودی را با استفاده از رویکردهای پیشرفته‌تر و کارآمدتر پردازش کنید.</p>\n",
    "</div>"
   ]
  },
  {
   "cell_type": "code",
   "execution_count": null,
   "metadata": {
    "dotnet_interactive": {
     "language": "csharp"
    },
    "polyglot_notebook": {
     "kernelName": "csharp"
    },
    "vscode": {
     "languageId": "polyglot-notebook"
    }
   },
   "outputs": [],
   "source": [
    "app.MapPost(\"/upload\", async (PipeReader pipe) =>\n",
    "{\n",
    "    // پردازش داده‌های ورودی به صورت تدریجی از طریق Stream\n",
    "    // مثلا خواندن داده‌ها و ذخیره آنها در فایل یا پایگاه داده\n",
    "});\n"
   ]
  },
  {
   "cell_type": "markdown",
   "metadata": {},
   "source": [
    "<div dir=\"rtl\" style=\"margin:auto; width:90%; font-family:vazirmatn;\">\n",
    "<h5>تفاوت‌های کلیدی بین Stream و PipeReader</h5>\n",
    "<ol><li><p><strong>سطح API:</strong></p><ul><li><code>Stream</code>: یک API سطح پایین‌تر ارائه می‌دهد و بیشتر برای خواندن و نوشتن مستقیم داده‌ها استفاده می‌شود.</li><li><code>PipeReader</code>: یک API سطح بالاتر ارائه می‌دهد و قابلیت‌های بیشتری برای پردازش داده‌ها به صورت کارآمد و پیشرفته دارد.</li></ul></li><li><p><strong>کاربرد:</strong></p><ul><li><code>Stream</code>: مناسب برای سناریوهای ساده‌تر که نیاز به پردازش داده‌ها به صورت تدریجی و مستقیم دارند.</li><li><code>PipeReader</code>: مناسب برای سناریوهای پیچیده‌تر که نیاز به پردازش داده‌ها با استفاده از رویکردهای پیشرفته‌تر دارند.</li></ul></li></ol>\n",
    "</div>"
   ]
  },
  {
   "cell_type": "markdown",
   "metadata": {},
   "source": [
    "### Injecting services"
   ]
  },
  {
   "cell_type": "markdown",
   "metadata": {},
   "source": [
    "You can ***automatically*** use `any registered service` in your endpoint handlers"
   ]
  },
  {
   "cell_type": "code",
   "execution_count": null,
   "metadata": {
    "dotnet_interactive": {
     "language": "csharp"
    },
    "polyglot_notebook": {
     "kernelName": "csharp"
    },
    "vscode": {
     "languageId": "polyglot-notebook"
    }
   },
   "outputs": [],
   "source": [
    "//LinkGenerator is one of the core services registered by WebApplicationBuilder\n",
    "\n",
    "app.MapGet(\"/links\", (LinkGenerator links) =>\n",
    "{\n",
    "    string link = links.GetPathByName(\"products\");\n",
    "    return $\"View the product at {link}\";\n",
    "});"
   ]
  },
  {
   "cell_type": "markdown",
   "metadata": {},
   "source": [
    "Minimal APIs can ***automatically detect*** when a service is available in the DI container, but if you want to be explicit, you can also decorate your parameters with the `[FromServices]` attribute"
   ]
  },
  {
   "cell_type": "code",
   "execution_count": null,
   "metadata": {
    "dotnet_interactive": {
     "language": "csharp"
    },
    "polyglot_notebook": {
     "kernelName": "csharp"
    },
    "vscode": {
     "languageId": "polyglot-notebook"
    }
   },
   "outputs": [],
   "source": [
    "app.MapGet(\"/links\", ([FromServices] LinkGenerator links) =>\n",
    "{\n",
    "    string link = links.GetPathByName(\"products\");\n",
    "    return $\"View the product at {link}\";\n",
    "});"
   ]
  },
  {
   "cell_type": "markdown",
   "metadata": {},
   "source": [
    "### Binding file uploads with `IFormFile` and `IFormFileCollection`"
   ]
  },
  {
   "cell_type": "markdown",
   "metadata": {},
   "source": [
    "ASP.NET Core supports uploading files by exposing the `IFormFile` interface."
   ]
  },
  {
   "cell_type": "code",
   "execution_count": null,
   "metadata": {
    "dotnet_interactive": {
     "language": "csharp"
    },
    "polyglot_notebook": {
     "kernelName": "csharp"
    },
    "vscode": {
     "languageId": "polyglot-notebook"
    }
   },
   "outputs": [],
   "source": [
    "app.MapGet(\"/upload\", (IFormFile file) => {}); //single file"
   ]
  },
  {
   "cell_type": "code",
   "execution_count": null,
   "metadata": {
    "dotnet_interactive": {
     "language": "csharp"
    },
    "polyglot_notebook": {
     "kernelName": "csharp"
    },
    "vscode": {
     "languageId": "polyglot-notebook"
    }
   },
   "outputs": [],
   "source": [
    "app.MapGet(\"/upload\", (IFormFileCollection files) => // multiple files\n",
    "{\n",
    "    foreach (IFormFile file in files)\n",
    "    {\n",
    "    }\n",
    "});"
   ]
  },
  {
   "cell_type": "code",
   "execution_count": null,
   "metadata": {
    "dotnet_interactive": {
     "language": "csharp"
    },
    "polyglot_notebook": {
     "kernelName": "csharp"
    },
    "vscode": {
     "languageId": "polyglot-notebook"
    }
   },
   "outputs": [],
   "source": [
    "public interface IFormFile\n",
    "{\n",
    "    string ContentType { get; }\n",
    "    long Length { get; }\n",
    "    string FileName { get; }\n",
    "    Stream OpenReadStream();\n",
    "}"
   ]
  }
 ],
 "metadata": {
  "kernelspec": {
   "display_name": ".NET (C#)",
   "language": "C#",
   "name": ".net-csharp"
  },
  "language_info": {
   "name": "python"
  },
  "polyglot_notebook": {
   "kernelInfo": {
    "defaultKernelName": "csharp",
    "items": [
     {
      "aliases": [],
      "name": "csharp"
     }
    ]
   }
  }
 },
 "nbformat": 4,
 "nbformat_minor": 2
}
