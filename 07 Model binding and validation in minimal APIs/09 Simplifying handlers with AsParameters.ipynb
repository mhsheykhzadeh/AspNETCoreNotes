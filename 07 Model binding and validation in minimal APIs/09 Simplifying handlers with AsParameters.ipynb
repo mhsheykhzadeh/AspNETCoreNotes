{
 "cells": [
  {
   "cell_type": "markdown",
   "metadata": {},
   "source": [
    "if handler of minimal Api have **multiple of parameter**, that not sutiable for clean code, you can use `AsParameters` attribute, to ***manage parameters***"
   ]
  },
  {
   "cell_type": "code",
   "execution_count": null,
   "metadata": {
    "dotnet_interactive": {
     "language": "csharp"
    },
    "polyglot_notebook": {
     "kernelName": "csharp"
    },
    "vscode": {
     "languageId": "polyglot-notebook"
    }
   },
   "outputs": [],
   "source": [
    "WebApplicationBuilder builder = WebApplication.CreateBuilder(args);\n",
    "\n",
    "WebApplication app = builder.Build();\n",
    "\n",
    "app.MapGet(\"/category/{id}\",\n",
    "    ([AsParameters] SearchModel model) => $\"Received {model}\"); \n",
    "    \n",
    "app.Run();\n",
    "\n",
    "\n",
    "record struct SearchModel(\n",
    "    int id, \n",
    "    int page, \n",
    "    [FromHeader(Name = \"sort\")] bool? sortAsc,\n",
    "    [FromQuery(Name = \"q\")] string search);"
   ]
  }
 ],
 "metadata": {
  "kernelspec": {
   "display_name": ".NET (C#)",
   "language": "C#",
   "name": ".net-csharp"
  },
  "language_info": {
   "name": "python"
  },
  "polyglot_notebook": {
   "kernelInfo": {
    "defaultKernelName": "csharp",
    "items": [
     {
      "aliases": [],
      "name": "csharp"
     }
    ]
   }
  }
 },
 "nbformat": 4,
 "nbformat_minor": 2
}
