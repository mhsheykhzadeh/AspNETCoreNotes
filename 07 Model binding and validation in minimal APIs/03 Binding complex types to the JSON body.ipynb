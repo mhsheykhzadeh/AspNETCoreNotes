{
 "cells": [
  {
   "cell_type": "markdown",
   "metadata": {
    "dotnet_interactive": {
     "language": "csharp"
    },
    "polyglot_notebook": {
     "kernelName": "csharp"
    }
   },
   "source": [
    "***Minimal APIs*** can bind the `body of a request` to a `single complex type` in your endpoint handler by ***deserializing the request from JSON***."
   ]
  },
  {
   "cell_type": "code",
   "execution_count": null,
   "metadata": {
    "dotnet_interactive": {
     "language": "csharp"
    },
    "polyglot_notebook": {
     "kernelName": "csharp"
    },
    "vscode": {
     "languageId": "polyglot-notebook"
    }
   },
   "outputs": [],
   "source": [
    "WebApplicationBuilder builder = WebApplication.CreateBuilder(args);\n",
    "WebApplication app = builder.Build();\n",
    "\n",
    "app.MapPost(\"/product\", (Product product) => $\"Received {product}\");\n",
    "\n",
    "app.Run();\n",
    "\n",
    "record Product(int Id, string Name, int Stock);"
   ]
  },
  {
   "cell_type": "code",
   "execution_count": null,
   "metadata": {
    "dotnet_interactive": {
     "language": "http"
    },
    "polyglot_notebook": {
     "kernelName": "http"
    },
    "vscode": {
     "languageId": "polyglot-notebook"
    }
   },
   "outputs": [],
   "source": [
    "### Post product\n",
    "POST https://localhost:7075/product\n",
    "Content-Type: application/json\n",
    "\n",
    "{\n",
    "    \"Id\": 1,\n",
    "    \"Name\":\"Shoes\",\n",
    "    \"Stock\": 10\n",
    "}"
   ]
  },
  {
   "cell_type": "markdown",
   "metadata": {},
   "source": [
    "***ASP.NET Core*** uses the **built-in** `System.Text.Json` library to **deserialize** the JSON into a Product instance"
   ]
  },
  {
   "cell_type": "markdown",
   "metadata": {},
   "source": [
    "The ***System.Text.Json*** library, introduced in `.NET Core 3.0`, provides a `highperformance`, `low-allocation` JSON serialization library."
   ]
  },
  {
   "cell_type": "markdown",
   "metadata": {},
   "source": [
    "***Minimal APIs*** use ***System.Text.Json*** for both `JSON deserialization` (when `binding to a request’s body`) and `serialization` (when `writing results`).  \n",
    "you `can’t replace` the JSON serialization library used by minimal APIs"
   ]
  }
 ],
 "metadata": {
  "kernelspec": {
   "display_name": ".NET (C#)",
   "language": "C#",
   "name": ".net-csharp"
  },
  "language_info": {
   "name": "python"
  },
  "polyglot_notebook": {
   "kernelInfo": {
    "defaultKernelName": "csharp",
    "items": [
     {
      "aliases": [],
      "name": "csharp"
     }
    ]
   }
  }
 },
 "nbformat": 4,
 "nbformat_minor": 2
}
