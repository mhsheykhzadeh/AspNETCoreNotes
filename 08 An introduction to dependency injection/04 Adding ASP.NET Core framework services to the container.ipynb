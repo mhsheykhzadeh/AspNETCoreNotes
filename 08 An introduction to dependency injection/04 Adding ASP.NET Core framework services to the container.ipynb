{
 "cells": [
  {
   "cell_type": "markdown",
   "metadata": {},
   "source": [
    "***ASP.NET Core*** uses `DI` to configure both its ***internal components***, such as the `Kestrel web server`, and ***extra features***, such as `Razor Pages` Or `Controllers`."
   ]
  },
  {
   "cell_type": "markdown",
   "metadata": {},
   "source": [
    "You ***register*** these services with the `Services` property on the `WebApplicationBuilder` instance in ***Program.cs***."
   ]
  },
  {
   "cell_type": "markdown",
   "metadata": {},
   "source": [
    "Most of the `core services` are ***registered automatically*** by `WebApplicationBuilder`, and you don’t need to do anything else."
   ]
  },
  {
   "cell_type": "markdown",
   "metadata": {},
   "source": [
    "All the `common libraries` you use expose ***handy extension methods*** to take care of the nitty-gritty details."
   ]
  },
  {
   "cell_type": "code",
   "execution_count": null,
   "metadata": {
    "dotnet_interactive": {
     "language": "csharp"
    },
    "polyglot_notebook": {
     "kernelName": "csharp"
    },
    "vscode": {
     "languageId": "polyglot-notebook"
    }
   },
   "outputs": [],
   "source": [
    "var builder = WebApplication.CreateBuilder(args); \n",
    "//automatically register core Services\n",
    "\n",
    "builder.Services.AddControllers();\n",
    "//register controllers with extension method\n",
    "\n",
    "//explain extension methods of clean architect of layers"
   ]
  },
  {
   "cell_type": "markdown",
   "metadata": {},
   "source": [
    "***By convention***, each library that has **necessary services** should expose an `Add*() extension` method that you can call on WebApplicationBuilder.Services."
   ]
  }
 ],
 "metadata": {
  "kernelspec": {
   "display_name": ".NET (C#)",
   "language": "C#",
   "name": ".net-csharp"
  },
  "language_info": {
   "name": "python"
  },
  "polyglot_notebook": {
   "kernelInfo": {
    "defaultKernelName": "csharp",
    "items": [
     {
      "aliases": [],
      "name": "csharp"
     }
    ]
   }
  }
 },
 "nbformat": 4,
 "nbformat_minor": 2
}
