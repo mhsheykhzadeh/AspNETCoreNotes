{
 "cells": [
  {
   "cell_type": "markdown",
   "metadata": {},
   "source": [
    "In a **minimal API application**, you have two main ways to ***access services*** from the ***DI container***:\n",
    "- `Inject` services into an endpoint `handler`.\n",
    "- Access the `DI container` ***directly*** in `Program.cs`."
   ]
  },
  {
   "cell_type": "code",
   "execution_count": null,
   "metadata": {
    "dotnet_interactive": {
     "language": "csharp"
    },
    "polyglot_notebook": {
     "kernelName": "csharp"
    },
    "vscode": {
     "languageId": "polyglot-notebook"
    }
   },
   "outputs": [],
   "source": [
    "//first approch\n",
    "\n",
    "app.MapGet(\"/links\", (LinkGenerator links) => #A\n",
    "{\n",
    "    string link = links.GetPathByName(\"products\");\n",
    "    return $\"View the product at {link}\";\n",
    "});"
   ]
  },
  {
   "cell_type": "markdown",
   "metadata": {},
   "source": [
    "`RequestDelegateFactory` asks the `DI container` to provice instance of `LinkGenerator` .  \n",
    "The ***DI container*** either creates a `new instance` of LinkGenerator (or `reuses an existing` one) and\n",
    "returns it to `RequestDelegateFactory`. Then the LinkGenerator is passed as an argument to ***invoke*** the endpoint handler"
   ]
  },
  {
   "cell_type": "markdown",
   "metadata": {},
   "source": [
    "**DI container** creates an entire `dependency graph`.  \n",
    "When the DI container ***creates the LinkGenerator***, it ***first creates all the service’s dependencies*** and `uses them` to create the final `LinkGenerator instance`."
   ]
  },
  {
   "cell_type": "markdown",
   "metadata": {},
   "source": [
    "sometimes you ***need to access a service*** `outside` the ***context of a request***. for example in `BackgroundServices` of `some configuration of database`"
   ]
  },
  {
   "cell_type": "markdown",
   "metadata": {},
   "source": [
    "you can ***retrieve services*** from the DI container `directly` by using the\n",
    "`WebApplication.Services` property, which exposes the container as an `IServiceProvider`."
   ]
  },
  {
   "cell_type": "code",
   "execution_count": null,
   "metadata": {
    "dotnet_interactive": {
     "language": "csharp"
    },
    "polyglot_notebook": {
     "kernelName": "csharp"
    },
    "vscode": {
     "languageId": "polyglot-notebook"
    }
   },
   "outputs": [],
   "source": [
    "WebApplicationBuilder builder = WebApplication.CreateBuilder(args);\n",
    "\n",
    "WebApplication app = builder.Build();\n",
    "\n",
    "app.MapGet(\"/\", () => \"Hello World!\");\n",
    "\n",
    "LinkGenerator links =\n",
    "    app.Services.GetRequiredService<LinkGenerator>(); // just there\n",
    "\n",
    "app.Run();"
   ]
  },
  {
   "cell_type": "markdown",
   "metadata": {},
   "source": [
    "The `IServiceProvider` acts as a ***service locator***, so you can request services\n",
    "from it **directly** by using `GetService()` and `GetRequiredService()`:  \n",
    "- `GetService<T>()`—Returns the requested service `T` if it is available in\n",
    "the DI container; otherwise, `returns null`    \n",
    "  \n",
    "- `GetRequiredService<T>()`—Returns the requested service `T` if it is\n",
    "available in the DI container; otherwise, `throws an InvalidOperationException`"
   ]
  },
  {
   "cell_type": "markdown",
   "metadata": {},
   "source": [
    "***This approach***, in which you ***call the DI container directly*** to ask for a class, is called the `service locator pattern`.   \n",
    "you should try to `avoid` this pattern in your code"
   ]
  }
 ],
 "metadata": {
  "kernelspec": {
   "display_name": ".NET (C#)",
   "language": "C#",
   "name": ".net-csharp"
  },
  "language_info": {
   "name": "python"
  },
  "polyglot_notebook": {
   "kernelInfo": {
    "defaultKernelName": "csharp",
    "items": [
     {
      "aliases": [],
      "name": "csharp"
     }
    ]
   }
  }
 },
 "nbformat": 4,
 "nbformat_minor": 2
}
