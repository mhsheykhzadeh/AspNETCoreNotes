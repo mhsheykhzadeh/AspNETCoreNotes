{
 "cells": [
  {
   "cell_type": "markdown",
   "metadata": {},
   "source": [
    "Every ***ASP.NET Core application*** has a ***built-in web server***—`Kestrel`, by default—that is **responsible** for `receiving raw requests` and `constructing` an internal representation of the data, an `HttpContext` objec  \n",
    "  \n",
    "***Your application*** can use the `details stored in HttpContext` to generate an appropriate response to the request"
   ]
  },
  {
   "cell_type": "markdown",
   "metadata": {},
   "source": [
    "When the ***application*** `finishes processing` the ***request*** it returns the response to the `web server`. The ***ASP.NET Core web server*** `converts` the representation to a `raw HTTP response` and sends it"
   ]
  }
 ],
 "metadata": {
  "kernelspec": {
   "display_name": ".NET (C#)",
   "language": "C#",
   "name": ".net-csharp"
  },
  "language_info": {
   "name": "python"
  },
  "polyglot_notebook": {
   "kernelInfo": {
    "defaultKernelName": "csharp",
    "items": [
     {
      "aliases": [],
      "name": "csharp"
     }
    ]
   }
  }
 },
 "nbformat": 4,
 "nbformat_minor": 2
}
