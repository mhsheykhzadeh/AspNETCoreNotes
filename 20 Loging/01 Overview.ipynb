{
 "cells": [
  {
   "cell_type": "markdown",
   "metadata": {},
   "source": [
    "<div dir=\"rtl\" style=\"margin:auto; width:90%; font-family:vazirmatn\">\n",
    "<p>Logging یا ثبت وقایع، یکی از اجزای اساسی در توسعه نرم‌افزار است که به شما کمک می‌کند رفتار برنامه را در زمان اجرا مشاهده و مشکلات آن را شناسایی کنید. در ASP.NET Core، سیستم Logging یکپارچه و قدرتمندی ارائه شده است که به شما امکان می‌دهد اطلاعات مرتبط با عملکرد برنامه، اشکالات، و رفتار غیرمنتظره را ثبت کنید.</p>\n",
    "\n",
    "<h3><strong>چرا Logging مهم است؟</strong></h3>\n",
    "<ol><li><strong>دیباگ کردن و رفع اشکال:</strong> مشاهده خطاها و مشکلاتی که در محیط تولید رخ می‌دهند.</li><li><strong>مانیتورینگ و تحلیل:</strong> بررسی عملکرد سیستم و یافتن نقاط گلوگاه (Bottlenecks).</li><li><strong>پشتیبانی و نگهداری:</strong> فراهم کردن داده‌های مفید برای تیم‌های توسعه و پشتیبانی.</li><li><strong>پیگیری امنیت:</strong> شناسایی و پیگیری تلاش‌های غیرمجاز و حملات.</li></ol>\n",
    "\n",
    "</h3><p>یک لاگ مؤثر ابزاری است که به تیم توسعه و پشتیبانی کمک می‌کند تا مشکلات نرم‌افزار را به سرعت شناسایی و برطرف کنند. برای اینکه یک لاگ کاربردی و مؤثر باشد، باید دارای ویژگی‌های زیر باشد:</p><hr><h3><strong>1. شفاف و قابل فهم بودن</strong></h3><p>پیام‌های لاگ باید به‌گونه‌ای نوشته شوند که برای افراد خوانا و قابل فهم باشند. استفاده از توضیحات واضح و مختصر که به‌طور دقیق نشان‌دهنده رخداد یا خطا باشد، ضروری است. ابهام در لاگ‌ها می‌تواند باعث سردرگمی و اتلاف زمان شود.</p><hr><h3><strong>2. ارائه اطلاعات مرتبط</strong></h3><p>لاگ‌ها باید شامل اطلاعات کافی باشند تا بتوان شرایط و علل بروز مشکل را به‌خوبی تحلیل کرد. این اطلاعات می‌توانند شامل زمان وقوع (تایم‌استمپ)، مکان دقیق رخداد (مانند بخشی از سیستم یا فرآیند مرتبط)، و جزئیات علت مشکل باشند.</p><hr><h3><strong>3. استفاده از سطوح لاگ مناسب</strong></h3><p>هر لاگ باید براساس اهمیت و حساسیت رخداد دسته‌بندی شود. استفاده صحیح از سطوح لاگ (مانند Trace، Debug، Information، Warning، Error، Critical) به تحلیل راحت‌تر لاگ‌ها کمک می‌کند. برای مثال:</p><ul><li>اطلاعات عادی در سطح <strong>Information</strong> ثبت می‌شوند.</li><li>هشدارها یا مشکلات بالقوه در سطح <strong>Warning</strong> ثبت می‌شوند.</li><li>خطاهای واقعی که عملکرد سیستم را مختل می‌کنند در سطح <strong>Error</strong> یا <strong>Critical</strong> ثبت می‌شوند.</li></ul><hr><h3><strong>4. ارائه زمینه (Context)</strong></h3><p>یک لاگ مؤثر باید نشان دهد که رخداد مورد نظر در چه شرایطی اتفاق افتاده است. این شامل اطلاعاتی مانند شناسه کاربر، شناسه درخواست، یا داده‌های مرتبط با عملیات جاری است. این اطلاعات به شناسایی بهتر منبع مشکل کمک می‌کنند.</p><hr><h3><strong>5. جزئیات کافی برای خطاها</strong></h3><p>وقتی یک خطا رخ می‌دهد، لاگ باید اطلاعات کاملی در مورد آن ارائه دهد، از جمله توضیح خطا، علت اصلی آن، و جزئیات جریان اجرای برنامه که به این خطا منجر شده است. این جزئیات می‌توانند درک بهتری از خطا فراهم کنند.</p><hr><h3><strong>6. حفظ امنیت اطلاعات</strong></h3><p>لاگ‌ها نباید حاوی اطلاعات حساس یا محرمانه باشند. اطلاعاتی مانند رمز عبور، اطلاعات کارت اعتباری یا داده‌های شخصی باید از لاگ‌ها حذف شده یا رمزنگاری شوند تا از سوءاستفاده احتمالی جلوگیری شود.</p><hr><h3><strong>7. قابلیت جستجو و فیلتر کردن</strong></h3><p>لاگ‌ها باید به گونه‌ای ثبت شوند که امکان جستجو و تحلیل آن‌ها وجود داشته باشد. ساختاردهی استاندارد به لاگ‌ها این امکان را می‌دهد که به‌راحتی براساس فاکتورهایی مانند زمان، سطح لاگ، یا بخش‌های سیستم فیلتر شوند.</p><hr><h3><strong>8. یکپارچگی با ابزارهای مانیتورینگ</strong></h3><p>لاگ‌ها باید با ابزارهای مانیتورینگ و تحلیل سازگار باشند. این ابزارها می‌توانند به جمع‌آوری، پردازش، و نمایش لاگ‌ها کمک کنند تا تیم‌های فنی بتوانند دید کاملی از وضعیت سیستم به‌دست آورند.</p><hr><h3><strong>9. حداقل تأثیر بر عملکرد برنامه</strong></h3><p>فرآیند ثبت لاگ نباید باعث کاهش سرعت یا کارایی سیستم شود. استفاده از روش‌های بهینه مانند ثبت لاگ‌های غیرهمگام می‌تواند از تأثیر منفی بر عملکرد جلوگیری کند.</p><hr><h3><strong>نتیجه‌گیری</strong></h3><p>یک لاگ مؤثر باید بتواند به سوالات کلیدی پاسخ دهد: \"چه اتفاقی افتاده؟\"، \"کجا اتفاق افتاده؟\"، \"چرا اتفاق افتاده؟\" و \"چگونه می‌توان آن را برطرف کرد؟\". با رعایت این اصول، لاگ‌ها به ابزاری ارزشمند برای توسعه و پشتیبانی سیستم تبدیل می‌شوند و کمک می‌کنند تا مشکلات با کمترین هزینه و در سریع‌ترین زمان ممکن برطرف شوند.</p>\n",
    "</div>"
   ]
  },
  {
   "cell_type": "markdown",
   "metadata": {},
   "source": [
    "<div dir=\"rtl\" style=\"margin:auto; width:90%; font-family:vazirmatn\">\n",
    "<p> <code>ASP.NET Core</code> برخی از اطلاعات ضروری برای لاگ‌ها را به صورت پیش‌فرض در اختیار شما قرار می‌دهد. این اطلاعات توسط زیرساخت Logging داخلی این فریمورک فراهم شده و در بسیاری از موارد نیاز به تنظیمات دستی ندارد. در ادامه، برخی از این امکانات را توضیح می‌دهم:</p>\n",
    "\n",
    "<h3><strong>1. اطلاعات پیش‌فرض لاگ در ASP.NET Core</strong></h3>\n",
    "<ol><li><p><strong>زمان وقوع (Timestamp):</strong></p><ul><li>هر لاگ ثبت‌شده به صورت پیش‌فرض دارای مهر زمانی است که نشان می‌دهد رخداد در چه زمانی ثبت شده است.</li></ul></li><li><p><strong>سطح لاگ (Log Level):</strong></p><ul><li>سطوح استاندارد مانند Trace، Debug، Information، Warning، Error، و Critical به صورت پیش‌فرض در ASP.NET Core تعریف شده‌اند و شما می‌توانید از آن‌ها برای دسته‌بندی لاگ‌ها استفاده کنید.</li></ul></li><li><p><strong>منبع (Source):</strong></p><ul><li>سیستم Logging به صورت خودکار منبع تولید لاگ را مشخص می‌کند. این معمولاً شامل نام کلاس یا نام بخشی از سیستم است که لاگ از آنجا تولید شده است. به عنوان مثال، وقتی از <code>ILogger&lt;MyClass&gt;</code> استفاده می‌کنید، نام <code>MyClass</code> به عنوان منبع ثبت می‌شود.</li></ul></li><li><p><strong>شناسه درخواست (Request ID):</strong></p><ul><li>ASP.NET Core به صورت پیش‌فرض یک شناسه یکتا برای هر درخواست (Request ID) تولید می‌کند. این شناسه می‌تواند به شما کمک کند که لاگ‌های مربوط به یک درخواست خاص را ردیابی کنید.</li></ul></li><li><p><strong>اطلاعات مربوط به درخواست (Request Info):</strong></p><ul><li>شامل اطلاعاتی نظیر مسیر درخواست (Request Path)، متد HTTP (GET, POST, etc.)، و وضعیت پاسخ (Status Code). این اطلاعات به صورت پیش‌فرض توسط Middlewareهای لاگ (مثل <code>Developer Exception Page</code> یا <code>Logging Middleware</code>) ثبت می‌شوند.</li></ul></li><li><p><strong>مدیریت استثناها (Exception Logging):</strong></p><ul><li>در صورت وقوع خطا، جزئیات استثنا (Exception) به همراه Stack Trace در لاگ ثبت می‌شود. این اطلاعات به شما کمک می‌کند تا منبع خطا را شناسایی کنید.</li></ul></li></ol>\n",
    "\n",
    "<h3><strong>2. ارائه‌دهندگان پیش‌فرض در ASP.NET Core</strong></h3>\n",
    "<p>ASP.NET Core چندین ارائه‌دهنده (Provider) برای مدیریت و ثبت لاگ‌ها فراهم می‌کند که به صورت پیش‌فرض فعال هستند:</p>\n",
    "<ul><li><strong>Console:</strong> لاگ‌ها را در کنسول نمایش می‌دهد.</li><li><strong>Debug:</strong> لاگ‌ها را به دیباگر سیستم ارسال می‌کند.</li><li><strong>EventLog:</strong> در ویندوز لاگ‌ها را در Event Viewer ثبت می‌کند (برای سیستم‌عامل‌های ویندوز).</li><li><strong>TraceSource:</strong> برای ارسال لاگ‌ها به سیستم‌های Trace.</li><li><strong>EventSource:</strong> ارسال لاگ به Event Tracing for Windows (ETW).</li></ul>\n",
    "</div>"
   ]
  },
  {
   "cell_type": "markdown",
   "metadata": {},
   "source": [
    "### Log Levels"
   ]
  },
  {
   "cell_type": "markdown",
   "metadata": {},
   "source": [
    "<div dir=\"rtl\" style=\"margin:auto; width:90%; font-family:vazirmatn\">\n",
    "<p>در سیستم‌های Logging، <strong>سطوح لاگ (Log Levels)</strong> برای طبقه‌بندی اهمیت و نوع پیام‌ها استفاده می‌شوند. این سطوح به تیم‌ها کمک می‌کنند تا پیام‌ها را بر اساس اولویت و نیاز تحلیل کنند. سطوح رایج عبارت‌اند از:</p><hr><h3>1. <strong>Trace (ردیابی)</strong></h3><p>این سطح پایین‌ترین سطح لاگ است و جزئی‌ترین اطلاعات درباره جریان اجرای برنامه را ثبت می‌کند. معمولاً برای عیب‌یابی دقیق در مراحل توسعه استفاده می‌شود.</p><hr><h3>2. <strong>Debug (اشکال‌زدایی)</strong></h3><p>این سطح برای ارائه اطلاعات مفید به توسعه‌دهندگان جهت بررسی و اشکال‌زدایی منطق برنامه به کار می‌رود. در محیط‌های تولید کمتر از این سطح استفاده می‌شود.</p><hr><h3>3. <strong>Information (اطلاعاتی)</strong></h3><p>سطح اطلاعاتی برای ثبت رویدادهای عادی برنامه، مانند شروع یا پایان یک عملیات، به کار می‌رود. این سطح نشان‌دهنده جریان عادی و موفقیت‌آمیز برنامه است.</p><hr><h3>4. <strong>Warning (هشدار)</strong></h3><p>این سطح برای ثبت هشدارهایی است که ممکن است مشکلی بالقوه را نشان دهند اما عملکرد کلی برنامه تحت تأثیر قرار نگرفته است. این هشدارها می‌توانند به شناسایی مشکلات قبل از وقوع خطا کمک کنند.</p><hr><h3>5. <strong>Error (خطا)</strong></h3><p>این سطح برای ثبت خطاهایی استفاده می‌شود که باعث شکست یک عملیات خاص شده‌اند، اما برنامه همچنان به کار خود ادامه می‌دهد. این خطاها نیاز به بررسی فوری دارند.</p><hr><h3>6. <strong>Critical (بحرانی)</strong></h3><p>سطح بحرانی برای خطاهای جدی است که ممکن است باعث توقف کامل برنامه یا از دست رفتن داده‌ها شوند. این سطح نشان‌دهنده مشکلاتی است که نیاز به واکنش فوری دارند.</p><hr><h3>7. <strong>Fatal (کشنده)</strong></h3><p>در برخی سیستم‌ها سطح <strong>Fatal</strong> برای رویدادهای بسیار جدی تعریف شده است که برنامه نمی‌تواند به کار خود ادامه دهد. این سطح اغلب معادل توقف کامل سیستم است.</p><hr><h3>نکات مهم:</h3><ul><li>این سطوح از کم‌اهمیت‌ترین (Trace) تا بحرانی‌ترین (Critical) مرتب شده‌اند.</li><li>در محیط‌های توسعه، استفاده از سطوح پایین‌تر (Trace و Debug) رایج است، اما در محیط تولید معمولاً سطوح Warning و بالاتر به کار گرفته می‌شوند تا از تولید بیش از حد لاگ جلوگیری شود.</li><li>انتخاب مناسب سطح لاگ به بهینه‌سازی منابع و افزایش کارایی سیستم کمک می‌کند.</li></ul>\n",
    "</div>"
   ]
  },
  {
   "cell_type": "markdown",
   "metadata": {},
   "source": [
    "### `ILoggerFactory`, `ILoggerProvider`, `ILogger`"
   ]
  },
  {
   "cell_type": "markdown",
   "metadata": {},
   "source": [
    "<div dir=\"rtl\" style=\"margin:auto; width:90%; font-family:vazirmatn\">\n",
    "<p>در سیستم <strong>Logging</strong> در <strong>ASP.NET Core</strong>، سه جزء کلیدی وجود دارد: <code>ILogger</code>، <code>ILoggerProvider</code>، و <code>ILoggerFactory</code>. این اجزا با یکدیگر کار می‌کنند تا لاگ‌ها را تولید، مدیریت، و پردازش کنند. در ادامه عملکرد هر کدام را توضیح می‌دهم:</p>\n",
    "<h3><strong>1. ILoggerFactory</strong></h3>\n",
    "<p><code>ILoggerFactory</code> مسئول مدیریت ایجاد و پیکربندی <code>ILogger</code> و <code>ILoggerProvider</code> است. این کلاس به عنوان نقطه مرکزی برای مدیریت تمام فرآیندهای لاگ عمل می‌کند.</p>\n",
    "<h4><strong>ویژگی‌ها و عملکرد:</strong></h4>\n",
    "<ul><li><strong>ایجاد <code>ILogger</code>:</strong> با توجه به نام دسته‌بندی (Category Name) یا سایر پارامترها، یک Logger مناسب ایجاد می‌کند.</li><li><strong>مدیریت ارائه‌دهندگان:</strong> ارائه‌دهندگان مختلف را ثبت و مدیریت می‌کند.</li><li><strong>پیکربندی مرکزی:</strong> تمام پیکربندی‌های مرتبط با سیستم Logging را از طریق <code>ILoggerFactory</code> انجام می‌دهید.</li></ul>\n",
    "\n",
    "</div>"
   ]
  },
  {
   "cell_type": "code",
   "execution_count": null,
   "metadata": {
    "dotnet_interactive": {
     "language": "csharp"
    },
    "polyglot_notebook": {
     "kernelName": "csharp"
    },
    "vscode": {
     "languageId": "polyglot-notebook"
    }
   },
   "outputs": [],
   "source": [
    "var loggerFactory = LoggerFactory.Create(builder =>\n",
    "{\n",
    "    builder.AddConsole();\n",
    "    builder.AddDebug();\n",
    "});\n",
    "\n",
    "var logger = loggerFactory.CreateLogger(\"MyApp\");\n",
    "logger.LogInformation(\"Application started.\");"
   ]
  },
  {
   "cell_type": "markdown",
   "metadata": {},
   "source": [
    "<div dir=\"rtl\" style=\"margin:auto; width:90%; font-family:vazirmatn\">\n",
    "<h3><strong>2. ILoggerProvider</strong></h3>\n",
    "<p><code>ILoggerProvider</code> مسئول ایجاد نمونه‌های <code>ILogger</code> است. این بخش مشخص می‌کند که لاگ‌ها چگونه و کجا پردازش شوند.</p>\n",
    "<h4><strong>ویژگی‌ها و عملکرد:</strong></h4>\n",
    "<ul><li><strong>اتصال به مقصد (Sink):</strong> ارائه‌دهنده مشخص می‌کند لاگ‌ها به چه مقصدی ارسال شوند، مانند فایل، کنسول، دیتابیس، یا سرویس‌های ابری.</li><li><strong>مدیریت چندین ارائه‌دهنده:</strong> یک سیستم می‌تواند چندین <code>ILoggerProvider</code> داشته باشد که هرکدام لاگ‌ها را به مقصد خاص خود ارسال کنند.</li><li><strong>انعطاف‌پذیری:</strong> به شما امکان می‌دهد ارائه‌دهنده‌های سفارشی ایجاد کنید.</li></ul>\n",
    "<h4><strong>مثال از ارائه‌دهندگان رایج:</strong></h4>\n",
    "<ul><li><code>ConsoleLoggerProvider</code>: ارسال لاگ‌ها به کنسول.</li><li><code>DebugLoggerProvider</code>: ارسال لاگ‌ها به دیباگر.</li><li>ارائه‌دهندگان شخص ثالث مانند Serilog یا NLog.</li></ul>\n",
    "</div>"
   ]
  },
  {
   "cell_type": "code",
   "execution_count": null,
   "metadata": {
    "dotnet_interactive": {
     "language": "csharp"
    },
    "polyglot_notebook": {
     "kernelName": "csharp"
    },
    "vscode": {
     "languageId": "polyglot-notebook"
    }
   },
   "outputs": [],
   "source": [
    "public class CustomLoggerProvider : ILoggerProvider\n",
    "{\n",
    "    public ILogger CreateLogger(string categoryName)\n",
    "    {\n",
    "        return new CustomLogger(categoryName);\n",
    "    }\n",
    "\n",
    "    public void Dispose()\n",
    "    {\n",
    "        // Dispose resources if needed\n",
    "    }\n",
    "}"
   ]
  },
  {
   "cell_type": "markdown",
   "metadata": {},
   "source": [
    "<div dir=\"rtl\" style=\"margin:auto; width:90%; font-family:vazirmatn\">\n",
    "<h3><strong>3. ILogger</strong></h3>\n",
    "<p><code>ILogger</code> رابط (Interface) اصلی برای ثبت لاگ‌ها در برنامه است. این کلاس به شما امکان می‌دهد پیام‌های لاگ را در سطوح مختلف (مثل <code>Information</code>, <code>Warning</code>, <code>Error</code>) ثبت کنید.</p>\n",
    "<h4><strong>ویژگی‌ها و عملکرد:</strong></h4>\n",
    "<ul><li><strong>تولید لاگ‌ها:</strong> به شما اجازه می‌دهد پیام‌های لاگ را همراه با داده‌های اضافی ثبت کنید.</li><li><strong>سطح‌بندی لاگ‌ها:</strong> پشتیبانی از سطوح مختلف لاگ، مانند <code>Trace</code>, <code>Debug</code>, <code>Information</code>, <code>Warning</code>, <code>Error</code>, و <code>Critical</code>.</li><li><strong>تزریق وابستگی (Dependency Injection):</strong> معمولاً از طریق DI در کلاس‌های مختلف تزریق می‌شود.</li><li><strong>هدف اصلی:</strong> به توسعه‌دهنده امکان می‌دهد بدون دانستن جزئیات مقصد لاگ‌ها (مانند فایل یا دیتابیس) فقط پیام‌ها را ثبت کند.</li></ul>\n",
    "</div>"
   ]
  },
  {
   "cell_type": "code",
   "execution_count": null,
   "metadata": {
    "dotnet_interactive": {
     "language": "csharp"
    },
    "polyglot_notebook": {
     "kernelName": "csharp"
    },
    "vscode": {
     "languageId": "polyglot-notebook"
    }
   },
   "outputs": [],
   "source": [
    "public class MyService\n",
    "{\n",
    "    private readonly ILogger<MyService> _logger;\n",
    "\n",
    "    public MyService(ILogger<MyService> logger)\n",
    "    {\n",
    "        _logger = logger;\n",
    "    }\n",
    "\n",
    "    public void DoWork()\n",
    "    {\n",
    "        _logger.LogInformation(\"Processing started.\");\n",
    "    }\n",
    "}"
   ]
  },
  {
   "cell_type": "markdown",
   "metadata": {},
   "source": [
    "<div dir=\"rtl\" style=\"margin:auto; width:90%; font-family:vazirmatn\">\n",
    "<h3><strong>نحوه تعامل این اجزا با یکدیگر</strong></h3>\n",
    "<ol><li><p><strong><code>ILoggerFactory</code>:</strong></p><ul><li>ایجاد و مدیریت ارائه‌دهندگان (<code>ILoggerProvider</code>) را بر عهده دارد.</li><li>لاگ‌ها را از طریق <code>ILogger</code> ایجاد می‌کند.</li></ul></li><li><p><strong><code>ILoggerProvider</code>:</strong></p><ul><li>ارائه‌دهنده‌هایی که توسط <code>ILoggerFactory</code> ثبت شده‌اند، وظیفه پردازش و ارسال لاگ‌ها به مقصد مناسب را بر عهده دارند.</li></ul></li><li><p><strong><code>ILogger</code>:</strong></p><ul><li>به عنوان رابط اصلی توسعه‌دهندگان برای ثبت لاگ‌ها عمل می‌کند.</li><li>لاگ‌های ثبت‌شده را به ارائه‌دهندگان متصل ارسال می‌کند.</li></ul></li></ol>\n",
    "\n",
    "<h3><strong>مثال از کل جریان کار:</strong></h3>\n",
    "<ol><li>در زمان راه‌اندازی برنامه، <code>ILoggerFactory</code> پیکربندی می‌شود.</li><li>ارائه‌دهندگان (مثل <code>ConsoleLoggerProvider</code> یا <code>FileLoggerProvider</code>) در <code>ILoggerFactory</code> ثبت می‌شوند.</li><li>از طریق DI، نمونه‌ای از <code>ILogger</code> به کلاس تزریق می‌شود.</li><li>توسعه‌دهنده از <code>ILogger</code> برای ثبت لاگ استفاده می‌کند.</li><li><code>ILogger</code> پیام را به <code>ILoggerFactory</code> و سپس به <code>ILoggerProvider</code> ارسال می‌کند.</li><li>ارائه‌دهندگان لاگ‌ها را به مقصد نهایی (مانند فایل یا کنسول) ارسال می‌کنند.</li></ol>\n",
    "</div>"
   ]
  },
  {
   "cell_type": "markdown",
   "metadata": {},
   "source": [
    "<div dir=\"rtl\" style=\"margin:auto; width:90%; font-family:vazirmatn\">\n",
    "<h3><strong>ساختار Log</strong></h3>\n",
    "<h3><strong>1. LogLevel (سطح لاگ)</strong></h3>\n",
    "<ul><li>سطح اهمیت یا شدت پیام لاگ است.</li><li>قبلاً توضیح داده شد که شامل سطوحی مانند <code>Trace</code>, <code>Debug</code>, <code>Information</code>, <code>Warning</code>, <code>Error</code>, و <code>Critical</code> است.</li><li>به کمک آن می‌توانید پیام‌های لاگ را بر اساس اهمیت فیلتر کنید.</li></ul>\n",
    "<h3><strong>2. Event Category (دسته‌بندی رویداد)</strong></h3>\n",
    "<ul><li><strong>دسته‌بندی‌ای</strong> است که مشخص می‌کند پیام لاگ از کجا (کدام بخش یا کلاس) تولید شده است.</li><li>معمولاً نام کلاس یا بخشی از سیستم است که لاگ را تولید می‌کند.</li><li>زمانی که از <code>ILogger&lt;T&gt;</code> استفاده می‌کنید، دسته‌بندی به طور خودکار به نام کلاس تنظیم می‌شود.</li></ul>\n",
    "<h4><strong>کاربرد:</strong></h4>\n",
    "<ul><li>برای مرتب‌سازی لاگ‌ها و شناسایی منبع پیام.</li><li>به شما کمک می‌کند بفهمید لاگ مربوط به کدام بخش از سیستم است.</li></ul>\n",
    "<h3><strong>3. Message (پیام)</strong></h3>\n",
    "<ul><li>پیام اصلی است که اطلاعاتی درباره رخداد ارائه می‌دهد.</li><li>این پیام می‌تواند یک متن ساده یا حاوی پارامترهایی باشد که جزئیات بیشتری ارائه می‌دهند.</li></ul>\n",
    "<h4><strong>کاربرد:</strong></h4>\n",
    "<ul><li>پیام باید شفاف و گویا باشد تا هدف لاگ را مشخص کند.</li><li>می‌توانید از قالب‌بندی پیام برای افزودن مقادیر پویا (Parameters) استفاده کنید.</li></ul>\n",
    "<h3><strong>4. Parameters (پارامترها)</strong></h3>\n",
    "<ul><li>مقادیری که به صورت پویا در پیام لاگ درج می‌شوند.</li><li>این پارامترها می‌توانند شامل مقادیر متغیرها، شناسه‌ها، یا جزئیات مرتبط با رخداد باشند.</li><li>معمولاً برای لاگ‌های ساختاریافته استفاده می‌شوند.</li></ul>\n",
    "<h4><strong>کاربرد:</strong></h4>\n",
    "<ul><li>برای ثبت اطلاعات کلیدی و پویا که می‌تواند در تحلیل رخدادها کمک کند.</li><li>به‌جای ثبت پیام‌های متنی ثابت، از لاگ‌های ساختاریافته استفاده کنید.</li></ul>\n",
    "\n",
    "<h3><strong>5. Exceptions (استثناها)</strong></h3>\n",
    "<ul><li>در هنگام رخ دادن خطاها، می‌توانید شیء مربوط به استثنا (Exception) را همراه پیام لاگ ثبت کنید.</li><li>این بخش شامل پیام خطا و Stack Trace است که برای اشکال‌زدایی دقیق ضروری است.</li></ul>\n",
    "<h4><strong>کاربرد:</strong></h4>\n",
    "<ul><li>ثبت جزئیات خطاهایی که در زمان اجرا رخ می‌دهند.</li><li>به توسعه‌دهندگان کمک می‌کند منبع اصلی خطا را شناسایی کنند.</li></ul>\n",
    "<p>لاگ نهایی شامل:</p>\n",
    "<ul><li>پیام: \"An exception was thrown while processing the request.\"</li><li>استثنا: جزئیات استثنا و Stack Trace.</li></ul>\n",
    "\n",
    "<h3><strong>6. EventId (شناسه رویداد)</strong></h3>\n",
    "<ul><li>یک مقدار عددی اختیاری است که به هر رخداد یک شناسه یکتا اختصاص می‌دهد.</li><li>به شما کمک می‌کند رویدادهای خاصی را به‌راحتی ردیابی یا فیلتر کنید.</li></ul>\n",
    "<h4><strong>اجزاء EventId:</strong></h4>\n",
    "<ul><li><strong>Id:</strong> یک عدد صحیح که رخداد را شناسایی می‌کند.</li><li><strong>Name:</strong> (اختیاری) یک نام که به رویداد داده می‌شود.</li></ul>\n",
    "<ul><li>برای فیلتر کردن یا جستجوی رخدادهای خاص.</li><li>در محیط‌های تولیدی یا سیستم‌های مانیتورینگ بسیار مفید است.</li></ul>\n",
    "</div>"
   ]
  },
  {
   "cell_type": "code",
   "execution_count": null,
   "metadata": {
    "dotnet_interactive": {
     "language": "csharp"
    },
    "polyglot_notebook": {
     "kernelName": "csharp"
    },
    "vscode": {
     "languageId": "polyglot-notebook"
    }
   },
   "outputs": [],
   "source": [
    "try\n",
    "{\n",
    "    throw new InvalidOperationException(\"Database connection failed.\");\n",
    "}\n",
    "catch (Exception ex)\n",
    "{\n",
    "    _logger.LogError(new EventId(500, \"DatabaseError\"), ex, \"An error occurred while connecting to database {DatabaseName}.\", \"SalesDB\");\n",
    "}\n"
   ]
  },
  {
   "cell_type": "markdown",
   "metadata": {},
   "source": [
    "### Using Rolling File"
   ]
  },
  {
   "cell_type": "markdown",
   "metadata": {},
   "source": [
    "### Log Verbosity"
   ]
  },
  {
   "cell_type": "markdown",
   "metadata": {},
   "source": [
    "<div dir=\"rtl\" style=\"margin:auto; width:90%; font-family:vazirmatn\">\n",
    "<p>ما میتوانیم لاگها را با  پایین ترین سطح بنویسیم ولی ذخیره لاگها را به وسیله تنظیمات کنترل کنیم، اگر جایی نیاز به لاگهای سطح پایین داشتیم، کافی است آن سطح را فعال کرده و لاگها ذخیره شوند و دوباره غیر فعال کنیم</p>\n",
    "</div>"
   ]
  },
  {
   "cell_type": "markdown",
   "metadata": {},
   "source": [
    "### Scope"
   ]
  }
 ],
 "metadata": {
  "kernelspec": {
   "display_name": ".NET (C#)",
   "language": "C#",
   "name": ".net-csharp"
  },
  "language_info": {
   "name": "csharp"
  },
  "polyglot_notebook": {
   "kernelInfo": {
    "defaultKernelName": "csharp",
    "items": [
     {
      "aliases": [],
      "name": "csharp"
     }
    ]
   }
  }
 },
 "nbformat": 4,
 "nbformat_minor": 2
}
