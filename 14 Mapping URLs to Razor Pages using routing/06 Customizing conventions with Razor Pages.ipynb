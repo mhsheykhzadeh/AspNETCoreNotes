{
 "cells": [
  {
   "cell_type": "markdown",
   "metadata": {},
   "source": [
    "<div dir=\"rtl\" style=\"margin:auto; width:90%; font-family:vazirmatn\">\n",
    "<p><strong>Razor Pages</strong> به‌صورت پیش‌فرض از <strong>conventions</strong> یا قراردادهایی استفاده می‌کند تا نیاز به نوشتن کد تکراری (boilerplate) کاهش یابد. با این حال، شما می‌توانید این قراردادها را به دلخواه تغییر دهید تا بر روی URLهای تولید شده توسط Razor Pages کنترل بیشتری داشته باشید، بدون اینکه مجبور شوید برای هر صفحه به صورت دستی یک قالب مسیر (route template) تعریف کنید.</p>\n",
    "\n",
    "<h3>1. <strong>Conventions پیش‌فرض در Razor Pages</strong></h3>\n",
    "<p>Razor Pages به‌طور خودکار از مسیر فایل‌های <code>.cshtml</code> برای ساختن URLهای مربوط به صفحات استفاده می‌کند. برای مثال، صفحه‌ای که در مسیر <code>Pages/Products/ProductDetails.cshtml</code> قرار دارد، به طور پیش‌فرض URL آن به صورت <code>Products/ProductDetails</code> تولید می‌شود.</p>\n",
    "\n",
    "<h3>2. <strong>نیاز به سفارشی‌سازی URLها</strong></h3>\n",
    "<p> این روزها استفاده از حروف بزرگ در URLها رایج نیست. همچنین معمولاً از <strong>kebab-case</strong> (کلمات با خط تیره جدا شده) به جای <strong>PascalCase</strong> (کلمات بدون فاصله با حروف اول بزرگ) استفاده می‌شود. به‌عنوان مثال:</p>\n",
    "<ul><li>URL به شکل <strong><code>product-details</code></strong> به جای <strong><code>ProductDetails</code></strong> رایج‌تر است.</li><li>علاوه بر این، پایان یافتن URLها با <code>/</code> در برخی سایت‌ها رایج است، به‌عنوان مثال <strong><code>/product-details/</code></strong> به جای <strong><code>/product-details</code></strong>.</li></ul>\n",
    "<h3>3. <strong>سفارشی‌سازی Conventions در Razor Pages</strong></h3>\n",
    "<p>با استفاده از Razor Pages، شما می‌توانید این قراردادها را سفارشی‌سازی کنید و به دلخواه تغییر دهید. این به شما اجازه می‌دهد که:</p>\n",
    "<ul><li>نام‌گذاری مسیرها را مطابق با استانداردهای رایج (مثلاً kebab-case) تنظیم کنید.</li><li>مسیرهایی ایجاد کنید که با <code>/</code> خاتمه می‌یابند.</li><li>و هر تغییر دیگری که برای URLهای اپلیکیشن خود نیاز دارید را بدون اینکه برای هر صفحه به‌صورت جداگانه قالب مسیر (route template) تعریف کنید، انجام دهید.</li></ul>\n",
    "\n",
    "</div>"
   ]
  },
  {
   "cell_type": "code",
   "execution_count": null,
   "metadata": {
    "dotnet_interactive": {
     "language": "csharp"
    },
    "polyglot_notebook": {
     "kernelName": "csharp"
    },
    "vscode": {
     "languageId": "polyglot-notebook"
    }
   },
   "outputs": [],
   "source": [
    "WebApplicationBuilder builder = WebApplication.CreateBuilder(args);\n",
    "\n",
    "builder.Services.AddRazorPages();\n",
    "\n",
    "builder.Services.Configure<RouteOptions>(o =>\n",
    "{\n",
    "    o.LowercaseUrls = true; \n",
    "    o.LowercaseQueryStrings = true; \n",
    "    o.AppendTrailingSlash = true; \n",
    "});\n",
    "\n",
    "WebApplication app = builder.Build();\n",
    "\n",
    "app.MapRazorPages();\n",
    "\n",
    "app.Run();"
   ]
  },
  {
   "cell_type": "code",
   "execution_count": null,
   "metadata": {
    "dotnet_interactive": {
     "language": "csharp"
    },
    "polyglot_notebook": {
     "kernelName": "csharp"
    },
    "vscode": {
     "languageId": "polyglot-notebook"
    }
   },
   "outputs": [],
   "source": [
    "//Creating a kebab-case parameter transformer\n",
    "public class KebabCaseParameterTransformer \n",
    "    : IOutboundParameterTransformer \n",
    "{\n",
    "    public string TransformOutbound(object? value)\n",
    "    {\n",
    "        if (value is null) return null;\n",
    "            return Regex.Replace(value.ToString(), \n",
    "                \"([a-z])([A-Z])\", \"$1-$2\").ToLower(); \n",
    "    }\n",
    "}"
   ]
  },
  {
   "cell_type": "code",
   "execution_count": null,
   "metadata": {
    "dotnet_interactive": {
     "language": "csharp"
    },
    "polyglot_notebook": {
     "kernelName": "csharp"
    },
    "vscode": {
     "languageId": "polyglot-notebook"
    }
   },
   "outputs": [],
   "source": [
    "builder.Services.AddRazorPages()\n",
    "    .AddRazorPagesOptions(opts =>\n",
    "{\n",
    "    opts.Conventions.Add( \n",
    "        new PageRouteTransformerConvention( \n",
    "            new KebabCaseParameterTransformer()));\n",
    "});"
   ]
  }
 ],
 "metadata": {
  "kernelspec": {
   "display_name": ".NET (C#)",
   "language": "C#",
   "name": ".net-csharp"
  },
  "language_info": {
   "name": "python"
  },
  "polyglot_notebook": {
   "kernelInfo": {
    "defaultKernelName": "csharp",
    "items": [
     {
      "aliases": [],
      "name": "csharp"
     }
    ]
   }
  }
 },
 "nbformat": 4,
 "nbformat_minor": 2
}
