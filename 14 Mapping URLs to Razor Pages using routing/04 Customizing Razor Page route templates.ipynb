{
 "cells": [
  {
   "cell_type": "markdown",
   "metadata": {},
   "source": [
    "To customize the Razor Page route template, you update the `@page` directive\n",
    "at the top of the Razor Page’s `.cshtml file`."
   ]
  },
  {
   "cell_type": "markdown",
   "metadata": {},
   "source": [
    "This directive must be the `first thing` in the Razor Page file for the page to be `registered correctly`."
   ]
  },
  {
   "cell_type": "markdown",
   "metadata": {},
   "source": [
    "For Example, To add `Extra` to a ***Privacy.cshtml*** Razor Page's rout template, use   \n",
    "  \n",
    "`@page \"Extra\"`  \n",
    "  \n",
    "now, the route url for ***Privacy.cshtml*** is `/Privacy/Extra`"
   ]
  },
  {
   "cell_type": "markdown",
   "metadata": {},
   "source": [
    "you can add parameter to route template for example for `Pages/Products.cshtml`  \n",
    "  \n",
    "`@page \"{category}/{name}\"`  \n",
    "  \n",
    "Now, we can use following urls  \n",
    "  \n",
    "- `/products/bags/white-rucksack`\n",
    "- `/products/shoes/black-size9`\n",
    "- `/Products/phones/iPhoneX`"
   ]
  },
  {
   "cell_type": "markdown",
   "metadata": {},
   "source": [
    "### Replacing a Razor Page route template completely"
   ]
  },
  {
   "cell_type": "markdown",
   "metadata": {},
   "source": [
    "To specify a ***custom route*** for a Razor Page, prefix the route with `/` in the\n",
    "`@page directive`.  \n",
    "  \n",
    "`@page \"/{category}/{name}\"`"
   ]
  }
 ],
 "metadata": {
  "kernelspec": {
   "display_name": ".NET (C#)",
   "language": "C#",
   "name": ".net-csharp"
  },
  "language_info": {
   "name": "python"
  },
  "polyglot_notebook": {
   "kernelInfo": {
    "defaultKernelName": "csharp",
    "items": [
     {
      "aliases": [],
      "name": "csharp"
     }
    ]
   }
  }
 },
 "nbformat": 4,
 "nbformat_minor": 2
}
