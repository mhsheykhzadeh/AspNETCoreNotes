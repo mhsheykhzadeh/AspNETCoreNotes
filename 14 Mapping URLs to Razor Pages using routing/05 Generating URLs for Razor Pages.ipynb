{
 "cells": [
  {
   "cell_type": "markdown",
   "metadata": {},
   "source": [
    "You can Generating a URL using `IUrlHelper` `and the Razor Page name`"
   ]
  },
  {
   "cell_type": "code",
   "execution_count": null,
   "metadata": {
    "dotnet_interactive": {
     "language": "csharp"
    },
    "polyglot_notebook": {
     "kernelName": "csharp"
    },
    "vscode": {
     "languageId": "polyglot-notebook"
    }
   },
   "outputs": [],
   "source": [
    "public void OnGet()\n",
    "{\n",
    "    var url = Url.Page(\"Privacy\", new { code = \"USD\" });\n",
    "\n",
    "    //The Url property is an instance of IUrlHelper\n",
    "}"
   ]
  },
  {
   "cell_type": "markdown",
   "metadata": {},
   "source": [
    "***IUrlHelper*** is a `wrapper` around the ***LinkGenerator*** class, that `adds some shortcuts` for generating URLs based on the current request."
   ]
  },
  {
   "cell_type": "markdown",
   "metadata": {},
   "source": [
    "this `new { code = \"USD\" }` anonymous object, used value in the ***URL directly*** if it `corresponds to a route parameter`. Otherwise, it’s appended as additional data\n",
    "in the `query string`"
   ]
  },
  {
   "cell_type": "markdown",
   "metadata": {},
   "source": [
    "### Generating URLs for an MVC controller"
   ]
  },
  {
   "cell_type": "markdown",
   "metadata": {},
   "source": [
    "For generating URLs for MVC controllers, use the `Action` method on the `IUrlHelper`"
   ]
  },
  {
   "cell_type": "code",
   "execution_count": null,
   "metadata": {
    "dotnet_interactive": {
     "language": "csharp"
    },
    "polyglot_notebook": {
     "kernelName": "csharp"
    },
    "vscode": {
     "languageId": "polyglot-notebook"
    }
   },
   "outputs": [],
   "source": [
    "public class CurrencyController : Controller\n",
    "{\n",
    "    [HttpGet(\"currency/index\")]\n",
    "    public IActionResult Index()\n",
    "    {\n",
    "        var url = Url.Action(\"View\", new { code = \"USD\" });\n",
    "\n",
    "        return Content($\"The URL is {url}\");\n",
    "    }\n",
    "\n",
    "    [HttpGet(\"currency/view/{code}\")]\n",
    "    public IActionResult View(string code)\n",
    "    {\n",
    "        return View();\n",
    "    }\n",
    "}"
   ]
  },
  {
   "cell_type": "markdown",
   "metadata": {},
   "source": [
    "### Generating URLs with LinkGenerator"
   ]
  },
  {
   "cell_type": "markdown",
   "metadata": {},
   "source": [
    "<div dir=\"rtl\" style=\"margin:auto; width:90%; font-family:vazirmatn\">\n",
    "<h3>1. <strong>Ambient Values (مقادیر محیطی) چیست؟</strong></h3>\n",
    "<p>مقادیر محیطی به <strong>مقادیر مسیر (route values)</strong> اشاره دارد که در حال حاضر در درخواست وجود دارند. این مقادیر شامل اطلاعاتی مانند <strong>Controller</strong> و <strong>Action</strong> در MVC یا <strong>Page</strong> در Razor Pages هستند. این‌ها همان اطلاعاتی هستند که برای مشخص کردن صفحه یا اکشنی که کاربر درخواست کرده است، استفاده می‌شوند.</p>\n",
    "\n",
    "<h3>2. <strong>IUrlHelper vs LinkGenerator</strong></h3>\n",
    "<ul><li><p><strong>IUrlHelper</strong>: این کلاس برای تولید URLها در داخل کانتکست درخواست (Request Context) استفاده می‌شود. مزیت این ابزار این است که می‌تواند از <strong>Ambient Values</strong> (مقادیر محیطی) استفاده کند که قبلاً در مسیر درخواست وجود دارند. به این ترتیب، شما نیازی ندارید تا همه پارامترها را به صراحت تعیین کنید، و به‌طور خودکار از مقادیر محیطی استفاده می‌شود. اما <strong>IUrlHelper</strong> فقط درون درخواست‌های HTTP استفاده می‌شود، یعنی نمی‌توانید در جاهایی مثل سرویس‌ها یا کارهای پس‌زمینه (Background Tasks) از آن استفاده کنید.</p></li><li><p><strong>LinkGenerator</strong>: برخلاف IUrlHelper، <strong>LinkGenerator</strong> همیشه از شما می‌خواهد که تمام پارامترهای لازم برای تولید URL را به صراحت مشخص کنید. این ممکن است کدنویسی شما را طولانی‌تر و پرجزئیات‌تر کند، اما در عوض <strong>باثبات‌تر</strong> است، زیرا همیشه باید به‌طور دقیق مسیرها را تعریف کنید. همچنین <strong>LinkGenerator</strong> محدود به کانتکست درخواست نیست و می‌توانید آن را در هر جایی از برنامه خود استفاده کنید، از جمله سرویس‌ها، میدلور‌ها، یا حتی در فرآیندهای پس‌زمینه.</p></li></ul>\n",
    "\n",
    "<h3>3. <strong>استفاده از LinkGenerator در هر جایی از برنامه</strong></h3>\n",
    "<p>یکی از مزیت‌های بزرگ <strong>LinkGenerator</strong> این است که در هر جای برنامه قابل استفاده است؛ شما می‌توانید از آن در <strong>middleware</strong>، <strong>endpoints</strong> مربوط به <strong>minimal API</strong>، و همچنین در سرویس‌ها استفاده کنید. اگرچه در MVC و Razor Pages هم می‌توانید از LinkGenerator استفاده کنید، اما در این موارد معمولاً <strong>IUrlHelper</strong> راحت‌تر است، زیرا برخی از جزئیات را پنهان کرده و کار را ساده‌تر می‌کند.</p>\n",
    "\n",
    "<h3>4. <strong>روش‌های LinkGenerator برای ساخت URL در Razor Pages و MVC</strong></h3>\n",
    "<p><strong>LinkGenerator</strong> روش‌های مختلفی برای تولید URLها دارد، مثل:</p>\n",
    "<ul><li><code>GetPathByName()</code> و <code>GetUriByName()</code> برای تولید لینک‌ها در <strong>minimal APIs</strong>.</li><li><code>GetPathByPage()</code> و <code>GetUriByPage()</code> برای تولید URL برای Razor Pages.</li><li><code>GetPathByAction()</code> و <code>GetUriByAction()</code> برای تولید URL برای MVC actions.</li></ul>\n",
    "</div>"
   ]
  },
  {
   "cell_type": "code",
   "execution_count": null,
   "metadata": {
    "dotnet_interactive": {
     "language": "csharp"
    },
    "polyglot_notebook": {
     "kernelName": "csharp"
    },
    "vscode": {
     "languageId": "polyglot-notebook"
    }
   },
   "outputs": [],
   "source": [
    "public class CurrencyModel : PageModel\n",
    "{\n",
    "    private readonly LinkGenerator _link;\n",
    "\n",
    "    public CurrencyModel(LinkGenerator linkGenerator)\n",
    "    {\n",
    "        _link = linkGenerator;\n",
    "    }\n",
    "\n",
    "    public void OnGet()\n",
    "    {\n",
    "        var url1 = Url.Page(\"Currency/View\", new { id = 5 });\n",
    "\n",
    "        var url2 = _link.GetPathByPage(\n",
    "            HttpContext,\n",
    "            \"/Currency/View\",\n",
    "            values: new { id = 5 });\n",
    "\n",
    "        var url3 = _link.GetPathByPage(\n",
    "            \"/Currency/View\",\n",
    "            values: new { id = 5 });\n",
    "\n",
    "        var url4 = _link.GetUriByPage(\n",
    "            page: \"/Currency/View\",\n",
    "            handler: null,\n",
    "            values: new { id = 5 },\n",
    "            scheme: \"https\",\n",
    "            host: new HostString(\"example.com\"));\n",
    "\n",
    "        var url5 = _link.GetUriByAction(\n",
    "            action: \"\", \n",
    "            controller: \"\", \n",
    "            values: new { id = 4 }, \n",
    "            scheme:\"\",\n",
    "            host: new HostString(\"\"));\n",
    "    }\n",
    "}"
   ]
  }
 ],
 "metadata": {
  "kernelspec": {
   "display_name": ".NET (C#)",
   "language": "C#",
   "name": ".net-csharp"
  },
  "language_info": {
   "name": "python"
  },
  "polyglot_notebook": {
   "kernelInfo": {
    "defaultKernelName": "csharp",
    "items": [
     {
      "aliases": [],
      "name": "csharp"
     }
    ]
   }
  }
 },
 "nbformat": 4,
 "nbformat_minor": 2
}
