{
 "cells": [
  {
   "cell_type": "markdown",
   "metadata": {},
   "source": [
    "You have `two ways` to define `URL-endpoint` mappings in your application\n",
    "- Using global, `convention-based` routing\n",
    "- Using explicit routing, where each endpoint is mapped with a single route template"
   ]
  },
  {
   "cell_type": "markdown",
   "metadata": {},
   "source": [
    "***Convention-based*** routing like ***MVC*** `controller` `actions`"
   ]
  },
  {
   "cell_type": "markdown",
   "metadata": {},
   "source": [
    "***explicit routing*** is `defualt` for ***minimal API***, and for ***MVC***, we can use `[Route]` attributes on the ***action methods*** themselves "
   ]
  },
  {
   "cell_type": "markdown",
   "metadata": {},
   "source": [
    "***Explicit routing*** provides `more flexibility` than ***convention-based*** based\n",
    "routing"
   ]
  },
  {
   "cell_type": "markdown",
   "metadata": {},
   "source": [
    "<div dir=\"rtl\" style=\"margin:auto; width:90%; font-family:vazirmatn\">\n",
    "<p>\n",
    "Razor Pages از قراردادها برای تولید مسیرهای صریح استفاده می‌کند. یعنی به طور پیش‌فرض مسیرها بر اساس قراردادهای معمول ایجاد می‌شوند، اما اگر بخواهید، می‌توانید این مسیرها را به راحتی سفارشی‌سازی کنید (که چیزی شبیه به آدرس‌دهی صریح است). این ترکیب باعث می‌شود که هم ساختارهای قراردادی ساده و کوتاه داشته باشید و هم قدرت تغییر مسیرها به شکلی که می‌خواهید.\n",
    "</p>\n",
    "</div>"
   ]
  }
 ],
 "metadata": {
  "kernelspec": {
   "display_name": ".NET (C#)",
   "language": "C#",
   "name": ".net-csharp"
  },
  "language_info": {
   "name": "python"
  },
  "polyglot_notebook": {
   "kernelInfo": {
    "defaultKernelName": "csharp",
    "items": [
     {
      "aliases": [],
      "name": "csharp"
     }
    ]
   }
  }
 },
 "nbformat": 4,
 "nbformat_minor": 2
}
