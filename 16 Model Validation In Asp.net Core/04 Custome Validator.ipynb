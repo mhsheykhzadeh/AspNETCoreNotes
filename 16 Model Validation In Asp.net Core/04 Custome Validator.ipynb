{
 "cells": [
  {
   "cell_type": "markdown",
   "metadata": {},
   "source": [
    "<div dir=\"rtl\" style=\"margin:auto; width:90%; font-family:vazirmatn\">\n",
    "<p>در ASP.NET Core، برای ایجاد یک <strong>Custom Validator</strong> می‌توانیم کلاس جدیدی ایجاد کرده و از <code>ValidationAttribute</code> ارث‌بری کنیم. این کلاس می‌تواند هر نوع اعتبارسنجی سفارشی را پیاده‌سازی کند.</p>\n",
    "\n",
    "</div>"
   ]
  },
  {
   "cell_type": "code",
   "execution_count": null,
   "metadata": {
    "dotnet_interactive": {
     "language": "csharp"
    },
    "polyglot_notebook": {
     "kernelName": "csharp"
    },
    "vscode": {
     "languageId": "polyglot-notebook"
    }
   },
   "outputs": [],
   "source": [
    "using System.ComponentModel.DataAnnotations;\n",
    "\n",
    "public class EvenNumberAttribute : ValidationAttribute\n",
    "{\n",
    "    protected override ValidationResult IsValid(object value, ValidationContext validationContext)\n",
    "    {\n",
    "        if (value is int intValue)\n",
    "        {\n",
    "            // بررسی اینکه عدد زوج است یا خیر\n",
    "            if (intValue % 2 == 0)\n",
    "            {\n",
    "                return ValidationResult.Success;\n",
    "            }\n",
    "            else\n",
    "            {\n",
    "                return new ValidationResult(ErrorMessage ?? \"The number must be even.\");\n",
    "            }\n",
    "        }\n",
    "        return new ValidationResult(\"Invalid data type. Only integers are allowed.\");\n",
    "    }\n",
    "}\n"
   ]
  }
 ],
 "metadata": {
  "kernelspec": {
   "display_name": ".NET (C#)",
   "language": "C#",
   "name": ".net-csharp"
  },
  "language_info": {
   "name": "python"
  },
  "polyglot_notebook": {
   "kernelInfo": {
    "defaultKernelName": "csharp",
    "items": [
     {
      "aliases": [],
      "name": "csharp"
     }
    ]
   }
  }
 },
 "nbformat": 4,
 "nbformat_minor": 2
}
