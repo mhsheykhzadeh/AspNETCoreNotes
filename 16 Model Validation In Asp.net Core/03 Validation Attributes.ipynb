{
 "cells": [
  {
   "cell_type": "markdown",
   "metadata": {},
   "source": [
    "<div dir=\"rtl\" style=\"margin:auto; width:90%; font-family:vazirmatn\">\n",
    "<p>در ASP.NET Core، <strong>Validation Attribute</strong>‌های مختلفی وجود دارند که می‌توانند برای اعتبارسنجی داده‌ها در مدل‌ها استفاده شوند. این Attributeها اغلب در قالب <strong>Data Annotations</strong> اعمال می‌شوند و برای مقاصد مختلف اعتبارسنجی کاربرد دارند. در ادامه، لیست کاملی از این Attributeها به همراه توضیحات مختصر آورده شده است:</p>\n",
    "\n",
    "<ol><li><p><strong>[Required]</strong></p><ul><li>اطمینان حاصل می‌کند که مقدار property خالی نیست.</li><li>معمولاً برای فیلدهایی که پر کردن آن‌ها الزامی است، مانند <code>نام کاربری</code> یا <code>رمز عبور</code>.</li></ul></li><li><p><strong>[StringLength]</strong></p><ul><li>طول رشته را محدود می‌کند و حداکثر و حداقل طول را برای property مشخص می‌نماید.</li><li>برای مثال، در <code>Username</code> می‌توان طول رشته را بین ۵ تا ۲۰ کاراکتر تنظیم کرد.</li></ul></li><li><p><strong>[MaxLength]</strong></p><ul><li>حداکثر تعداد کاراکترها برای یک رشته را محدود می‌کند، اما بر خلاف <code>StringLength</code> حداقل طول را پشتیبانی نمی‌کند.</li><li>برای رشته‌هایی که بیش از یک تعداد کاراکتر مشخص نباید داشته باشند، مانند توضیحات مختصر.</li></ul></li><li><p><strong>[MinLength]</strong></p><ul><li>حداقل تعداد کاراکترها برای یک رشته را محدود می‌کند.</li><li>برای رشته‌هایی که باید حداقل طول مشخصی داشته باشند، مانند رمز عبورهای قوی.</li></ul></li><li><p><strong>[Range]</strong></p><ul><li>مقدار property را به یک بازه خاص محدود می‌کند. این بازه می‌تواند عددی، تاریخی یا هر نوع داده‌ی قابل مقایسه باشد.</li><li>مثال: بازه سنی بین ۱۸ تا ۶۵.</li></ul></li><li><p><strong>[RegularExpression]</strong></p><ul><li>اعتبارسنجی داده‌ها را با استفاده از یک الگوی خاص (Regex) انجام می‌دهد.</li><li>برای فرمت‌های خاص مانند شماره تلفن یا کد پستی.</li></ul></li><li><p><strong>[EmailAddress]</strong></p><ul><li>بررسی می‌کند که مقدار property دارای فرمت یک آدرس ایمیل معتبر باشد.</li><li>مثال: <code>user@example.com</code>.</li></ul></li><li><p><strong>[Phone]</strong></p><ul><li>بررسی می‌کند که مقدار property یک شماره تلفن معتبر باشد (بر اساس قوانین عمومی).</li><li>برای اعتبارسنجی شماره تماس‌ها در قالب‌های معمول.</li></ul></li><li><p><strong>[Url]</strong></p><ul><li>بررسی می‌کند که مقدار property دارای فرمت یک URL معتبر باشد.</li><li>برای فیلدهایی که لینک‌های وب را ذخیره می‌کنند.</li></ul></li><li><p><strong>[CreditCard]</strong></p><ul><li>بررسی می‌کند که مقدار property فرمت یک شماره کارت اعتباری معتبر را داشته باشد.</li><li>مفید برای فرم‌های پرداخت.</li></ul></li><li><p><strong>[Compare]</strong></p><ul><li>بررسی می‌کند که مقدار یک property با مقدار یک property دیگر برابر باشد.</li><li>مثال: <code>Password</code> و <code>ConfirmPassword</code> در ثبت‌نام کاربران.</li></ul></li><li><p><strong>[FileExtensions]</strong></p><ul><li>اعتبارسنجی می‌کند که فایل بارگذاری‌شده پسوندهای مجاز را داشته باشد.</li><li>برای بارگذاری فایل‌هایی مانند تصاویر (مثال: \"jpg, png\").</li></ul></li><li><p><strong>[Range(typeof(DateTime), \"start\", \"end\")]</strong></p><ul><li>مقدار یک تاریخ خاص را بین دو تاریخ مشخص اعتبارسنجی می‌کند.</li><li>مناسب برای تاریخ‌هایی که باید در یک بازه خاص قرار بگیرند.</li></ul></li><li><p><strong>[CustomValidation]</strong></p><ul><li>امکان استفاده از متدهای سفارشی اعتبارسنجی که در کلاس‌های دیگر تعریف شده‌اند.</li><li>انعطاف‌پذیری بالایی برای اعتبارسنجی‌های پیچیده فراهم می‌کند.</li></ul></li><li><p><strong>[DataType]</strong></p><ul><li>انواع خاصی از داده‌ها را مشخص می‌کند و فرمت آن‌ها را به صورت مفهومی تعیین می‌کند.</li><li>برای مثال <code>DataType.Date</code> برای فیلدهای تاریخ، <code>DataType.Password</code> برای رمز عبور، <code>DataType.Currency</code> برای ارقام مالی.</li></ul></li></ol>\n",
    "</div>"
   ]
  },
  {
   "cell_type": "code",
   "execution_count": null,
   "metadata": {
    "dotnet_interactive": {
     "language": "csharp"
    },
    "polyglot_notebook": {
     "kernelName": "csharp"
    },
    "vscode": {
     "languageId": "polyglot-notebook"
    }
   },
   "outputs": [],
   "source": [
    "public class UserModel\n",
    "{\n",
    "    [Required(ErrorMessage = \"Username is required.\")]\n",
    "    [StringLength(50, MinimumLength = 5, ErrorMessage = \"Username must be between 5 and 50 characters.\")]\n",
    "    public string Username { get; set; }\n",
    "\n",
    "    [Required]\n",
    "    [EmailAddress(ErrorMessage = \"Invalid email format.\")]\n",
    "    public string Email { get; set; }\n",
    "\n",
    "    [Required]\n",
    "    [Phone(ErrorMessage = \"Invalid phone number format.\")]\n",
    "    public string PhoneNumber { get; set; }\n",
    "\n",
    "    [Range(18, 65, ErrorMessage = \"Age must be between 18 and 65.\")]\n",
    "    public int Age { get; set; }\n",
    "\n",
    "    [Required]\n",
    "    [Compare(\"Password\", ErrorMessage = \"Passwords do not match.\")]\n",
    "    public string ConfirmPassword { get; set; }\n",
    "\n",
    "    [DataType(DataType.Password)]\n",
    "    [Required]\n",
    "    public string Password { get; set; }\n",
    "}\n"
   ]
  }
 ],
 "metadata": {
  "kernelspec": {
   "display_name": ".NET (C#)",
   "language": "C#",
   "name": ".net-csharp"
  },
  "language_info": {
   "name": "python"
  },
  "polyglot_notebook": {
   "kernelInfo": {
    "defaultKernelName": "csharp",
    "items": [
     {
      "aliases": [],
      "name": "csharp"
     }
    ]
   }
  }
 },
 "nbformat": 4,
 "nbformat_minor": 2
}
