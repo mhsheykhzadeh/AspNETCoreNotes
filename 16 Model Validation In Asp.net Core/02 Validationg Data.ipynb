{
 "cells": [
  {
   "cell_type": "markdown",
   "metadata": {},
   "source": [
    "<div dir=\"rtl\" style=\"margin:auto; width:90%; font-family:vazirmatn\">\n",
    "<h5><code>Big picture with Binding and Validation</code></h5>\n",
    "<ol><li><p><strong>پایپ‌لاین Middleware</strong>:</p><ul><li>درخواست ابتدا وارد زنجیره‌ای از <strong>Middlewareها</strong> می‌شود.</li><li><strong>Routing Middleware</strong> یکی از Middlewareهای کلیدی است که نقش آن در تعیین مسیر و شناسایی کنترلر و اکشن مناسب برای درخواست است.</li><li>در پایان این مرحله، مسیر مورد نظر و اطلاعات مربوط به اکشن (از جمله کنترلر و پارامترها) شناسایی می‌شود و درخواست به سمت مرحله بعدی، یعنی فیلترها، هدایت می‌شود.</li></ul></li><li><p><strong>آغاز پایپ‌لاین فیلترها</strong>:</p><ul><li>پس از اتمام Middlewareها، درخواست وارد <strong>پایپ‌لاین فیلترها</strong> می‌شود. فیلترها به چند دسته تقسیم می‌شوند، از جمله <strong>Authorization Filters</strong>، <strong>Resource Filters</strong>، <strong>Action Filters</strong>، و <strong>Result Filters</strong>.</li><li>اولین دسته از فیلترها، <strong>Authorization Filters</strong>، درخواست را بررسی می‌کنند تا اطمینان حاصل شود که کاربر مجاز به دسترسی به اکشن است.</li></ul></li><li><p><strong>ایجاد ControllerContext</strong>:</p><ul><li>پس از اتمام Authorization Filters، و در حین اجرای <strong>Resource Filters</strong>، شیء <code>ControllerContext</code> ایجاد می‌شود.</li><li><strong>Resource Filters</strong> اولین جایی است که دسترسی به <code>ControllerContext</code> فراهم می‌شود. این شیء شامل اطلاعاتی از جمله نام کنترلر، اکشن، مسیرها، و سایر داده‌های مرتبط است.</li></ul></li><li><p><strong>آغاز Model Binding در Action Filters</strong>:</p><ul><li>پس از <code>Resource Filters</code>، درخواست وارد <strong>Action Filters</strong> می‌شود.</li><li>در این مرحله، <strong>Model Binding</strong> برای اکشن آغاز می‌شود. <code>Model Binding</code> داده‌های ورودی از درخواست را به پارامترهای اکشن و مدل‌ها نگاشت می‌کند و در این فرآیند، <code>ModelState</code> نیز ایجاد و مقداردهی می‌شود.</li><li>اگر اعتبارسنجی مدل با خطا مواجه شود، اطلاعات خطا در <code>ModelState</code> ذخیره می‌شود و به طور معمول، اگر <code>ModelState.IsValid</code> در اکشن چک شود و خطا وجود داشته باشد، برنامه می‌تواند پاسخ خطا ارسال کند.</li></ul></li><li><p><strong>اجرای اکشن</strong>:</p><ul><li>بعد از اینکه <code>Model Binding</code> کامل شد و پارامترهای اکشن مقداردهی شدند، <strong>اکشن</strong> اجرا می‌شود.</li><li>اکشن نتایج خود را برمی‌گرداند و این نتیجه به <strong>Result Filters</strong> ارسال می‌شود.</li></ul></li><li><p><strong>بازگشت از طریق فیلترها</strong>:</p><ul><li>پس از اتمام اکشن، نتیجه به سمت بیرون از پایپ‌لاین فیلترها بازگشته و از <strong>Result Filters</strong> عبور می‌کند.</li></ul></li><li><p><strong>پایپ‌لاین Middleware در مسیر برگشت</strong>:</p><ul><li>پس از فیلترها، نتیجه وارد <strong>پایپ‌لاین Middlewareها</strong> در مسیر برگشت می‌شود و هر Middleware می‌تواند نتیجه را پیش از بازگشت به کاربر تغییر دهد.</li></ul></li></ol>\n",
    "</div>"
   ]
  },
  {
   "cell_type": "markdown",
   "metadata": {},
   "source": [
    "<div dir=\"rtl\" style=\"margin:auto; width:90%; font-family:vazirmatn\">\n",
    "<p>در ASP.NET Core، <strong>ModelState</strong> یک شیء با طول عمر محدود است که فقط در محدوده‌ی پردازش هر درخواست HTTP در دسترس است. از آنجا که ModelState برای مدیریت و اعتبارسنجی داده‌های ورودی درخواست استفاده می‌شود، دسترسی به آن در طول هر درخواست فراهم می‌شود و پس از اتمام درخواست، دیگر قابل استفاده نیست.</p>\n",
    "<h3>فرآیند ایجاد ModelState</h3>\n",
    "<ol><li><p><strong>آغاز درخواست و شروع مدل‌بایندینگ</strong>:</p><ul><li>زمانی که یک درخواست به ASP.NET Core می‌رسد، پردازش درخواست آغاز می‌شود و فریم‌ورک ASP.NET Core برای شناسایی اکشن مناسب و مدل‌های ورودی تلاش می‌کند.</li><li>در این مرحله، ASP.NET Core از طریق <strong>Model Binding</strong> داده‌های ورودی را از درخواست (مانند فرم داده‌ها، پارامترهای کوئری، و JSON) استخراج می‌کند.</li></ul></li><li><p><strong>ایجاد و مقداردهی ModelState</strong>:</p><ul><li>زمانی که مدل‌بایندینگ آغاز می‌شود، ASP.NET Core یک <strong>ModelStateDictionary</strong> برای ذخیره نتایج فرآیند بایندینگ و اعتبارسنجی ایجاد می‌کند.</li><li>این شیء به عنوان بخشی از <strong>ControllerContext</strong> (که شامل اطلاعات مربوط به اکشن، مسیر و پارامترهای ورودی است) ایجاد شده و با داده‌های ورودی و هرگونه خطای اعتبارسنجی پر می‌شود.</li></ul></li></ol>\n",
    "\n",
    "\n",
    "<h5>ModelState چه چیزهایی را در خود نگه‌داری می‌کند؟</h5>\n",
    "<p><strong>ModelState</strong> در اصل یک دیکشنری از کلیدهای property مدل و مقادیر آن‌ها به همراه نتایج اعتبارسنجی آن‌ها است. این شیء شامل اطلاعات زیر می‌باشد:</p>\n",
    "<ol><li><strong>داده‌های ورودی</strong>: داده‌های خامی که از درخواست دریافت شده‌اند (مانند رشته‌های ورودی که از فرم‌ها، پارامترهای کوئری، یا JSON درخواست آمده‌اند).</li><li><strong>خطاهای اعتبارسنجی</strong>: فهرستی از خطاهای اعتبارسنجی که برای هر property مدل ایجاد شده‌اند.</li><li><strong>وضعیت اعتبارسنجی کل مدل</strong>: اگر همه propertyهای مدل معتبر باشند، <code>ModelState.IsValid</code> مقدار <code>true</code> خواهد داشت و در غیر این صورت <code>false</code>.</li></ol>\n",
    "<h5>ساختار و اجزای ModelState</h5>\n",
    "<p><code>ModelState</code> از دو بخش اصلی تشکیل شده است:</p>\n",
    "<ul><li><strong>ModelState.Values</strong>: شامل مقادیر و داده‌های ورودی برای هر property مدل است.</li><li><strong>ModelState.Errors</strong>: شامل خطاهای اعتبارسنجی مربوط به هر property مدل است.</li></ul>\n",
    "\n",
    "</div>"
   ]
  },
  {
   "cell_type": "code",
   "execution_count": null,
   "metadata": {
    "dotnet_interactive": {
     "language": "csharp"
    },
    "polyglot_notebook": {
     "kernelName": "csharp"
    },
    "vscode": {
     "languageId": "polyglot-notebook"
    }
   },
   "outputs": [],
   "source": [
    "[HttpPost]\n",
    "public IActionResult SubmitForm(UserModel model)\n",
    "{\n",
    "    if (!ModelState.IsValid)\n",
    "    {\n",
    "        foreach (var key in ModelState.Keys)\n",
    "        {\n",
    "            var state = ModelState[key];\n",
    "            foreach (var error in state.Errors)\n",
    "            {\n",
    "                Console.WriteLine($\"Property: {key}, Error: {error.ErrorMessage}\");\n",
    "            }\n",
    "        }\n",
    "\n",
    "        return View(ModelState);\n",
    "    }\n",
    "\n",
    "    // اگر مدل معتبر بود، ادامه کار\n",
    "    return RedirectToAction(\"Index\");\n",
    "\n",
    "    /*\n",
    "    ModelState همراه با \n",
    "    */\n",
    "}\n"
   ]
  },
  {
   "cell_type": "markdown",
   "metadata": {},
   "source": [
    "<div dir=\"rtl\" style=\"margin:auto; width:90%; font-family:vazirmatn\">\n",
    "<h3>اجزای ModelState به تفصیل</h3>\n",
    "<ol><li><p><strong>ModelState.Keys</strong>:</p><ul><li>کلیدها در <code>ModelState</code> نشان‌دهنده نام هر property از مدل هستند که داده‌های ورودی مربوط به آن‌ها از کاربر دریافت شده است.</li></ul></li><li><p><strong>ModelState.Values</strong>:</p><ul><li>شامل مقادیر و داده‌های ورودی برای هر property است.</li><li><code>ModelState.Values</code> همچنین شامل جزئیات اعتبارسنجی‌ها و خطاها برای هر property است.</li></ul></li><li><p><strong>ModelState.IsValid</strong>:</p><ul><li>نشان‌دهنده وضعیت کلی اعتبارسنجی مدل است. اگر تمام داده‌ها معتبر باشند، مقدار <code>true</code> است؛ در غیر این صورت <code>false</code>.</li></ul></li><li><p><strong>ModelState.Errors</strong>:</p><ul><li>برای هر property که خطایی داشته باشد، یک یا چند خطا به <code>ModelState</code> اضافه می‌شود. این خطاها در <code>ModelState.Values.Errors</code> قرار دارند و شامل <code>ErrorMessage</code> است که توضیحی درباره خطای اعتبارسنجی می‌دهد.</li></ul></li></ol>\n",
    "<h3>نحوه اضافه کردن خطا به ModelState به صورت دستی</h3>\n",
    "<p>گاهی ممکن است نیاز باشد خطایی را به صورت دستی به <code>ModelState</code> اضافه کنیم، مثلاً اگر اعتبارسنجی خاصی خارج از مدل نیاز باشد.</p>\n",
    "</div>"
   ]
  },
  {
   "cell_type": "code",
   "execution_count": null,
   "metadata": {
    "dotnet_interactive": {
     "language": "csharp"
    },
    "polyglot_notebook": {
     "kernelName": "csharp"
    },
    "vscode": {
     "languageId": "polyglot-notebook"
    }
   },
   "outputs": [],
   "source": [
    "ModelState.AddModelError(\"Username\", \"Username already exists.\");\n",
    "ModelState.AddModelError(\"Age\", \"Age must be above 18.\");\n",
    "\n",
    "//خطاهای بالا مربوط به Model هستند\n",
    "\n",
    "ModelState.AddModelError(\"\", \"this is a general error\");\n",
    "// this is general error\n",
    "\n",
    "\n",
    "//ما امکان این را داریم که این دو مدل خطاها را از هم تفکیک کنیم"
   ]
  },
  {
   "cell_type": "code",
   "execution_count": null,
   "metadata": {
    "dotnet_interactive": {
     "language": "csharp"
    },
    "polyglot_notebook": {
     "kernelName": "csharp"
    },
    "vscode": {
     "languageId": "polyglot-notebook"
    }
   },
   "outputs": [],
   "source": [
    "//get state for specific property\n",
    "\n",
    "var nameValidationState = ModelState.GetValidationState(\"Name\");\n",
    "\n",
    "public enum ModelValidationState\n",
    "{\n",
    "    Unvalidated = 0, // هنوز این property را چک نکرده\n",
    "    Invalid = 1,\n",
    "    Valid = 2,\n",
    "    Skipped = 3 // اگر یک خطایی پیدا شد، بقیه را چک نمی کند و آنها Skip می شوند\n",
    "}"
   ]
  }
 ],
 "metadata": {
  "kernelspec": {
   "display_name": ".NET (C#)",
   "language": "C#",
   "name": ".net-csharp"
  },
  "language_info": {
   "name": "python"
  },
  "polyglot_notebook": {
   "kernelInfo": {
    "defaultKernelName": "csharp",
    "items": [
     {
      "aliases": [],
      "name": "csharp"
     }
    ]
   }
  }
 },
 "nbformat": 4,
 "nbformat_minor": 2
}
