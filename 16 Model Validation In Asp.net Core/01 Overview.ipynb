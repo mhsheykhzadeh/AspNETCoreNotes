{
 "cells": [
  {
   "cell_type": "markdown",
   "metadata": {
    "dotnet_interactive": {
     "language": "csharp"
    },
    "polyglot_notebook": {
     "kernelName": "csharp"
    }
   },
   "source": [
    "<div dir=\"rtl\" style=\"margin:auto; width:90%; font-family:vazirmatn\">\n",
    "<p>در ASP.NET Core، <strong>Model Validation</strong> به فرآیند بررسی صحت و کامل بودن داده‌هایی اشاره دارد که از کاربر دریافت می‌شود. این قابلیت بسیار مفید است و می‌تواند به راحتی و با استفاده از <strong>Data Annotations</strong> یا اعتبارسنجی‌های سفارشی پیاده‌سازی شود. اعتبارسنجی مدل‌ها به اطمینان از ورود داده‌های صحیح و جلوگیری از خطاهای احتمالی در سمت سرور کمک می‌کند.</p>\n",
    "\n",
    "<h3>انواع Model Validation در ASP.NET Core</h3>\n",
    "\n",
    "<ol><li><strong>Data Annotations</strong>: استفاده از Attributeها برای اعتبارسنجی.</li><li><strong>اعتبارسنجی سفارشی</strong>: تعریف اعتبارسنجی‌های خاص برای شرایط پیچیده‌تر.</li><li><strong>اعتبارسنجی با استفاده از IValidatableObject</strong>: اعمال اعتبارسنجی سطح مدل.</li></ol>\n",
    "\n",
    "</div>"
   ]
  },
  {
   "cell_type": "markdown",
   "metadata": {},
   "source": [
    "### Explicit Validation"
   ]
  }
 ],
 "metadata": {
  "kernelspec": {
   "display_name": ".NET (C#)",
   "language": "C#",
   "name": ".net-csharp"
  },
  "language_info": {
   "name": "python"
  },
  "polyglot_notebook": {
   "kernelInfo": {
    "defaultKernelName": "csharp",
    "items": [
     {
      "aliases": [],
      "name": "csharp"
     }
    ]
   }
  }
 },
 "nbformat": 4,
 "nbformat_minor": 2
}
