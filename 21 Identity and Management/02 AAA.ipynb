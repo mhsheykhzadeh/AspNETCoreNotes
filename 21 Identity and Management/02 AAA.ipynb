{
 "cells": [
  {
   "cell_type": "markdown",
   "metadata": {},
   "source": [
    "<style>h3{color:#CBB078;font-size:18px;} h2{font-size:20px;font-weight:bolder}</style>\n",
    "<div dir=\"rtl\" style=\"margin:auto; width:90%; font-family:vazirmatn\">\n",
    "<p>در دنیای توسعه نرم‌افزار و به‌ویژه در چارچوب‌های وب مانند ASP.NET Core، مفاهیم <strong>Authentication</strong>، <strong>Authorization</strong> و <strong>Accounting</strong> (که به اختصار <strong>AAA</strong> نامیده می‌شوند) نقش اساسی در مدیریت دسترسی و امنیت سیستم‌ها ایفا می‌کنند. در ادامه هر یک از این مفاهیم را به طور جداگانه توضیح می‌دهم:</p>\n",
    "<h3>۱. <strong>Authentication (احراز هویت)</strong></h3>\n",
    "<p><strong>تعریف:</strong><br>Authentication فرآیندی است که در آن سیستم بررسی می‌کند که کاربر واقعاً همان کسی است که ادعا می‌کند. به عبارت دیگر، این فرآیند تأیید می‌کند که کاربر کیست.</p>\n",
    "<p><strong>مثال:</strong></p>\n",
    "<ul><li><p>ورود به سیستم با استفاده از نام کاربری و رمز عبور.</p></li><li><p>استفاده از روش‌های پیشرفته‌تر مانند احراز هویت دو مرحله‌ای (2FA)، احراز هویت با استفاده از توکن‌ها (مثل JWT)، یا احراز هویت بیومتریک (مانند اثر انگشت یا تشخیص چهره).</p></li></ul>\n",
    "<p><strong>در ASP.NET Core:</strong><br>ASP.NET Core از مکانیزم‌های مختلفی برای احراز هویت پشتیبانی می‌کند، مانند:</p>\n",
    "<ul><li><p><strong>Cookie-based Authentication</strong>: برای ذخیره اطلاعات احراز هویت در کوکی‌ها.</p></li><li><p><strong>Token-based Authentication</strong>: برای استفاده از توکن‌ها (مانند JWT) در برنامه‌های تک صفحه‌ای (SPA) یا API‌ها.</p></li><li><p><strong>External Authentication</strong>: برای احراز هویت از طریق سرویس‌های خارجی مانند Google, Facebook, Microsoft, etc.</p></li></ul>\n",
    "\n",
    "<h3>۲. <strong>Authorization (مجوزدهی)</strong></h3>\n",
    "<p><strong>تعریف:</strong><br>Authorization فرآیندی است که پس از احراز هویت انجام می‌شود و تعیین می‌کند که کاربر مجوز دسترسی به چه منابع یا عملیاتی را دارد. در این مرحله، سیستم بررسی می‌کند که کاربر چه کاری می‌تواند انجام دهد.</p>\n",
    "<p><strong>مثال:</strong></p>\n",
    "<ul><li><p>یک کاربر عادی ممکن است فقط مجوز مشاهده اطلاعات را داشته باشد، در حالی که یک کاربر مدیر می‌تواند اطلاعات را ویرایش یا حذف کند.</p></li><li><p>دسترسی به بخش‌های خاصی از یک وب‌سایت فقط برای کاربران دارای نقش خاص (مانند Admin).</p></li></ul>\n",
    "<p><strong>در ASP.NET Core:</strong><br>ASP.NET Core از <strong>سیاست‌های مجوزدهی (Policies)</strong> و <strong>نقش‌ها (Roles)</strong> برای مدیریت دسترسی استفاده می‌کند.</p>\n",
    "\n",
    "<h3>۳. <strong>Accounting (ثبت فعالیت‌ها)</strong></h3>\n",
    "<p><strong>تعریف:</strong><br>Accounting (یا Auditing) فرآیند ثبت و ردیابی فعالیت‌های کاربران در سیستم است. این فرآیند برای نظارت، بررسی و تحلیل رفتار کاربران و همچنین برای اهداف امنیتی و انطباق با قوانین (مانند GDPR) استفاده می‌شود.</p>\n",
    "<p><strong>مثال:</strong></p>\n",
    "<ul><li><p>ثبت لاگ‌های ورود و خروج کاربران.</p></li><li><p>ثبت تغییرات در داده‌ها (مانند ایجاد، ویرایش یا حذف رکوردها).</p></li><li><p>ردیابی درخواست‌های کاربران به سیستم.</p></li></ul>\n",
    "\n",
    "<h3>جمع‌بندی:</h3>\n",
    "<ul><li><p><strong>Authentication</strong>: تأیید هویت کاربر (چه کسی هستید؟).</p></li><li><p><strong>Authorization</strong>: تعیین مجوزهای کاربر (چه کاری می‌توانید انجام دهید؟).</p></li><li><p><strong>Accounting</strong>: ثبت و ردیابی فعالیت‌های کاربر (چه کاری انجام داده‌اید؟).</p></li></ul>\n",
    "</div>"
   ]
  }
 ],
 "metadata": {
  "language_info": {
   "name": "csharp"
  }
 },
 "nbformat": 4,
 "nbformat_minor": 2
}
