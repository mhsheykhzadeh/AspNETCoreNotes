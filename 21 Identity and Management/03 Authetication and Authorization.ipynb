{
 "cells": [
  {
   "cell_type": "markdown",
   "metadata": {},
   "source": [
    "<style>h3,h4{color:#CBB078;font-size:18px;} h2{font-size:20px;font-weight:bolder}</style>\n",
    "<div dir=\"rtl\" style=\"margin:auto; width:90%; font-family:vazirmatn\">\n",
    "<h4>۱. <strong>Authentication (احراز هویت)</strong></h4>\n",
    "<p><strong>تعریف:</strong><br>Authentication فرآیندی است که در آن سیستم بررسی می‌کند که کاربر واقعاً همان کسی است که ادعا می‌کند. به عبارت دیگر، این فرآیند تأیید می‌کند که کاربر کیست.</p>\n",
    "<p><strong>بخش‌های اصلی Authentication:</strong></p>\n",
    "<ul><li><p><strong>Credentials (اعتبارنامه):</strong><br>این شامل اطلاعاتی است که کاربر برای اثبات هویت خود ارائه می‌دهد، مانند نام کاربری و رمز عبور، اثر انگشت، یا کدهای یکبار مصرف (OTP).</p></li><li><p><strong>Authentication Protocols (پروتکل‌های احراز هویت):</strong><br>پروتکل‌هایی مانند OAuth, OpenID Connect, JWT (JSON Web Tokens) و ... که برای مدیریت فرآیند احراز هویت استفاده می‌شوند.</p></li><li><p><strong>Authentication Middleware (میان‌افزار احراز هویت):</strong><br>در ASP.NET Core، میان‌افزارهایی مانند <code>UseAuthentication</code> و <code>UseAuthorization</code> برای مدیریت فرآیند احراز هویت و اعطای دسترسی استفاده می‌شوند.</p></li><li><p><strong>Authentication Schemes (طرح‌های احراز هویت):</strong><br>این شامل روش‌های مختلفی است که سیستم برای احراز هویت کاربران استفاده می‌کند، مانند Cookie Authentication, JWT Bearer Authentication و غیره.</p></li></ul>\n",
    "<h4>۲. <strong>Authorization (اعطای دسترسی)</strong></h4>\n",
    "<p><strong>تعریف:</strong><br>Authorization فرآیندی است که پس از احراز هویت کاربر انجام می‌شود و تعیین می‌کند که کاربر مجاز به انجام چه اقداماتی است. به عبارت دیگر، این فرآیند تعیین می‌کند که کاربر چه دسترسی‌هایی دارد.</p>\n",
    "<p><strong>بخش‌های اصلی Authorization:</strong></p>\n",
    "<ul><li><p><strong>Roles (نقش‌ها):</strong><br>نقش‌ها گروه‌هایی از کاربران هستند که دسترسی‌های مشابهی دارند. به عنوان مثال، نقش‌هایی مانند Admin, User, Moderator و غیره.</p></li><li><p><strong>Policies (سیاست‌ها):</strong><br>سیاست‌ها مجموعه‌ای از قوانین هستند که تعیین می‌کنند چه کاربرانی می‌توانند به چه منابعی دسترسی داشته باشند. این قوانین می‌توانند بر اساس نقش‌ها، ادعاها (Claims) یا سایر معیارها تعریف شوند.</p></li><li><p><strong>Claims (ادعاها):</strong><br>ادعاها اطلاعاتی هستند که درباره کاربر در طول فرآیند احراز هویت جمع‌آوری می‌شوند و می‌توانند برای اعطای دسترسی استفاده شوند. به عنوان مثال، یک ادعا می‌تواند نشان دهد که کاربر عضو یک گروه خاص است.</p></li><li><p><strong>Authorization Middleware (میان‌افزار اعطای دسترسی):</strong><br>در ASP.NET Core، میان‌افزار <code>UseAuthorization</code> برای مدیریت فرآیند اعطای دسترسی استفاده می‌شود.</p></li></ul>\n",
    "</div>"
   ]
  },
  {
   "cell_type": "markdown",
   "metadata": {},
   "source": [
    "### **`User` in HttpContext**"
   ]
  },
  {
   "cell_type": "markdown",
   "metadata": {},
   "source": [
    "<style>h3,h4{color:#CBB078;font-size:18px;} h2{font-size:20px;font-weight:bolder}</style>\n",
    "<div dir=\"rtl\" style=\"margin:auto; width:90%; font-family:vazirmatn\">\n",
    "<p>در ASP.NET Core، کلاس <code>User</code> یک ویژگی (Property) از نوع <code>ClaimsPrincipal</code> است که در <code>HttpContext</code> وجود دارد. این کلاس نقش مهمی در مدیریت اطلاعات مربوط به کاربران در طول درخواست‌های HTTP ایفا می‌کند.</p>\n",
    "\n",
    "<h4>۱. <strong>نوع کلاس <code>User</code></strong></h4>\n",
    "<ul><li><p><strong>نوع:</strong> <code>ClaimsPrincipal</code><br>کلاس <code>User</code> از نوع <code>ClaimsPrincipal</code> است. این کلاس بخشی از فضای نام <code>System.Security.Claims</code> است و برای نگهداری اطلاعات مربوط به هویت کاربر (Identity) و ادعاها (Claims) استفاده می‌شود.</p></li></ul>\n",
    "<h4>۲. <strong>زمان ایجاد</strong></h4>\n",
    "<ul><li><p><strong>ایجاد:</strong><br>شیء <code>User</code> معمولاً در طول فرآیند <strong>Authentication</strong> ایجاد می‌شود. زمانی که کاربر وارد سیستم می‌شود و احراز هویت موفقیت‌آمیز انجام می‌شود، سیستم یک شیء <code>ClaimsPrincipal</code> ایجاد می‌کند و آن را به <code>HttpContext.User</code> اختصاص می‌دهد.<br>این شیء در طول درخواست HTTP (Request) در دسترس است و می‌تواند برای بررسی دسترسی‌ها (Authorization) و سایر عملیات مرتبط با کاربر استفاده شود.</p></li></ul>\n",
    "<h4>۳. <strong>اطلاعات نگهداری شده در <code>User</code></strong></h4>\n",
    "<p>کلاس <code>User</code> (یا <code>ClaimsPrincipal</code>) اطلاعات زیر را در خود نگهداری می‌کند:</p>\n",
    "<ul><li><p><strong>Identity (هویت):</strong><br>شیء <code>User</code> شامل یک یا چند <code>ClaimsIdentity</code> است که هر کدام نشان‌دهنده یک هویت کاربر است. این هویت‌ها می‌توانند شامل اطلاعاتی مانند نام کاربری، نقش‌ها (Roles) و سایر ادعاها (Claims) باشند.</p></li><li><p><strong>Claims (ادعاها):</strong><br>ادعاها (Claims) اطلاعاتی هستند که درباره کاربر در طول فرآیند احراز هویت جمع‌آوری می‌شوند. هر ادعا شامل یک نوع (Type) و یک مقدار (Value) است. به عنوان مثال:</p><ul><li><p><code>ClaimTypes.Name</code>: نام کاربری کاربر.</p></li><li><p><code>ClaimTypes.Role</code>: نقش کاربر (مانند Admin, User و غیره).</p></li><li><p><code>ClaimTypes.Email</code>: آدرس ایمیل کاربر.</p></li></ul><p>شما می‌توانید از متد <code>User.Claims</code> برای دسترسی به تمام ادعاهای کاربر استفاده کنید.</p></li><li><p><strong>Roles (نقش‌ها):</strong><br>اگر کاربر دارای نقش‌هایی باشد، این نقش‌ها نیز در <code>User</code> نگهداری می‌شوند. شما می‌توانید از متد <code>User.IsInRole(\"RoleName\")</code> برای بررسی اینکه آیا کاربر در یک نقش خاص است یا خیر استفاده کنید.</p></li><li><p><strong>Authentication Type (نوع احراز هویت):</strong><br>این مشخص می‌کند که کاربر با چه روشی احراز هویت شده است (مثلاً Cookie, JWT, و غیره). شما می‌توانید از <code>User.Identity.AuthenticationType</code> برای دسترسی به این اطلاعات استفاده کنید.</p></li></ul>\n",
    "\n",
    "</div>"
   ]
  },
  {
   "cell_type": "markdown",
   "metadata": {},
   "source": [
    "### **`Authentication` and `Authorization` Process**"
   ]
  },
  {
   "cell_type": "markdown",
   "metadata": {},
   "source": [
    "<style>h3,h4{color:#CBB078;font-size:18px;} h2{font-size:20px;font-weight:bolder}</style>\n",
    "<div dir=\"rtl\" style=\"margin:auto; width:90%; font-family:vazirmatn\">\n",
    "<h3 data-start=\"0\" data-end=\"70\"><strong data-start=\"4\" data-end=\"68\">فرایند احراز هویت در ASP.NET Core Identity – یک دید سطح بالا</strong></h3>\n",
    "<p data-start=\"72\" data-end=\"333\">در <strong data-start=\"75\" data-end=\"100\">ASP.NET Core Identity</strong>، احراز هویت و شناسایی کاربر در درخواست‌های بعدی طی یک فرایند چندمرحله‌ای انجام می‌شود. این فرایند شامل ارسال اطلاعات کاربری، بررسی صحت اطلاعات، ایجاد یک توکن احراز هویت، ذخیره آن در کلاینت، و استفاده از آن در درخواست‌های بعدی است.</p>\n",
    "\n",
    "<h3 data-start=\"340\" data-end=\"384\"><strong data-start=\"344\" data-end=\"382\">۱. ارسال اطلاعات کاربری توسط کاربر</strong></h3>\n",
    "<p data-start=\"385\" data-end=\"552\">کاربر هنگام ورود به سیستم، اطلاعات احراز هویت خود (مانند نام کاربری و رمز عبور) را ارسال می‌کند. این اطلاعات معمولاً از طریق فرم ورود یا API فرانت‌اند ارسال می‌شوند.</p>\n",
    "<h3 data-start=\"559\" data-end=\"598\"><strong data-start=\"563\" data-end=\"596\">۲. بررسی اعتبار اطلاعات کاربر</strong></h3>\n",
    "<p data-start=\"599\" data-end=\"660\">سیستم اطلاعات ارسال‌شده را بررسی کرده و در صورت معتبر بودن:</p>\n",
    "<ul data-start=\"661\" data-end=\"823\"><li data-start=\"661\" data-end=\"707\">وجود کاربر را در پایگاه داده بررسی می‌کند.</li><li data-start=\"708\" data-end=\"769\">رمز عبور را با مقدار هش‌شده در پایگاه داده مقایسه می‌کند.</li><li data-start=\"770\" data-end=\"823\">در صورت موفقیت، کاربر تأیید شده و آماده ورود است.</li></ul>\n",
    "<h3 data-start=\"830\" data-end=\"872\"><strong data-start=\"834\" data-end=\"870\">۳. ایجاد و ارسال توکن احراز هویت</strong></h3>\n",
    "<p data-start=\"873\" data-end=\"1012\">پس از تأیید اعتبار، سیستم یک <strong data-start=\"902\" data-end=\"921\">توکن احراز هویت</strong> ایجاد کرده و به کلاینت ارسال می‌کند. این توکن معمولاً به یکی از دو روش زیر ایجاد می‌شود:</p>\n",
    "<ol data-start=\"1014\" data-end=\"1534\"><li data-start=\"1014\" data-end=\"1271\"><p data-start=\"1017\" data-end=\"1068\"><strong data-start=\"1017\" data-end=\"1066\">کوکی احراز هویت (Cookie-based Authentication)</strong></p><ul data-start=\"1072\" data-end=\"1271\"><li data-start=\"1072\" data-end=\"1137\">برای برنامه‌های <strong data-start=\"1090\" data-end=\"1119\">وب سنتی (MVC/Razor Pages)</strong> استفاده می‌شود.</li><li data-start=\"1141\" data-end=\"1202\">اطلاعات هویتی کاربر در یک کوکی رمزگذاری‌شده ذخیره می‌شود.</li><li data-start=\"1206\" data-end=\"1271\">مرورگر این کوکی را در درخواست‌های بعدی به همراه ارسال می‌کند.</li></ul></li><li data-start=\"1273\" data-end=\"1534\"><p data-start=\"1276\" data-end=\"1319\"><strong data-start=\"1276\" data-end=\"1317\">توکن JWT (Token-based Authentication)</strong></p><ul data-start=\"1323\" data-end=\"1534\"><li data-start=\"1323\" data-end=\"1381\">برای <strong data-start=\"1330\" data-end=\"1363\">APIها و کلاینت‌های موبایل/SPA</strong> استفاده می‌شود.</li><li data-start=\"1385\" data-end=\"1451\">یک توکن JSON Web Token (JWT) ساخته شده و به کلاینت بازمی‌گردد.</li><li data-start=\"1455\" data-end=\"1534\">کلاینت این توکن را در هدر <code data-start=\"1483\" data-end=\"1498\">Authorization</code> در درخواست‌های بعدی ارسال می‌کند.</li></ul></li></ol>\n",
    "<h3 data-start=\"1541\" data-end=\"1584\"><strong data-start=\"1545\" data-end=\"1582\">۴. ارسال توکن در درخواست‌های بعدی</strong></h3>\n",
    "<p data-start=\"1585\" data-end=\"1693\">در درخواست‌های بعدی، کلاینت (مرورگر یا اپلیکیشن موبایل) <strong data-start=\"1641\" data-end=\"1690\">توکن احراز هویت را همراه درخواست ارسال می‌کند</strong>:</p>\n",
    "<ul data-start=\"1694\" data-end=\"1846\"><li data-start=\"1694\" data-end=\"1757\">در روش کوکی، کوکی به‌طور خودکار همراه درخواست ارسال می‌شود.</li><li data-start=\"1758\" data-end=\"1846\">در روش توکن JWT، کلاینت توکن را در هدر <code data-start=\"1799\" data-end=\"1830\">Authorization: Bearer &lt;token&gt;</code> ارسال می‌کند.</li></ul>\n",
    "<h3 data-start=\"1853\" data-end=\"1912\"><strong data-start=\"1857\" data-end=\"1910\">۵. شناسایی و اعتبارسنجی کاربر در درخواست‌های بعدی</strong></h3>\n",
    "<p data-start=\"1913\" data-end=\"1948\">وقتی درخواست جدیدی دریافت می‌شود:</p>\n",
    "<ol data-start=\"1949\" data-end=\"2138\"><li data-start=\"1949\" data-end=\"1991\">سیستم توکن ارسال‌شده را بررسی می‌کند.</li><li data-start=\"1992\" data-end=\"2057\">در صورت معتبر بودن، اطلاعات کاربر از داخل آن استخراج می‌شود.</li><li data-start=\"2058\" data-end=\"2138\">اطلاعات کاربر به <code data-start=\"2078\" data-end=\"2096\">HttpContext.User</code> اضافه شده و در کل درخواست در دسترس است.</li></ol>\n",
    "<h3 data-start=\"2145\" data-end=\"2197\"><strong data-start=\"2149\" data-end=\"2195\">۶. تعیین سطح دسترسی و ادامه پردازش درخواست</strong></h3>\n",
    "<p data-start=\"2198\" data-end=\"2237\">بعد از شناسایی کاربر، سیستم می‌تواند:</p>\n",
    "<ul data-start=\"2238\" data-end=\"2389\"><li data-start=\"2238\" data-end=\"2325\"><strong data-start=\"2240\" data-end=\"2306\">بررسی کند که آیا کاربر مجاز به دسترسی به یک بخش خاص است یا خیر</strong> (Authorization).</li><li data-start=\"2326\" data-end=\"2389\"><strong data-start=\"2328\" data-end=\"2386\">اطلاعات کاربر را برای پردازش درخواست در دسترس قرار دهد</strong>.</li></ul>\n",
    "<h3 data-start=\"2396\" data-end=\"2428\"><strong data-start=\"2400\" data-end=\"2426\">۷. خروج کاربر (Logout)</strong></h3>\n",
    "<p data-start=\"2429\" data-end=\"2463\">وقتی کاربر از سیستم خارج می‌شود:</p>\n",
    "<ul data-start=\"2464\" data-end=\"2581\"><li data-start=\"2464\" data-end=\"2511\">در روش <strong data-start=\"2473\" data-end=\"2481\">کوکی</strong>، کوکی از مرورگر حذف می‌شود.</li><li data-start=\"2512\" data-end=\"2581\">در روش <strong data-start=\"2521\" data-end=\"2533\">توکن JWT</strong>، توکن در کلاینت حذف شده و دیگر ارسال نمی‌شود.</li></ul>\n",
    "</div>"
   ]
  },
  {
   "cell_type": "markdown",
   "metadata": {},
   "source": [
    "### **`SignInManager`**"
   ]
  },
  {
   "cell_type": "markdown",
   "metadata": {},
   "source": [
    "<style>h3,h4{color:#CBB078;font-size:18px;} h2{color:#CBB078;font-size:20px;font-weight:bolder}</style>\n",
    "<div dir=\"rtl\" style=\"margin:auto; width:90%; font-family:vazirmatn\">\n",
    "<p data-start=\"57\" data-end=\"330\"><code data-start=\"57\" data-end=\"79\">SignInManager&lt;TUser&gt;</code> یکی از کلاس‌های کلیدی در <strong data-start=\"105\" data-end=\"130\">ASP.NET Core Identity</strong> است که وظیفه <strong data-start=\"144\" data-end=\"174\">مدیریت ورود و خروج کاربران</strong> را بر عهده دارد. این کلاس مجموعه‌ای از متدها برای احراز هویت، مدیریت کوکی‌ها، بررسی وضعیت ورود و خروج، و سایر عملیات مرتبط با ورود کاربر را فراهم می‌کند.</p>\n",
    "<h2 data-start=\"337\" data-end=\"376\"><strong data-start=\"340\" data-end=\"374\">۱. نقش و وظایف <code data-start=\"357\" data-end=\"372\">SignInManager</code></strong></h2>\n",
    "<p data-start=\"377\" data-end=\"759\">این کلاس وظایف زیر را انجام می‌دهد:<br data-start=\"412\" data-end=\"415\">✅ <strong data-start=\"417\" data-end=\"460\">بررسی اعتبار کاربری و انجام فرآیند ورود</strong><br data-start=\"460\" data-end=\"463\">✅ <strong data-start=\"465\" data-end=\"499\">ایجاد و مدیریت کوکی احراز هویت</strong><br data-start=\"499\" data-end=\"502\">✅ <strong data-start=\"504\" data-end=\"561\">پشتیبانی از قابلیت \"مرا به خاطر بسپار\" (<code data-start=\"546\" data-end=\"558\">RememberMe</code>)</strong><br data-start=\"561\" data-end=\"564\">✅ <strong data-start=\"566\" data-end=\"632\">پشتیبانی از قفل شدن حساب پس از چند بار ورود ناموفق (<code data-start=\"620\" data-end=\"629\">Lockout</code>)</strong><br data-start=\"632\" data-end=\"635\">✅ <strong data-start=\"637\" data-end=\"718\">مدیریت احراز هویت با روش‌های خارجی (مانند Google، Facebook، Microsoft, OAuth)</strong><br data-start=\"718\" data-end=\"721\">✅ <strong data-start=\"723\" data-end=\"757\">انجام عملیات خروج (<code data-start=\"744\" data-end=\"754\">Sign Out</code>)</strong></p>\n",
    "<h2 data-start=\"766\" data-end=\"805\"><strong data-start=\"769\" data-end=\"803\">۲. وابستگی‌های <code data-start=\"786\" data-end=\"801\">SignInManager</code></strong></h2>\n",
    "<p data-start=\"806\" data-end=\"881\">کلاس <code data-start=\"811\" data-end=\"826\">SignInManager</code> معمولاً در کنار <code data-start=\"843\" data-end=\"863\">UserManager&lt;TUser&gt;</code> استفاده می‌شود.</p>\n",
    "<ul data-start=\"882\" data-end=\"1108\"><li data-start=\"882\" data-end=\"998\"><code data-start=\"884\" data-end=\"904\">UserManager&lt;TUser&gt;</code> برای <strong data-start=\"910\" data-end=\"928\">مدیریت کاربران</strong> (مانند ثبت‌نام، تغییر رمز عبور، قفل کردن حساب و...) استفاده می‌شود.</li><li data-start=\"999\" data-end=\"1108\"><code data-start=\"1001\" data-end=\"1023\">SignInManager&lt;TUser&gt;</code> برای <strong data-start=\"1029\" data-end=\"1058\">مدیریت فرآیند ورود و خروج</strong> و <strong data-start=\"1061\" data-end=\"1090\">ایجاد کوکی‌های احراز هویت</strong> استفاده می‌شود.</li></ul>\n",
    "<p data-start=\"1110\" data-end=\"1241\"><code data-start=\"1110\" data-end=\"1125\">SignInManager</code> از <strong data-start=\"1129\" data-end=\"1148\">کوکی احراز هویت</strong> (در روش مبتنی بر کوکی) برای نگه‌داشتن وضعیت ورود کاربر در درخواست‌های بعدی استفاده می‌کند.</p>\n",
    "<h2 data-start=\"1248\" data-end=\"1286\"><strong data-start=\"1251\" data-end=\"1284\">۳. متدهای مهم <code data-start=\"1267\" data-end=\"1282\">SignInManager</code></strong></h2>\n",
    "<h3 data-start=\"1288\" data-end=\"1354\"><strong data-start=\"1292\" data-end=\"1352\">۱. <code data-start=\"1297\" data-end=\"1318\">PasswordSignInAsync</code> – ورود با نام کاربری و رمز عبور</strong></h3>\n",
    "<p data-start=\"1355\" data-end=\"1443\">این متد اطلاعات کاربری را دریافت کرده و در صورت صحیح بودن، کاربر را وارد سیستم می‌کند.</p>\n",
    "</div>"
   ]
  },
  {
   "cell_type": "code",
   "execution_count": null,
   "metadata": {
    "dotnet_interactive": {
     "language": "csharp"
    },
    "polyglot_notebook": {
     "kernelName": "csharp"
    },
    "vscode": {
     "languageId": "polyglot-notebook"
    }
   },
   "outputs": [],
   "source": [
    "var result = await _signInManager.PasswordSignInAsync(username, password, rememberMe: true, lockoutOnFailure: false);\n",
    "if (result.Succeeded)\n",
    "{\n",
    "    // کاربر با موفقیت وارد شد\n",
    "}"
   ]
  },
  {
   "cell_type": "markdown",
   "metadata": {},
   "source": [
    "<style>h3,h4{color:#CBB078;font-size:18px;} h2{color:#CBB078;font-size:20px;font-weight:bolder}</style>\n",
    "<div dir=\"rtl\" style=\"margin:auto; width:90%; font-family:vazirmatn\">\n",
    "<p data-start=\"1634\" data-end=\"1811\">🔹 اگر <code data-start=\"1641\" data-end=\"1653\">rememberMe</code> مقدار <code data-start=\"1660\" data-end=\"1666\">true</code> باشد، کوکی احراز هویت <strong data-start=\"1689\" data-end=\"1698\">دائمی</strong> خواهد بود.<br data-start=\"1709\" data-end=\"1712\">🔹 اگر <code data-start=\"1719\" data-end=\"1737\">lockoutOnFailure</code> مقدار <code data-start=\"1744\" data-end=\"1750\">true</code> باشد، در صورت ورود ناموفق چندباره، حساب کاربری قفل می‌شود.</p>\n",
    "<h3 data-start=\"1818\" data-end=\"1873\"><strong data-start=\"1822\" data-end=\"1871\">۲. <code data-start=\"1827\" data-end=\"1840\">SignInAsync</code> – ورود بدون نیاز به رمز عبور</strong></h3>\n",
    "<p data-start=\"1874\" data-end=\"1964\">این متد یک <code data-start=\"1885\" data-end=\"1902\">ClaimsPrincipal</code> را برای کاربر ایجاد کرده و کوکی احراز هویت را تنظیم می‌کند.</p>\n",
    "</div>"
   ]
  },
  {
   "cell_type": "code",
   "execution_count": null,
   "metadata": {
    "dotnet_interactive": {
     "language": "csharp"
    },
    "polyglot_notebook": {
     "kernelName": "csharp"
    },
    "vscode": {
     "languageId": "polyglot-notebook"
    }
   },
   "outputs": [],
   "source": [
    "await _signInManager.SignInAsync(user, isPersistent: true);"
   ]
  },
  {
   "cell_type": "markdown",
   "metadata": {},
   "source": [
    "<style>h3,h4{color:#CBB078;font-size:18px;} h2{color:#CBB078;font-size:20px;font-weight:bolder}</style>\n",
    "<div dir=\"rtl\" style=\"margin:auto; width:90%; font-family:vazirmatn\">\n",
    "<p data-start=\"2040\" data-end=\"2194\">🔹 این متد معمولاً زمانی استفاده می‌شود که کاربر از روش‌های دیگر مانند <strong data-start=\"2111\" data-end=\"2139\">ورود با شبکه‌های اجتماعی</strong> یا <strong data-start=\"2143\" data-end=\"2171\">ورود با لینک تأیید ایمیل</strong> احراز هویت شده باشد.</p>\n",
    "<h3 data-start=\"2201\" data-end=\"2250\"><strong data-start=\"2205\" data-end=\"2248\">۳. <code data-start=\"2210\" data-end=\"2224\">SignOutAsync</code> – خروج از حساب کاربری</strong></h3>\n",
    "<p data-start=\"2251\" data-end=\"2297\">این متد کوکی احراز هویت کاربر را حذف می‌کند.</p>\n",
    "</div>"
   ]
  },
  {
   "cell_type": "code",
   "execution_count": null,
   "metadata": {
    "dotnet_interactive": {
     "language": "csharp"
    },
    "polyglot_notebook": {
     "kernelName": "csharp"
    },
    "vscode": {
     "languageId": "polyglot-notebook"
    }
   },
   "outputs": [],
   "source": [
    "await _signInManager.SignOutAsync();"
   ]
  },
  {
   "cell_type": "markdown",
   "metadata": {},
   "source": [
    "<style>h3,h4{color:#CBB078;font-size:18px;} h2{color:#CBB078;font-size:20px;font-weight:bolder}</style>\n",
    "<div dir=\"rtl\" style=\"margin:auto; width:90%; font-family:vazirmatn\">\n",
    "<p data-start=\"2350\" data-end=\"2418\">🔹 بعد از اجرای این متد، درخواست‌های بعدی کاربر ناشناس خواهند بود.</p>\n",
    "<h3 data-start=\"2425\" data-end=\"2500\"><strong data-start=\"2429\" data-end=\"2498\">۴. <code data-start=\"2434\" data-end=\"2460\">CheckPasswordSignInAsync</code> – بررسی رمز عبور بدون ورود به سیستم</strong></h3>\n",
    "<p data-start=\"2501\" data-end=\"2566\">گاهی نیاز است بدون ورود کامل کاربر، صحت رمز عبور را بررسی کنیم:</p>\n",
    "</div>"
   ]
  },
  {
   "cell_type": "code",
   "execution_count": null,
   "metadata": {
    "dotnet_interactive": {
     "language": "csharp"
    },
    "polyglot_notebook": {
     "kernelName": "csharp"
    },
    "vscode": {
     "languageId": "polyglot-notebook"
    }
   },
   "outputs": [],
   "source": [
    "var result = await _signInManager.CheckPasswordSignInAsync(user, password, lockoutOnFailure: false);\n",
    "if (result.Succeeded)\n",
    "{\n",
    "    // رمز عبور درست است اما کاربر هنوز لاگین نشده است\n",
    "}"
   ]
  },
  {
   "cell_type": "markdown",
   "metadata": {},
   "source": [
    "<style>h3,h4{color:#CBB078;font-size:18px;} h2{color:#CBB078;font-size:20px;font-weight:bolder}</style>\n",
    "<div dir=\"rtl\" style=\"margin:auto; width:90%; font-family:vazirmatn\">\n",
    "<h3 data-start=\"2770\" data-end=\"2864\"><strong data-start=\"2774\" data-end=\"2862\">۵. <code data-start=\"2779\" data-end=\"2816\">GetTwoFactorAuthenticationUserAsync</code> – بازیابی کاربر برای احراز هویت دو مرحله‌ای</strong></h3>\n",
    "<p data-start=\"2865\" data-end=\"2977\">اگر <strong data-start=\"2869\" data-end=\"2901\">احراز هویت دو مرحله‌ای (2FA)</strong> فعال باشد، این متد کاربری را که در حال انجام این فرایند است، برمی‌گرداند:</p>\n",
    "</div>"
   ]
  },
  {
   "cell_type": "code",
   "execution_count": null,
   "metadata": {
    "dotnet_interactive": {
     "language": "csharp"
    },
    "polyglot_notebook": {
     "kernelName": "csharp"
    },
    "vscode": {
     "languageId": "polyglot-notebook"
    }
   },
   "outputs": [],
   "source": [
    "var user = await _signInManager.GetTwoFactorAuthenticationUserAsync();"
   ]
  },
  {
   "cell_type": "markdown",
   "metadata": {},
   "source": [
    "<style>h3,h4{color:#CBB078;font-size:18px;} h2{color:#CBB078;font-size:20px;font-weight:bolder}</style>\n",
    "<div dir=\"rtl\" style=\"margin:auto; width:90%; font-family:vazirmatn\">\n",
    "<h3 data-start=\"3070\" data-end=\"3151\"><strong data-start=\"3074\" data-end=\"3149\">۶. <code data-start=\"3079\" data-end=\"3114\">TwoFactorAuthenticatorSignInAsync</code> – ورود با احراز هویت دو مرحله‌ای</strong></h3>\n",
    "<p data-start=\"3152\" data-end=\"3244\">وقتی کاربر کد ۲مرحله‌ای را ارسال می‌کند، از این متد برای تکمیل فرآیند ورود استفاده می‌شود:</p>\n",
    "</div>"
   ]
  },
  {
   "cell_type": "code",
   "execution_count": null,
   "metadata": {
    "dotnet_interactive": {
     "language": "csharp"
    },
    "polyglot_notebook": {
     "kernelName": "csharp"
    },
    "vscode": {
     "languageId": "polyglot-notebook"
    }
   },
   "outputs": [],
   "source": [
    "var result = await _signInManager.TwoFactorAuthenticatorSignInAsync(code, rememberMe: false, rememberClient: true);\n",
    "if (result.Succeeded)\n",
    "{\n",
    "    // ورود موفقیت‌آمیز بود\n",
    "}"
   ]
  },
  {
   "cell_type": "markdown",
   "metadata": {},
   "source": [
    "<style>h3,h4{color:#CBB078;font-size:18px;} h2{color:#CBB078;font-size:20px;font-weight:bolder}</style>\n",
    "<div dir=\"rtl\" style=\"margin:auto; width:90%; font-family:vazirmatn\">\n",
    "<h3 data-start=\"0\" data-end=\"50\"><strong data-start=\"4\" data-end=\"48\">۱. <code data-start=\"9\" data-end=\"40\">AspNet.Identity.SecurityStamp</code> چیست؟</strong></h3>\n",
    "<p data-start=\"51\" data-end=\"269\">🔹 <strong data-start=\"54\" data-end=\"72\">Security Stamp</strong> در ASP.NET Core Identity یک <strong data-start=\"101\" data-end=\"130\">توکن تصادفی و منحصربه‌فرد</strong> است که برای ردیابی تغییرات حساس در حساب کاربری استفاده می‌شود.<br data-start=\"193\" data-end=\"196\">🔹 این مقدار هر بار که یک تغییر مهم در حساب کاربر رخ دهد، تغییر می‌کند.</p>\n",
    "<h4 data-start=\"271\" data-end=\"323\"><strong data-start=\"276\" data-end=\"321\">📌 چه زمانی <code data-start=\"290\" data-end=\"305\">SecurityStamp</code> تغییر می‌کند؟</strong></h4>\n",
    "<p data-start=\"324\" data-end=\"525\">✅ وقتی <strong data-start=\"331\" data-end=\"359\">رمز عبور کاربر تغییر کند</strong><br data-start=\"359\" data-end=\"362\">✅ وقتی <strong data-start=\"369\" data-end=\"417\">ایمیل یا شماره موبایل تأیید شود یا تغییر کند</strong><br data-start=\"417\" data-end=\"420\">✅ وقتی <strong data-start=\"427\" data-end=\"471\">یک ادعای امنیتی (Claim) اضافه یا حذف شود</strong><br data-start=\"471\" data-end=\"474\">✅ وقتی <strong data-start=\"481\" data-end=\"523\">کاربر قفل (Lock) یا آنلاک (Unlock) شود</strong></p>\n",
    "<h4 data-start=\"532\" data-end=\"585\"><strong data-start=\"537\" data-end=\"583\">📌 چطور از <code data-start=\"550\" data-end=\"565\">SecurityStamp</code> استفاده می‌شود؟</strong></h4>\n",
    "<p data-start=\"586\" data-end=\"833\">🔹 در هنگام ورود به سیستم (<code data-start=\"613\" data-end=\"628\">SignInManager</code>)، مقدار <code data-start=\"637\" data-end=\"652\">SecurityStamp</code> بررسی می‌شود.<br data-start=\"666\" data-end=\"669\">🔹 اگر <code data-start=\"676\" data-end=\"691\">SecurityStamp</code> کاربر با مقدار ذخیره‌شده در کوکی احراز هویت <strong data-start=\"736\" data-end=\"751\">متفاوت باشد</strong>، سیستم <strong data-start=\"759\" data-end=\"796\">توکن احراز هویت را نامعتبر می‌کند</strong> و کاربر مجبور به ورود مجدد می‌شود.</p>\n",
    "<p data-start=\"835\" data-end=\"958\">✅ <strong data-start=\"837\" data-end=\"854\">مثال کاربردی:</strong> اگر کاربر رمز عبور خود را تغییر دهد، <code data-start=\"892\" data-end=\"907\">SecurityStamp</code> تغییر می‌کند و <strong data-start=\"923\" data-end=\"955\">همه جلسات قبلی منقضی می‌شوند</strong>.</p>\n",
    "<h3 data-start=\"965\" data-end=\"989\"><strong data-start=\"969\" data-end=\"987\">۲. <code data-start=\"974\" data-end=\"979\">amr</code> چیست؟</strong></h3>\n",
    "<p data-start=\"990\" data-end=\"1152\">🔹 <strong data-start=\"993\" data-end=\"1038\"><code data-start=\"995\" data-end=\"1000\">amr</code> (Authentication Methods References)</strong> نشان می‌دهد که <strong data-start=\"1054\" data-end=\"1093\">کاربر با چه روشی احراز هویت شده است</strong>.<br data-start=\"1094\" data-end=\"1097\">🔹 این مقدار در <strong data-start=\"1113\" data-end=\"1126\">JWT Token</strong> و <strong data-start=\"1129\" data-end=\"1139\">Claims</strong> وجود دارد.</p>\n",
    "<h4 data-start=\"1154\" data-end=\"1203\"><strong data-start=\"1159\" data-end=\"1201\">📌 مقدار <code data-start=\"1170\" data-end=\"1175\">amr</code> چه چیزی را نشان می‌دهد؟</strong></h4>\n",
    "<p data-start=\"1204\" data-end=\"1467\">✅ <strong data-start=\"1206\" data-end=\"1215\">\"pwd\"</strong> → کاربر با <strong data-start=\"1227\" data-end=\"1239\">رمز عبور</strong> وارد شده است<br data-start=\"1252\" data-end=\"1255\">✅ <strong data-start=\"1257\" data-end=\"1266\">\"mfa\"</strong> → کاربر با <strong data-start=\"1278\" data-end=\"1310\">احراز هویت چندمرحله‌ای (2FA)</strong> وارد شده است<br data-start=\"1323\" data-end=\"1326\">✅ <strong data-start=\"1328\" data-end=\"1337\">\"fpt\"</strong> → کاربر با <strong data-start=\"1349\" data-end=\"1376\">اثر انگشت (Fingerprint)</strong> وارد شده است<br data-start=\"1389\" data-end=\"1392\">✅ <strong data-start=\"1394\" data-end=\"1403\">\"otp\"</strong> → کاربر با <strong data-start=\"1415\" data-end=\"1452\">کد یک‌بارمصرف (One-Time Password)</strong> وارد شده است</p>\n",
    "</div>"
   ]
  },
  {
   "cell_type": "markdown",
   "metadata": {},
   "source": [
    "### `Authorization`"
   ]
  },
  {
   "cell_type": "markdown",
   "metadata": {},
   "source": [
    "<style>h3,h4{color:#CBB078;font-size:18px;} h2{color:#CBB078;font-size:20px;font-weight:bolder}</style>\n",
    "<div dir=\"rtl\" style=\"margin:auto; width:90%; font-family:vazirmatn\">\n",
    "<p>در <strong>ASP.NET Core</strong>، <strong>Authorization (اعطای دسترسی)</strong> به روش‌های مختلفی پیاده‌سازی می‌شود. این روش‌ها به شما امکان می‌دهند تا دسترسی کاربران به منابع و عملیات‌های مختلف را کنترل کنید. در ادامه، انواع روش‌های پیاده‌سازی Authorization را توضیح می‌دهم:</p>\n",
    "<h3>۱. <strong>Role-Based Authorization (اعطای دسترسی بر اساس نقش)</strong></h3>\n",
    "<p>این روش یکی از رایج‌ترین روش‌ها است و دسترسی کاربران را بر اساس <strong>نقش‌های (Roles)</strong> آن‌ها کنترل می‌کند.</p>\n",
    "<h4><strong>پیاده‌سازی:</strong></h4>\n",
    "<ul><li><p>ابتدا نقش‌ها را در سیستم تعریف می‌کنید (مانند Admin, User, Moderator و غیره).</p></li><li><p>سپس با استفاده از اتریبیوت <code>[Authorize]</code>، دسترسی به کنترلرها یا اکشن‌ها را محدود می‌کنید.</p></li></ul>\n",
    "</div>"
   ]
  },
  {
   "cell_type": "code",
   "execution_count": null,
   "metadata": {
    "dotnet_interactive": {
     "language": "csharp"
    },
    "polyglot_notebook": {
     "kernelName": "csharp"
    },
    "vscode": {
     "languageId": "polyglot-notebook"
    }
   },
   "outputs": [],
   "source": [
    "[Authorize(Roles = \"Admin\")]\n",
    "public class AdminController : Controller\n",
    "{\n",
    "    public IActionResult Index()\n",
    "    {\n",
    "        return View();\n",
    "    }\n",
    "}\n",
    "\n",
    "[Authorize(Roles = \"Admin, Moderator\")]\n",
    "public IActionResult Manage()\n",
    "{\n",
    "    return View();\n",
    "}"
   ]
  },
  {
   "cell_type": "markdown",
   "metadata": {},
   "source": [
    "<style>h3,h4{color:#CBB078;font-size:18px;} h2{color:#CBB078;font-size:20px;font-weight:bolder}</style>\n",
    "<div dir=\"rtl\" style=\"margin:auto; width:90%; font-family:vazirmatn\">\n",
    "<h3>۲. <strong>Policy-Based Authorization (اعطای دسترسی بر اساس سیاست)</strong></h3>\n",
    "<p>این روش انعطاف‌پذیرتر است و به شما امکان می‌دهد <strong>سیاست‌های (Policies)</strong> سفارشی برای اعطای دسترسی تعریف کنید. هر سیاست می‌تواند شامل یک یا چند شرط باشد.</p>\n",
    "<h4><strong>پیاده‌سازی:</strong></h4>\n",
    "<ul><li><p>ابتدا سیاست‌ها را در <code>Program.cs</code> یا <code>Startup.cs</code> تعریف می‌کنید:</p></li></ul>\n",
    "</div>"
   ]
  },
  {
   "cell_type": "code",
   "execution_count": null,
   "metadata": {
    "dotnet_interactive": {
     "language": "csharp"
    },
    "polyglot_notebook": {
     "kernelName": "csharp"
    },
    "vscode": {
     "languageId": "polyglot-notebook"
    }
   },
   "outputs": [],
   "source": [
    "builder.Services.AddAuthorization(options =>\n",
    "{\n",
    "    options.AddPolicy(\"MinimumAge\", policy =>\n",
    "        policy.RequireClaim(\"Age\", \"18\")); // کاربر باید ادعای Age با مقدار 18 داشته باشد.\n",
    "\n",
    "    options.AddPolicy(\"AdminOnly\", policy =>\n",
    "        policy.RequireRole(\"Admin\")); // کاربر باید نقش Admin داشته باشد.\n",
    "});"
   ]
  },
  {
   "cell_type": "markdown",
   "metadata": {},
   "source": [
    "<style>h3,h4{color:#CBB078;font-size:18px;} h2{color:#CBB078;font-size:20px;font-weight:bolder}</style>\n",
    "<div dir=\"rtl\" style=\"margin:auto; width:90%; font-family:vazirmatn\">\n",
    "<ul><li><p>سپس از سیاست‌ها در کنترلرها یا اکشن‌ها استفاده می‌کنید:</p></li></ul>\n",
    "</div>"
   ]
  },
  {
   "cell_type": "code",
   "execution_count": null,
   "metadata": {
    "dotnet_interactive": {
     "language": "csharp"
    },
    "polyglot_notebook": {
     "kernelName": "csharp"
    },
    "vscode": {
     "languageId": "polyglot-notebook"
    }
   },
   "outputs": [],
   "source": [
    "[Authorize(Policy = \"MinimumAge\")]\n",
    "public IActionResult AdultContent()\n",
    "{\n",
    "    return View();\n",
    "}"
   ]
  },
  {
   "cell_type": "markdown",
   "metadata": {},
   "source": [
    "<style>h3,h4{color:#CBB078;font-size:18px;} h2{color:#CBB078;font-size:20px;font-weight:bolder}</style>\n",
    "<div dir=\"rtl\" style=\"margin:auto; width:90%; font-family:vazirmatn\">\n",
    "<h3>۳. <strong>Claims-Based Authorization (اعطای دسترسی بر اساس ادعاها)</strong></h3>\n",
    "<p>در این روش، دسترسی کاربران بر اساس <strong>ادعاها (Claims)</strong> آن‌ها کنترل می‌شود. ادعاها اطلاعاتی هستند که درباره کاربر در طول فرآیند احراز هویت جمع‌آوری می‌شوند.</p>\n",
    "<h4><strong>پیاده‌سازی:</strong></h4>\n",
    "<ul><li><p>می‌توانید مستقیماً از ادعاها در اتریبیوت <code>[Authorize]</code> استفاده کنید:</p></li></ul>\n",
    "</div>"
   ]
  },
  {
   "cell_type": "code",
   "execution_count": null,
   "metadata": {
    "dotnet_interactive": {
     "language": "csharp"
    },
    "polyglot_notebook": {
     "kernelName": "csharp"
    },
    "vscode": {
     "languageId": "polyglot-notebook"
    }
   },
   "outputs": [],
   "source": [
    "[Authorize(Policy = \"HasEmailClaim\")]\n",
    "public IActionResult EmailRequired()\n",
    "{\n",
    "    return View();\n",
    "}"
   ]
  }
 ],
 "metadata": {
  "kernelspec": {
   "display_name": ".NET (C#)",
   "language": "C#",
   "name": ".net-csharp"
  },
  "language_info": {
   "name": "csharp"
  },
  "polyglot_notebook": {
   "kernelInfo": {
    "defaultKernelName": "csharp",
    "items": [
     {
      "aliases": [],
      "name": "csharp"
     }
    ]
   }
  }
 },
 "nbformat": 4,
 "nbformat_minor": 2
}
