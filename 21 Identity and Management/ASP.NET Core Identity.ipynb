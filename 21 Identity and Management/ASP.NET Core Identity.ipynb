{
 "cells": [
  {
   "cell_type": "markdown",
   "metadata": {},
   "source": [
    "<style>h3{color:#CBB078;font-size:18px;} h2{font-size:20px;font-weight:bolder}</style>\n",
    "<div dir=\"rtl\" style=\"margin:auto; width:90%; font-family:vazirmatn\">\n",
    "<p><strong>ASP.NET Core Identity</strong> یک سیستم مدیریت هویت (Identity Management System) است که به توسعه‌دهندگان اجازه می‌دهد تا ویژگی‌های احراز هویت (Authentication) و مجوزدهی (Authorization) را به راحتی در برنامه‌های تحت وب خود پیاده‌سازی کنند. این فریم‌ورک امکاناتی مانند ثبت‌نام کاربران، ورود به سیستم، مدیریت نقش‌ها (Roles)، مدیریت کاربران و سایر ویژگی‌های مرتبط با هویت را ارائه می‌دهد.</p>\n",
    "<h3><strong>ویژگی‌های اصلی ASP.NET Core Identity</strong></h3>\n",
    "<ol><li><p><strong>مدیریت کاربران (User Management):</strong></p><ul><li><p>ایجاد، ویرایش و حذف کاربران.</p></li><li><p>ذخیره اطلاعات کاربران مانند نام کاربری، ایمیل، رمز عبور و غیره.</p></li></ul></li><li><p><strong>احراز هویت (Authentication):</strong></p><ul><li><p>پشتیبانی از احراز هویت مبتنی بر کوکی (Cookie-based Authentication).</p></li><li><p>امکان استفاده از احراز هویت دو مرحله‌ای (2FA).</p></li><li><p>پشتیبانی از ورود با سرویس‌های خارجی مانند Google, Facebook, Microsoft, etc.</p></li></ul></li><li><p><strong>مدیریت نقش‌ها و مجوزها (Role and Authorization Management):</strong></p><ul><li><p>تعریف نقش‌ها (Roles) و اختصاص آن‌ها به کاربران.</p></li><li><p>مدیریت دسترسی‌ها بر اساس نقش‌ها یا سیاست‌های سفارشی (Policies).</p></li></ul></li><li><p><strong>امنیت:</strong></p><ul><li><p>پشتیبانی از هش کردن رمز عبور (Password Hashing).</p></li><li><p>امکان تنظیم سیاست‌های پیچیده برای رمز عبور (Password Policies).</p></li><li><p>قفل شدن حساب کاربری پس از چندین تلاش ناموفق برای ورود.</p></li></ul></li><li><p><strong>قابلیت توسعه‌پذیری:</strong></p><ul><li><p>امکان استفاده از پایگاه‌های داده مختلف (مانند SQL Server, SQLite, PostgreSQL, etc.).</p></li><li><p>قابلیت سفارشی‌سازی و اضافه کردن فیلدهای جدید به کاربران.</p></li></ul></li><li><p><strong>پشتیبانی از توکن‌ها:</strong></p><ul><li><p>پشتیبانی از توکن‌های امنیتی برای تأیید ایمیل، بازنشانی رمز عبور و غیره.</p></li></ul></li></ol>\n",
    "<h3><strong>اجزای اصلی ASP.NET Core Identity</strong></h3>\n",
    "<ol><li><p><strong>UserManager:</strong><br>یک کلاس است که عملیات مربوط به مدیریت کاربران (مانند ایجاد کاربر، تغییر رمز عبور، افزودن نقش و غیره) را انجام می‌دهد.</p></li><li><p><strong>SignInManager:</strong><br>یک کلاس است که عملیات مربوط به ورود و خروج کاربران (Sign In/Sign Out) را مدیریت می‌کند.</p></li><li><p><strong>RoleManager:</strong><br>یک کلاس است که عملیات مربوط به مدیریت نقش‌ها (Roles) را انجام می‌دهد.</p></li><li><p><strong>IdentityUser:</strong><br>یک کلاس پایه است که نشان‌دهنده یک کاربر در سیستم است. می‌توان این کلاس را برای اضافه کردن فیلدهای سفارشی گسترش داد.</p></li><li><p><strong>IdentityRole:</strong><br>یک کلاس پایه است که نشان‌دهنده یک نقش در سیستم است.</p></li></ol>\n",
    "</div>"
   ]
  },
  {
   "cell_type": "markdown",
   "metadata": {},
   "source": [
    "```dotnet add package Microsoft.AspNetCore.Identity.EntityFrameworkCore```  \n",
    "```dotnet add package Microsoft.EntityFrameworkCore.SqlServer```"
   ]
  },
  {
   "cell_type": "markdown",
   "metadata": {},
   "source": [
    "### `IdentityUser`"
   ]
  },
  {
   "cell_type": "markdown",
   "metadata": {},
   "source": [
    "<style>h3{color:#CBB078;font-size:18px;} h2{font-size:20px;font-weight:bolder}</style>\n",
    "<div dir=\"rtl\" style=\"margin:auto; width:90%; font-family:vazirmatn\">\n",
    "<p>در ASP.NET Core Identity، کلاس <code>IdentityUser</code> یک کلاس پایه است که برای نمایش کاربران در سیستم احراز هویت استفاده می‌شود. این کلاس شامل تعدادی Property پیش‌فرض است که اطلاعات پایه‌ای کاربر را نگهداری می‌کند. در ادامه به برخی از مهم‌ترین Propertyهای پیش‌فرض این کلاس اشاره می‌کنم:</p>\n",
    "<h3>Propertyهای پیش‌فرض کلاس <code>IdentityUser</code>:</h3>\n",
    "<ol start=\"1\"><li><p><strong>Id</strong>:</p><ul><li><p>نوع: <code>string</code></p></li><li><p>توضیحات: یک شناسه منحصر به فرد برای کاربر که به طور خودکار تولید می‌شود.</p></li></ul></li><li><p><strong>UserName</strong>:</p><ul><li><p>نوع: <code>string</code></p></li><li><p>توضیحات: نام کاربری که کاربر برای ورود به سیستم استفاده می‌کند.</p></li></ul></li><li><p><strong>NormalizedUserName</strong>:</p><ul><li><p>نوع: <code>string</code></p></li><li><p>توضیحات: نسخه نرمالایز شده نام کاربری که برای مقایسه‌های حساس به حروف بزرگ و کوچک استفاده می‌شود.</p></li></ul></li><li><p><strong>Email</strong>:</p><ul><li><p>نوع: <code>string</code></p></li><li><p>توضیحات: آدرس ایمیل کاربر.</p></li></ul></li><li><p><strong>NormalizedEmail</strong>:</p><ul><li><p>نوع: <code>string</code></p></li><li><p>توضیحات: نسخه نرمالایز شده آدرس ایمیل که برای مقایسه‌های حساس به حروف بزرگ و کوچک استفاده می‌شود.</p></li></ul></li><li><p><strong>EmailConfirmed</strong>:</p><ul><li><p>نوع: <code>bool</code></p></li><li><p>توضیحات: نشان می‌دهد که آیا آدرس ایمیل کاربر تأیید شده است یا خیر.</p></li></ul></li><li><p><strong>PasswordHash</strong>:</p><ul><li><p>نوع: <code>string</code></p></li><li><p>توضیحات: هش شده رمز عبور کاربر.</p></li></ul></li><li><p><strong>SecurityStamp</strong>:</p><ul><li><p>نوع: <code>string</code></p></li><li><p>توضیحات: یک مقدار تصادفی که برای پیگیری تغییرات در اطلاعات کاربر استفاده می‌شود. این مقدار هر بار که کاربر تغییراتی مانند تغییر رمز عبور انجام می‌دهد، به‌روزرسانی می‌شود.</p></li></ul></li><li><p><strong>ConcurrencyStamp</strong>:</p><ul><li><p>نوع: <code>string</code></p></li><li><p>توضیحات: یک مقدار تصادفی که برای مدیریت همزمانی (Concurrency) استفاده می‌شود. این مقدار هر بار که کاربر به‌روزرسانی می‌شود، تغییر می‌کند.</p></li></ul></li><li><p><strong>PhoneNumber</strong>:</p><ul><li><p>نوع: <code>string</code></p></li><li><p>توضیحات: شماره تلفن کاربر.</p></li></ul></li><li><p><strong>PhoneNumberConfirmed</strong>:</p><ul><li><p>نوع: <code>bool</code></p></li><li><p>توضیحات: نشان می‌دهد که آیا شماره تلفن کاربر تأیید شده است یا خیر.</p></li></ul></li><li><p><strong>TwoFactorEnabled</strong>:</p><ul><li><p>نوع: <code>bool</code></p></li><li><p>توضیحات: نشان می‌دهد که آیا احراز هویت دو مرحله‌ای برای کاربر فعال است یا خیر.</p></li></ul></li><li><p><strong>LockoutEnd</strong>:</p><ul><li><p>نوع: <code>DateTimeOffset?</code></p></li><li><p>توضیحات: زمان پایان قفل شدن حساب کاربری در صورت قفل شدن.</p></li></ul></li><li><p><strong>LockoutEnabled</strong>:</p><ul><li><p>نوع: <code>bool</code></p></li><li><p>توضیحات: نشان می‌دهد که آیا قفل شدن حساب کاربری فعال است یا خیر.</p></li></ul></li><li><p><strong>AccessFailedCount</strong>:</p><ul><li><p>نوع: <code>int</code></p></li><li><p>توضیحات: تعداد دفعاتی که کاربر در ورود به سیستم ناموفق بوده است.</p></li></ul></li></ol>\n",
    "<h3>افزودن Propertyهای سفارشی:</h3>\n",
    "<p>شما می‌توانید با ایجاد یک کلاس که از <code>IdentityUser</code> ارث‌بری می‌کند، Propertyهای سفارشی خود را به کاربر اضافه کنید. به عنوان مثال:</p>\n",
    "</div>"
   ]
  },
  {
   "cell_type": "code",
   "execution_count": null,
   "metadata": {
    "dotnet_interactive": {
     "language": "csharp"
    },
    "polyglot_notebook": {
     "kernelName": "csharp"
    },
    "vscode": {
     "languageId": "polyglot-notebook"
    }
   },
   "outputs": [],
   "source": [
    "public class ApplicationUser : IdentityUser\n",
    "{\n",
    "    public string FullName { get; set; }\n",
    "    public DateTime DateOfBirth { get; set; }\n",
    "}"
   ]
  },
  {
   "cell_type": "markdown",
   "metadata": {},
   "source": [
    "<style>h3{color:#CBB078;font-size:18px;} h2{font-size:20px;font-weight:bolder}</style>\n",
    "<div dir=\"rtl\" style=\"margin:auto; width:90%; font-family:vazirmatn\">\n",
    "<p>در این مثال، <code>ApplicationUser</code> کلاسی است که از <code>IdentityUser</code> ارث‌بری کرده و دو Property سفارشی <code>FullName</code> و <code>DateOfBirth</code> به آن اضافه شده است.</p>\n",
    "<h3>استفاده از کلاس سفارشی:</h3>\n",
    "<p>برای استفاده از کلاس سفارشی خود، باید آن را در تنظیمات Identity مشخص کنید:</p>\n",
    "</div>"
   ]
  },
  {
   "cell_type": "code",
   "execution_count": null,
   "metadata": {
    "dotnet_interactive": {
     "language": "csharp"
    },
    "polyglot_notebook": {
     "kernelName": "csharp"
    },
    "vscode": {
     "languageId": "polyglot-notebook"
    }
   },
   "outputs": [],
   "source": [
    "services.AddIdentity<ApplicationUser, IdentityRole>()\n",
    "    .AddEntityFrameworkStores<ApplicationDbContext>()\n",
    "    .AddDefaultTokenProviders();"
   ]
  },
  {
   "cell_type": "markdown",
   "metadata": {},
   "source": [
    "### `UserManager<T>`"
   ]
  },
  {
   "cell_type": "markdown",
   "metadata": {},
   "source": [
    "<style>h3{color:#CBB078;font-size:18px;} h2{font-size:20px;font-weight:bolder}</style>\n",
    "<div dir=\"rtl\" style=\"margin:auto; width:90%; font-family:vazirmatn\">\n",
    "<p><strong>کلاس <code>UserManager&lt;TUser&gt;</code></strong> یکی از کلاس‌های اصلی در <strong>ASP.NET Core Identity</strong> است که برای مدیریت کاربران (Users) در سیستم استفاده می‌شود. این کلاس امکاناتی برای ایجاد، ویرایش، حذف کاربران، مدیریت رمز عبور، نقش‌ها (Roles)، لاگین‌ها و سایر عملیات مرتبط با کاربران فراهم می‌کند.</p>\n",
    "<h3><strong>وظایف اصلی UserManager</strong></h3>\n",
    "<p>کلاس <code>UserManager</code> وظایف زیر را بر عهده دارد:</p>\n",
    "<ol><li><p><strong>مدیریت کاربران:</strong></p><ul><li><p>ایجاد کاربر جدید (<code>CreateAsync</code>).</p></li><li><p>به‌روزرسانی اطلاعات کاربر (<code>UpdateAsync</code>).</p></li><li><p>حذف کاربر (<code>DeleteAsync</code>).</p></li><li><p>جست‌وجو و بازیابی کاربران (<code>FindByIdAsync</code>, <code>FindByNameAsync</code>, <code>FindByEmailAsync</code>).</p></li></ul></li><li><p><strong>مدیریت رمز عبور:</strong></p><ul><li><p>بررسی صحت رمز عبور (<code>CheckPasswordAsync</code>).</p></li><li><p>تغییر رمز عبور (<code>ChangePasswordAsync</code>).</p></li><li><p>بازنشانی رمز عبور (<code>ResetPasswordAsync</code>).</p></li></ul></li><li><p><strong>مدیریت نقش‌ها (Roles):</strong></p><ul><li><p>افزودن نقش به کاربر (<code>AddToRoleAsync</code>).</p></li><li><p>حذف نقش از کاربر (<code>RemoveFromRoleAsync</code>).</p></li><li><p>دریافت نقش‌های یک کاربر (<code>GetRolesAsync</code>).</p></li></ul></li><li><p><strong>مدیریت لاگین‌ها (Logins):</strong></p><ul><li><p>افزودن لاگین خارجی (مثل Google, Facebook) به کاربر (<code>AddLoginAsync</code>).</p></li><li><p>حذف لاگین خارجی از کاربر (<code>RemoveLoginAsync</code>).</p></li></ul></li><li><p><strong>مدیریت توکن‌ها (Tokens):</strong></p><ul><li><p>ایجاد توکن برای بازنشانی رمز عبور (<code>GeneratePasswordResetTokenAsync</code>).</p></li><li><p>ایجاد توکن برای تأیید ایمیل (<code>GenerateEmailConfirmationTokenAsync</code>).</p></li></ul></li><li><p><strong>مدیریت قفل‌شدن حساب (Lockout):</strong></p><ul><li><p>بررسی قفل‌شدن حساب کاربر (<code>IsLockedOutAsync</code>).</p></li><li><p>تنظیم قفل‌شدن حساب (<code>SetLockoutEndDateAsync</code>).</p></li></ul></li></ol>\n",
    "</div>"
   ]
  },
  {
   "cell_type": "markdown",
   "metadata": {},
   "source": [
    "### **Password Policy**"
   ]
  },
  {
   "cell_type": "code",
   "execution_count": null,
   "metadata": {
    "dotnet_interactive": {
     "language": "csharp"
    },
    "polyglot_notebook": {
     "kernelName": "csharp"
    },
    "vscode": {
     "languageId": "polyglot-notebook"
    }
   },
   "outputs": [],
   "source": [
    "services.AddIdentity<ApplicationUser, IdentityRole>(options =>\n",
    "{\n",
    "    options.Password.RequireDigit = true; // نیاز به حداقل یک عدد\n",
    "    options.Password.RequiredLength = 8; // حداقل طول پسورد\n",
    "    options.Password.RequireNonAlphanumeric = true; // نیاز به حداقل یک کاراکتر غیرالفبایی\n",
    "    options.Password.RequireUppercase = true; // نیاز به حداقل یک حرف بزرگ\n",
    "    options.Password.RequireLowercase = true; // نیاز به حداقل یک حرف کوچک\n",
    "    options.Password.RequiredUniqueChars = 1; // نیاز به حداقل یک کاراکتر منحصر به فرد\n",
    "})\n",
    ".AddEntityFrameworkStores<ApplicationDbContext>()\n",
    ".AddDefaultTokenProviders();"
   ]
  },
  {
   "cell_type": "markdown",
   "metadata": {},
   "source": [
    "<style>h3{color:#CBB078;font-size:18px;} h2{font-size:20px;font-weight:bolder}</style>\n",
    "<div dir=\"rtl\" style=\"margin:auto; width:90%; font-family:vazirmatn\">\n",
    "<h3> <strong>مدیریت پسوردها توسط UserManager</strong></h3>\n",
    "<p>کلاس <code>UserManager</code> در Identity مسئول مدیریت پسوردها است. برخی از متدهای مهم این کلاس عبارتند از:</p>\n",
    "<ul><li><p><strong>CreateAsync</strong>: ایجاد کاربر جدید با پسورد.</p></li><li><p><strong>ChangePasswordAsync</strong>: تغییر پسورد کاربر.</p></li><li><p><strong>ResetPasswordAsync</strong>: بازنشانی پسورد کاربر.</p></li><li><p><strong>CheckPasswordAsync</strong>: بررسی صحت پسورد وارد شده توسط کاربر.</p></li></ul>\n",
    "</div>"
   ]
  },
  {
   "cell_type": "markdown",
   "metadata": {},
   "source": [
    "### **`IPasswordValidtor`**"
   ]
  },
  {
   "cell_type": "markdown",
   "metadata": {},
   "source": [
    "<style>h3{color:#CBB078;font-size:18px;} h2{font-size:20px;font-weight:bolder}</style>\n",
    "<div dir=\"rtl\" style=\"margin:auto; width:90%; font-family:vazirmatn\">\n",
    "<p><code>IPasswordValidator&lt;TUser&gt;</code> یک اینترفیس در ASP.NET Core Identity است که به شما امکان می‌دهد منطق سفارشی برای اعتبارسنجی پسوردها پیاده‌سازی کنید. این اینترفیس زمانی استفاده می‌شود که بخواهید قوانین و سیاست‌های خاصی برای پسوردها اعمال کنید که به‌صورت پیش‌فرض در Identity وجود ندارند.</p>\n",
    "\n",
    "</div>"
   ]
  },
  {
   "cell_type": "code",
   "execution_count": null,
   "metadata": {
    "dotnet_interactive": {
     "language": "csharp"
    },
    "polyglot_notebook": {
     "kernelName": "csharp"
    },
    "vscode": {
     "languageId": "polyglot-notebook"
    }
   },
   "outputs": [],
   "source": [
    "public class CustomPasswordValidator<TUser> : IPasswordValidator<TUser> where TUser : class\n",
    "{\n",
    "    private readonly List<string> _bannedWords = new List<string> { \"password\", \"123456\", \"qwerty\" };\n",
    "\n",
    "    public Task<IdentityResult> ValidateAsync(UserManager<TUser> manager, TUser user, string password)\n",
    "    {\n",
    "        // بررسی وجود کلمات ممنوعه در پسورد\n",
    "        if (_bannedWords.Any(word => password.Contains(word, StringComparison.OrdinalIgnoreCase)))\n",
    "        {\n",
    "            return Task.FromResult(IdentityResult.Failed(new IdentityError\n",
    "            {\n",
    "                Code = \"BannedPassword\",\n",
    "                Description = \"پسورد شما شامل کلمات ممنوعه است.\"\n",
    "            }));\n",
    "        }\n",
    "\n",
    "        // اگر پسورد معتبر است، موفقیت برگردانده می‌شود\n",
    "        return Task.FromResult(IdentityResult.Success);\n",
    "    }\n",
    "}"
   ]
  },
  {
   "cell_type": "code",
   "execution_count": null,
   "metadata": {
    "dotnet_interactive": {
     "language": "csharp"
    },
    "polyglot_notebook": {
     "kernelName": "csharp"
    },
    "vscode": {
     "languageId": "polyglot-notebook"
    }
   },
   "outputs": [],
   "source": [
    "/*\n",
    "فرض کنید می‌خواهید پسوردها را بررسی کنید تا شامل نام کاربری نباشند.\n",
    "*/\n",
    "public class UsernamePasswordValidator<TUser> : IPasswordValidator<TUser> where TUser : class\n",
    "{\n",
    "    public Task<IdentityResult> ValidateAsync(UserManager<TUser> manager, TUser user, string password)\n",
    "    {\n",
    "        var userName = await manager.GetUserNameAsync(user);\n",
    "\n",
    "        if (password.Contains(userName, StringComparison.OrdinalIgnoreCase))\n",
    "        {\n",
    "            return Task.FromResult(IdentityResult.Failed(new IdentityError\n",
    "            {\n",
    "                Code = \"PasswordContainsUsername\",\n",
    "                Description = \"پسورد شما نباید شامل نام کاربری باشد.\"\n",
    "            }));\n",
    "        }\n",
    "\n",
    "        return Task.FromResult(IdentityResult.Success);\n",
    "    }\n",
    "}"
   ]
  },
  {
   "cell_type": "code",
   "execution_count": null,
   "metadata": {
    "dotnet_interactive": {
     "language": "csharp"
    },
    "polyglot_notebook": {
     "kernelName": "csharp"
    },
    "vscode": {
     "languageId": "polyglot-notebook"
    }
   },
   "outputs": [],
   "source": [
    "services.AddIdentity<ApplicationUser, IdentityRole>()\n",
    "    .AddEntityFrameworkStores<ApplicationDbContext>()\n",
    "    .AddDefaultTokenProviders()\n",
    "    .AddPasswordValidator<UsernamePasswordValidator<ApplicationUser>>();"
   ]
  },
  {
   "cell_type": "markdown",
   "metadata": {},
   "source": [
    "### **`Manage UserName Struct`**"
   ]
  },
  {
   "cell_type": "code",
   "execution_count": null,
   "metadata": {
    "dotnet_interactive": {
     "language": "csharp"
    },
    "polyglot_notebook": {
     "kernelName": "csharp"
    },
    "vscode": {
     "languageId": "polyglot-notebook"
    }
   },
   "outputs": [],
   "source": [
    "builder.Services.AddIdentity<User, Role>(options =>\n",
    "{\n",
    "    options.Password.RequireDigit = true; // نیاز به حداقل یک عدد\n",
    "    options.Password.RequiredLength = 8; // حداقل طول پسورد\n",
    "    options.Password.RequireNonAlphanumeric = true; // نیاز به حداقل یک کاراکتر غیرالفبایی\n",
    "    options.Password.RequireUppercase = true; // نیاز به حداقل یک حرف بزرگ\n",
    "    options.Password.RequireLowercase = true; // نیاز به حداقل یک حرف کوچک\n",
    "    options.Password.RequiredUniqueChars = 1; // نیاز به حداقل یک کاراکتر منحصر به فرد\n",
    "\n",
    "    options.User.AllowedUserNameCharacters = \"abcdefghijklmnopqrstuvwxyzABCDEFGHIJKLMNOPQRSTUVWXYZ0123456789-._@\";\n",
    "\n",
    "    options.User.RequireUniqueEmail = true;\n",
    "})\n",
    ".AddEntityFrameworkStores<AAADBContext>();"
   ]
  },
  {
   "cell_type": "markdown",
   "metadata": {},
   "source": [
    "#### **`IUserValidator`**"
   ]
  },
  {
   "cell_type": "code",
   "execution_count": null,
   "metadata": {
    "dotnet_interactive": {
     "language": "csharp"
    },
    "polyglot_notebook": {
     "kernelName": "csharp"
    },
    "vscode": {
     "languageId": "polyglot-notebook"
    }
   },
   "outputs": [],
   "source": [
    "public class CustomUserValidator : IUserValidator<User>\n",
    "{\n",
    "    private readonly string organizationEmail = \"@niazerooz.com\";\n",
    "    public Task<IdentityResult> ValidateAsync(UserManager<User> manager, User user)\n",
    "    {\n",
    "        if (!user.Email.EndsWith(organizationEmail, StringComparison.OrdinalIgnoreCase))\n",
    "        {\n",
    "            return Task.FromResult( IdentityResult.Failed(new IdentityError\n",
    "            {\n",
    "                Code = \"InvalidEmail\",\n",
    "                Description = \"ایمیل شما باید سازمانی باشد.\"\n",
    "            }));\n",
    "        }\n",
    "\n",
    "        return Task.FromResult(IdentityResult.Success);\n",
    "    }\n",
    "}"
   ]
  },
  {
   "cell_type": "markdown",
   "metadata": {},
   "source": [
    "### **RoleManager**"
   ]
  }
 ],
 "metadata": {
  "kernelspec": {
   "display_name": ".NET (C#)",
   "language": "C#",
   "name": ".net-csharp"
  },
  "language_info": {
   "name": "csharp"
  },
  "polyglot_notebook": {
   "kernelInfo": {
    "defaultKernelName": "csharp",
    "items": [
     {
      "aliases": [],
      "name": "csharp"
     }
    ]
   }
  }
 },
 "nbformat": 4,
 "nbformat_minor": 2
}
