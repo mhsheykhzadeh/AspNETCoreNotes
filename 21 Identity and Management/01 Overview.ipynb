{
 "cells": [
  {
   "cell_type": "markdown",
   "metadata": {},
   "source": [
    "<style>h3{color:#CBB078;font-size:18px;} h5{font-size:16px}</style>\n",
    "<div dir=\"rtl\" style=\"margin:auto; width:90%; font-family:vazirmatn\">\n",
    "<h3>HTTP یک پروتکل Stateless است</h3>\n",
    "<p>عبارت <strong>\"HTTP یک پروتکل Stateless است\"</strong> به این معناست که پروتکل <strong>HTTP</strong> (Hypertext Transfer Protocol) به طور پیش‌فرض هیچ اطلاعاتی درباره وضعیت (state) یا تاریخچه ارتباطات قبلی بین کلاینت (مانند مرورگر) و سرور ذخیره نمی‌کند. به عبارت دیگر، هر درخواست HTTP مستقل از درخواست‌های قبلی و بعدی است.</p>\n",
    "<ol><li><p><strong>استقلال درخواست‌ها</strong>:</p><ul><li>هر درخواست HTTP به عنوان یک تعامل جداگانه بین کلاینت و سرور تلقی می‌شود.</li><li>سرور، هیچ اطلاعاتی درباره درخواست‌های قبلی کلاینت نگه نمی‌دارد.</li><li>به عنوان مثال، اگر کاربری وارد یک وب‌سایت شود و سپس یک صفحه دیگر از همان وب‌سایت را باز کند، سرور نمی‌داند که این دو درخواست متعلق به یک کاربر هستند، مگر اینکه اطلاعات اضافی مانند <strong>کوکی‌ها</strong>، <strong>توکن‌ها</strong> یا <strong>سشن‌ها</strong> استفاده شود.</li></ul></li><li><p><strong>ویژگی Stateless بودن</strong>:</p><ul><li>پروتکل HTTP صرفاً درخواست‌ها (Request) و پاسخ‌ها (Response) را بین کلاینت و سرور منتقل می‌کند.</li><li>هیچ اطلاعاتی درباره‌ی وضعیت (State) بین درخواست‌ها ذخیره نمی‌شود.</li></ul></li></ol>\n",
    "<h3>مزایای Stateless بودن</h3>\n",
    "<ol><li><strong>سادگی</strong>:<ul><li>پروتکل HTTP ساده‌تر است و مدیریت ارتباطات کلاینت و سرور پیچیدگی کمتری دارد.</li></ul></li><li><strong>مقیاس‌پذیری (Scalability)</strong>:<ul><li>چون سرور نیازی به نگه‌داری وضعیت ندارد، می‌تواند به طور هم‌زمان به درخواست‌های زیادی از کلاینت‌های مختلف پاسخ دهد.</li></ul></li><li><strong>انعطاف‌پذیری</strong>:<ul><li>کلاینت‌ها می‌توانند در هر زمانی درخواست‌های جدیدی ارسال کنند، بدون وابستگی به ارتباطات قبلی.</li></ul></li></ol>\n",
    "<h3>چالش‌های Stateless بودن</h3>\n",
    "<ol><li><strong>مدیریت وضعیت کاربر</strong>:<ul><li>در اپلیکیشن‌های وب، معمولاً نیاز است که وضعیت کاربر مانند ورود به سیستم (Login) یا سبد خرید حفظ شود. HTTP به طور پیش‌فرض این قابلیت را ندارد، بنابراین باید از روش‌هایی مانند <strong>کوکی‌ها</strong>، <strong>سشن‌ها</strong> یا <strong>JWT</strong> استفاده کرد.</li></ul></li><li><strong>نیاز به اطلاعات اضافی در درخواست‌ها</strong>:<ul><li>برای شناسایی کاربران یا حفظ وضعیت، کلاینت باید اطلاعات اضافی (مانند <strong>توکن‌های احراز هویت</strong>) را در هر درخواست ارسال کند.</li></ul></li></ol>\n",
    "</div>"
   ]
  },
  {
   "cell_type": "markdown",
   "metadata": {},
   "source": [
    "<style>h3{color:#CBB078;font-size:18px;} h5{font-size:16px}</style>\n",
    "<div dir=\"rtl\" style=\"margin:auto; width:90%; font-family:vazirmatn\">\n",
    "<p> سه سوال اساسی، که معمولاً در بحث مدیریت <strong>وضعیت</strong> (State Management) در <strong>HTTP Stateless</strong> مطرح می‌شود، به درک نحوه ذخیره و استفاده از اطلاعات کمک می‌کنند. پاسخ به این سوالات به انتخاب روش مناسب برای حفظ وضعیت و طراحی سیستم کمک می‌کند.</p>\n",
    "<h3>1. <strong>محل نگهداری اطلاعات کجاست؟</strong></h3>\n",
    "\n",
    "<p>این سوال به محل ذخیره‌سازی داده‌هایی که برای حفظ وضعیت کاربر نیاز داریم اشاره دارد. دو گزینه اصلی برای نگهداری داده‌ها وجود دارد:</p>\n",
    "<h4><strong>سمت کلاینت</strong>:</h4>\n",
    "<ul><li><p>داده‌ها مستقیماً در دستگاه کاربر ذخیره می‌شوند.</p></li><li><p><strong>روش‌ها</strong>:</p><ul><li><strong>کوکی‌ها (Cookies)</strong>: اطلاعات در مرورگر ذخیره می‌شود و با هر درخواست به سرور ارسال می‌شود.</li><li><strong>Local Storage / Session Storage</strong>: داده‌ها در مرورگر ذخیره می‌شوند اما به سرور ارسال نمی‌شوند (مخصوص اپلیکیشن‌های SPA).</li><li><strong>Query Strings</strong>: اطلاعات به عنوان پارامتر در URL ارسال می‌شوند.</li></ul></li><li><p><strong>مزایا</strong>:</p><ul><li>کاهش بار روی سرور.</li><li>دسترسی سریع‌تر به داده‌ها در سمت کلاینت.</li></ul></li><li><p><strong>معایب</strong>:</p><ul><li>محدودیت در حجم ذخیره‌سازی (به‌ویژه در کوکی‌ها).</li><li>امنیت کمتر، مگر اینکه داده‌ها رمزنگاری شوند.</li></ul></li></ul>\n",
    "<h4><strong>سمت سرور</strong>:</h4>\n",
    "<ul><li><p>داده‌ها در سرور ذخیره می‌شوند و به هر کاربر یک شناسه (مثل <strong>Session ID</strong>) اختصاص داده می‌شود.</p></li><li><p><strong>روش‌ها</strong>:</p><ul><li><strong>سشن‌ها (Sessions)</strong>: داده‌ها در حافظه یا دیتابیس سرور ذخیره می‌شوند.</li><li><strong>کش (Cache)</strong>: داده‌های موقتی که در سیستم‌های کشینگ (مثل Redis) ذخیره می‌شوند.</li><li><strong>دیتابیس</strong>: داده‌های بلندمدت که در پایگاه داده نگهداری می‌شوند.</li></ul></li><li><p><strong>مزایا</strong>:</p><ul><li>امنیت بالاتر.</li><li>مناسب برای داده‌های حساس یا بزرگ.</li></ul></li><li><p><strong>معایب</strong>:</p><ul><li>بار اضافی روی سرور.</li><li>نیاز به مدیریت هم‌زمانی در سیستم‌های توزیع‌شده.</li></ul></li></ul>\n",
    "<h3>2. <strong>برای چه زمانی نگهداری می‌شود؟</strong></h3>\n",
    "<p>این سوال مشخص می‌کند که اطلاعات ذخیره‌شده چه مدت زمان نیاز است نگه‌داری شوند. پاسخ به این سوال، روش و ابزار مورد استفاده را تعیین می‌کند:</p>\n",
    "<h4><strong>کوتاه‌مدت</strong>:</h4>\n",
    "<ul><li>مناسب برای داده‌هایی که فقط در مدت زمان کوتاهی (مثل یک جلسه کاربر) مورد نیاز هستند.</li><li><strong>روش‌ها</strong>:<ul><li><strong>Session Storage</strong>: اطلاعات تا زمانی که تب مرورگر باز است نگهداری می‌شوند.</li><li><strong>Session-Based Storage</strong>: داده‌ها به مدت زمان جلسه کاربر (Session) در سرور ذخیره می‌شوند.</li></ul></li><li><strong>کاربردها</strong>:<ul><li>احراز هویت موقت.</li><li>داده‌های مربوط به یک تراکنش خاص.</li></ul></li></ul>\n",
    "<h4><strong>بلندمدت</strong>:</h4>\n",
    "<ul><li>مناسب برای داده‌هایی که نیاز است حتی پس از بسته‌شدن مرورگر یا پایان جلسه کاربر نگهداری شوند.</li><li><strong>روش‌ها</strong>:<ul><li><strong>Cookies</strong>: می‌توان تاریخ انقضا برای کوکی‌ها تنظیم کرد.</li><li><strong>Local Storage</strong>: داده‌ها تا زمانی که کاربر آن‌ها را حذف نکند نگهداری می‌شوند.</li><li><strong>پایگاه داده یا کش</strong>: اطلاعات دائمی‌تر در سرور.</li></ul></li><li><strong>کاربردها</strong>:<ul><li>نگهداری اطلاعات ورود کاربر (Remember Me).</li><li>ترجیحات کاربر (مانند زبان یا تم سایت).</li></ul></li></ul>\n",
    "<h3>3. <strong>متعلق به چه کسی است؟</strong></h3>\n",
    "<p>این سوال مشخص می‌کند که اطلاعات ذخیره‌شده به چه کاربری یا موجودیتی تعلق دارند. پاسخ به این سوال به روش شناسایی کاربر کمک می‌کند.</p>\n",
    "<h4><strong>روش‌ها</strong>:</h4>\n",
    "<ul><li><strong>شناسه کاربر (User Identifier)</strong>:<ul><li>اختصاص یک شناسه یکتا به هر کاربر.</li><li>این شناسه می‌تواند در کوکی یا به عنوان بخشی از توکن ذخیره شود.</li></ul></li><li><strong>توکن‌ها (Tokens)</strong>:<ul><li>استفاده از <strong>JWT</strong> یا <strong>Access Tokens</strong> برای شناسایی و احراز هویت کاربران.</li></ul></li><li><strong>Session ID</strong>:<ul><li>در ذخیره‌سازی مبتنی بر سشن، Session ID به عنوان کلید شناسایی کاربر استفاده می‌شود.</li></ul></li></ul>\n",
    "<h4><strong>سطوح مالکیت</strong>:</h4>\n",
    "<ul><li><strong>کاربر خاص</strong>:<ul><li>داده‌هایی که مستقیماً به یک کاربر خاص تعلق دارند (مانند اطلاعات پروفایل یا سفارشات).</li></ul></li><li><strong>گروه کاربران</strong>:<ul><li>داده‌هایی که بین گروهی از کاربران به اشتراک گذاشته می‌شوند (مانند تنظیمات پیش‌فرض شرکت).</li></ul></li><li><strong>سیستم عمومی</strong>:<ul><li>داده‌هایی که برای همه کاربران یکسان است (مانند اعلان‌های عمومی).</li></ul></li></ul>\n",
    "</div>"
   ]
  },
  {
   "cell_type": "markdown",
   "metadata": {},
   "source": [
    "### `Cookie`"
   ]
  },
  {
   "cell_type": "markdown",
   "metadata": {},
   "source": [
    "<style>h3{color:#CBB078;font-size:18px;} h2{font-size:20px;font-weight:bolder}</style>\n",
    "<div dir=\"rtl\" style=\"margin:auto; width:90%; font-family:vazirmatn\">\n",
    "<p><strong>کوکی (Cookie)</strong> یک فایل متنی کوچک است که توسط وب‌سایت‌ها بر روی دستگاه کاربر (مرورگر) ذخیره می‌شود. هدف اصلی کوکی‌ها ذخیره اطلاعات مرتبط با کاربر یا جلسات کاری (Session) است که در درخواست‌های بعدی به سرور ارسال می‌شوند. این مکانیزم به وب‌سایت‌ها کمک می‌کند تا وضعیت کاربران را مدیریت کنند و تجربه کاربری را بهبود بخشند.</p>\n",
    "<h2>انواع کوکی‌ها</h2>\n",
    "<h3>1. <strong>Session Cookies (کوکی‌های موقت)</strong></h3>\n",
    "<ul><li><strong>مدت زمان ذخیره‌سازی</strong>: فقط در طول جلسه جاری (تا زمانی که مرورگر باز است) ذخیره می‌شوند.</li><li><strong>کاربرد</strong>:<ul><li>مدیریت جلسات کاری.</li><li>احراز هویت کاربران به صورت موقت.</li></ul></li><li><strong>ویژگی‌ها</strong>: پس از بسته شدن مرورگر، این کوکی‌ها حذف می‌شوند.</li></ul>\n",
    "<h3>2. <strong>Persistent Cookies (کوکی‌های دائمی)</strong></h3>\n",
    "<ul><li><strong>مدت زمان ذخیره‌سازی</strong>: برای مدت زمان مشخصی که توسط ویژگی <code>Expires</code> یا <code>Max-Age</code> تعیین می‌شود، ذخیره می‌شوند.</li><li><strong>کاربرد</strong>:<ul><li>ذخیره اطلاعات ورود (مانند گزینه \"مرا به خاطر بسپار\").</li><li>نگهداری ترجیحات کاربر (مانند زبان یا تم وب‌سایت).</li></ul></li><li><strong>ویژگی‌ها</strong>: حتی پس از بسته شدن مرورگر، روی دستگاه کاربر باقی می‌مانند تا تاریخ انقضا برسد.</li></ul>\n",
    "<h3>3. <strong>Secure Cookies</strong></h3>\n",
    "<ul><li><strong>ویژگی خاص</strong>: فقط در ارتباطات امن (HTTPS) ارسال می‌شوند.</li><li><strong>کاربرد</strong>: افزایش امنیت، به ویژه برای داده‌های حساس مانند اطلاعات احراز هویت.</li></ul>\n",
    "<h3>4. <strong>HttpOnly Cookies</strong></h3>\n",
    "<ul><li><strong>ویژگی خاص</strong>: این نوع کوکی‌ها فقط توسط سرور قابل دسترسی هستند و از طریق جاوااسکریپت در کلاینت قابل خواندن یا تغییر نیستند.</li><li><strong>کاربرد</strong>: جلوگیری از حملات XSS (Cross-Site Scripting).</li></ul>\n",
    "<h3>5. <strong>SameSite Cookies</strong></h3>\n",
    "<ul><li><strong>ویژگی خاص</strong>: این تنظیمات تعیین می‌کنند که آیا کوکی‌ها باید فقط در درخواست‌های همان دامنه (SameSite) ارسال شوند یا در درخواست‌های Cross-Site نیز.</li><li><strong>گزینه‌ها</strong>:<ul><li><code>Strict</code>: کوکی فقط در درخواست‌های همان دامنه ارسال می‌شود.</li><li><code>Lax</code>: کوکی در برخی درخواست‌های Cross-Site ارسال می‌شود (مثل لینک‌های GET).</li><li><code>None</code>: کوکی در همه درخواست‌ها ارسال می‌شود (نیاز به <code>Secure</code> دارد).</li></ul></li></ul>\n",
    "<h2>ویژگی‌های کوکی‌ها</h2>\n",
    "<h3>1. <strong>Name-Value Pair</strong></h3>\n",
    "<ul><li>هر کوکی یک نام و مقدار دارد</li></ul>\n",
    "<h3>2. <strong>Domain</strong></h3>\n",
    "<ul><li>مشخص می‌کند که کوکی برای چه دامنه‌ای معتبر است.</li><li>اگر دامنه تنظیم نشود، کوکی فقط برای دامنه‌ای که آن را تنظیم کرده معتبر است.</li></ul>\n",
    "<h3>3. <strong>Path</strong></h3>\n",
    "<ul><li>تعیین می‌کند که کوکی برای چه مسیری از دامنه معتبر باشد.</li></ul>\n",
    "<h3>4. <strong>Expires و Max-Age</strong></h3>\n",
    "<ul><li><strong>Expires</strong>: تاریخ و زمان انقضای کوکی را مشخص می‌کند.</li><li><strong>Max-Age</strong>: مدت زمان (بر حسب ثانیه) که کوکی باید معتبر باشد.</li></ul>\n",
    "<h3>5. <strong>Secure</strong></h3>\n",
    "<ul><li>تضمین می‌کند که کوکی فقط در ارتباطات امن (HTTPS) ارسال شود.</li></ul>\n",
    "<h3>6. <strong>HttpOnly</strong></h3>\n",
    "<ul><li>از دسترسی جاوااسکریپت به کوکی جلوگیری می‌کند</li></ul>\n",
    "<h3>7. <strong>SameSite</strong></h3>\n",
    "<ul><li>محدودیت ارسال کوکی در درخواست‌های Cross-Site.</li></ul>\n",
    "<h2>نحوه استفاده از کوکی‌ها در HTTP</h2>\n",
    "<h3>1. <strong>تنظیم کوکی در سرور</strong></h3>\n",
    "<p>سرور می‌تواند کوکی را در هدر پاسخ HTTP تنظیم کند:</p>\n",
    "<h3>2. <strong>ارسال کوکی توسط مرورگر</strong></h3>\n",
    "<p>مرورگر به طور خودکار کوکی‌های معتبر را در درخواست‌های HTTP بعدی ارسال می‌کند:</p>\n",
    "<h2>کاربردهای کوکی‌ها</h2>\n",
    "<ol><li><p><strong>مدیریت جلسات کاری (Session Management)</strong>:</p><ul><li>نگهداری اطلاعات ورود کاربر.</li><li>ردیابی وضعیت کاربر در اپلیکیشن.</li></ul></li><li><p><strong>ذخیره تنظیمات کاربر</strong>:</p><ul><li>زبان یا تم وب‌سایت.</li><li>تنظیمات صفحه‌بندی یا فیلترها.</li></ul></li><li><p><strong>ردیابی کاربران (Tracking)</strong>:</p><ul><li>استفاده در آنالیز رفتار کاربران.</li><li>تبلیغات هدفمند.</li></ul></li><li><p><strong>ذخیره داده‌های موقت</strong>:</p><ul><li>داده‌هایی که نیازی به ذخیره در سرور ندارند.</li></ul></li></ol>\n",
    "<h2>امنیت کوکی‌ها</h2>\n",
    "<p>کوکی‌ها می‌توانند اهداف حمله‌های مختلف قرار بگیرند، بنابراین باید با دقت مدیریت شوند:</p>\n",
    "<h3>1. <strong>XSS (Cross-Site Scripting)</strong></h3>\n",
    "<ul><li>اگر کوکی‌ها قابل دسترسی از طریق جاوااسکریپت باشند، ممکن است توسط اسکریپت‌های مخرب سرقت شوند.</li><li><strong>راه‌حل</strong>: استفاده از ویژگی <code>HttpOnly</code>.</li></ul>\n",
    "<h3>2. <strong>CSRF (Cross-Site Request Forgery)</strong></h3>\n",
    "<ul><li>حمله‌ای که درخواست‌های جعلی به سرور ارسال می‌کند.</li><li><strong>راه‌حل</strong>: استفاده از ویژگی <code>SameSite</code>.</li></ul>\n",
    "<h3>3. <strong>Sniffing (شنود)</strong></h3>\n",
    "<ul><li>در ارتباطات ناامن (HTTP)، کوکی‌ها ممکن است شنود شوند.</li><li><strong>راه‌حل</strong>: استفاده از ویژگی <code>Secure</code>.</li></ul>\n",
    "<h2>محدودیت‌های کوکی‌ها</h2>\n",
    "<ol><li><p><strong>حجم محدود</strong>:</p><ul><li>هر کوکی حداکثر 4 کیلوبایت فضا دارد.</li><li>هر دامنه معمولاً نمی‌تواند بیش از 20-50 کوکی ذخیره کند.</li></ul></li><li><p><strong>امنیت پایین (بدون رمزنگاری)</strong></p><ul><li>داده‌های کوکی به صورت متن ساده ذخیره می‌شوند مگر اینکه رمزنگاری شوند.</li></ul></li><li><p><strong>محدودیت در عملکرد SPA</strong>:</p><ul><li>در اپلیکیشن‌های <strong>Single Page Application</strong>، معمولاً از <strong>Local Storage</strong> یا <strong>Session Storage</strong> به جای کوکی‌ها استفاده می‌شود.</li></ul></li></ol>\n",
    "</div>"
   ]
  },
  {
   "cell_type": "code",
   "execution_count": null,
   "metadata": {
    "dotnet_interactive": {
     "language": "csharp"
    },
    "polyglot_notebook": {
     "kernelName": "csharp"
    },
    "vscode": {
     "languageId": "polyglot-notebook"
    }
   },
   "outputs": [],
   "source": [
    "public IActionResult SetCookie()\n",
    "{\n",
    "    Response.Cookies.Append(\"UserId\", \"12345\", new CookieOptions\n",
    "    {\n",
    "        Expires = DateTimeOffset.Now.AddDays(7),\n",
    "        HttpOnly = true,\n",
    "        Secure = true,\n",
    "        SameSite = SameSiteMode.Strict\n",
    "    });\n",
    "    return Ok(\"Cookie Set\");\n",
    "}"
   ]
  },
  {
   "cell_type": "code",
   "execution_count": null,
   "metadata": {
    "dotnet_interactive": {
     "language": "csharp"
    },
    "polyglot_notebook": {
     "kernelName": "csharp"
    },
    "vscode": {
     "languageId": "polyglot-notebook"
    }
   },
   "outputs": [],
   "source": [
    "public IActionResult GetCookie()\n",
    "{\n",
    "    var userId = Request.Cookies[\"UserId\"];\n",
    "    return Ok($\"UserId: {userId}\");\n",
    "}"
   ]
  },
  {
   "cell_type": "markdown",
   "metadata": {},
   "source": [
    "### `Session`"
   ]
  },
  {
   "cell_type": "markdown",
   "metadata": {},
   "source": [
    "<style>h3{color:#CBB078;font-size:18px;} h2{font-size:20px;font-weight:bolder}</style>\n",
    "<div dir=\"rtl\" style=\"margin:auto; width:90%; font-family:vazirmatn\">\n",
    "<p>در ASP.NET Core، <strong>Session</strong> مکانیسمی است که به شما امکان ذخیره‌سازی و بازیابی اطلاعات کاربر در طول درخواست‌های مختلف را می‌دهد. این اطلاعات روی سرور ذخیره می‌شوند و یک شناسه منحصر به فرد (Session ID) به مرورگر کاربر ارسال می‌شود تا در درخواست‌های بعدی، سرور بتواند اطلاعات مربوط به آن کاربر را بازیابی کند.</p>\n",
    "<p><strong>ذخیره‌سازی داده‌ها در Session:</strong><br>می‌توانید داده‌ها را در Session ذخیره کنید. این داده‌ها به صورت کلید-مقدار (Key-Value) ذخیره می‌شوند.</p>\n",
    "<h3>نکات مهم درباره Session در ASP.NET Core</h3>\n",
    "<ul><li><p><strong>ذخیره‌سازی Session:</strong> به طور پیش‌فرض، Session در حافظه سرور ذخیره می‌شود. اما می‌توانید از ارائه‌دهندگان دیگر مانند <strong>Redis</strong> یا <strong>SQL Server</strong> برای ذخیره‌سازی Session استفاده کنید.</p></li><li><p><strong>زمان انقضا:</strong> Session یک زمان انقضا (Idle Timeout) دارد که پس از آن منقضی می‌شود. این زمان را می‌توانید در پیکربندی Session تنظیم کنید.</p></li><li><p><strong>امنیت:</strong> Session ID به صورت یک کوکی به مرورگر کاربر ارسال می‌شود. برای افزایش امنیت، می‌توانید از کوکی‌های امن (Secure Cookies) و HttpOnly استفاده کنید.</p></li><li><p><strong>محدودیت‌ها:</strong> Session برای ذخیره‌سازی داده‌های کوچک و موقت مناسب است. برای داده‌های بزرگ یا دائمی، بهتر است از پایگاه داده یا دیگر مکانیسم‌های ذخیره‌سازی استفاده کنید.</p></li></ul>\n",
    "\n",
    "<h3>خواص Session</h3>\n",
    "<ul>\n",
    "<li>فقط مخصوص یک کاربر</li>\n",
    "<li>محدودیت زمانی دارد</li>\n",
    "<li>محدود به باز بودن مرورگر</li>\n",
    "<li>به صورت پیشفرض غیر فعال است</li>\n",
    "</ul>\n",
    "\n",
    "<h3>فعال سازی</h3>\n",
    "<ul>\n",
    "<li>نگهداری در کش distributed(memory, sqlserver, redis)</li>\n",
    "<li>تنظیمات با AddSession</li>\n",
    "<li>دریافت اطلاعات با UseSession</li>\n",
    "</ul>\n",
    "\n",
    "</div>"
   ]
  }
 ],
 "metadata": {
  "kernelspec": {
   "display_name": ".NET (C#)",
   "language": "C#",
   "name": ".net-csharp"
  },
  "language_info": {
   "name": "csharp"
  },
  "polyglot_notebook": {
   "kernelInfo": {
    "defaultKernelName": "csharp",
    "items": [
     {
      "aliases": [],
      "name": "csharp"
     }
    ]
   }
  }
 },
 "nbformat": 4,
 "nbformat_minor": 2
}
