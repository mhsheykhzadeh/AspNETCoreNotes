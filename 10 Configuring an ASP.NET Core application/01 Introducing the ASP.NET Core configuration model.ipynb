{
 "cells": [
  {
   "cell_type": "markdown",
   "metadata": {
    "dotnet_interactive": {
     "language": "csharp"
    },
    "polyglot_notebook": {
     "kernelName": "csharp"
    }
   },
   "source": [
    "<div dir=\"rtl\" style=\"margin:auto; width:90%; font-family:vazirmatn;\">\n",
    "<p>پیکربندی (Configuration) مجموعه‌ای از پارامترهای خارجی است که به یک برنامه ارائه می‌شود و به نوعی رفتار آن برنامه را کنترل می‌کند. به عبارت دیگر، پیکربندی به شما امکان می‌دهد که رفتار برنامه را بدون تغییر در کد اصلی، فقط با تغییر این پارامترهای خارجی، تنظیم کنید.</p>\n",
    "<p>Configuration به دو دسته اصلی تقسیم می شود:</p>\n",
    "<ul><li><strong>تنظیمات (Settings):</strong> هر مقدار یا مقداری که بتواند رفتار برنامه را تغییر دهد، یک تنظیم (Setting) محسوب می‌شود. به عنوان مثال، یک مقدار برای تنظیم سطح لاگ‌گیری، یا آدرس URL یک API خارجی، می‌تواند تنظیم باشد.</li><li><strong>اسرار (Secrets):</strong> اسرار نوع خاصی از تنظیمات هستند که حاوی داده‌های حساس می‌باشند. این داده‌های حساس می‌توانند شامل رمزهای عبور، کلیدهای API برای سرویس‌های ثالث، یا رشته‌های اتصال به پایگاه داده باشند.</li></ul>\n",
    "</div>"
   ]
  },
  {
   "cell_type": "markdown",
   "metadata": {},
   "source": [
    "***ASP.NET Core*** uses `configuration providers` to load ***key-value pairs*** from a variety of sources. Applications can use **multiple configuration providers**.  \n",
    "  \n",
    "you can ***load values*** from `files`, from `environment variables`, from `command-line arguments`, from a `database`, or from a `remote service`.  \n",
    "  \n",
    "Or you can ***create*** your `own custom configuration provider`"
   ]
  },
  {
   "cell_type": "markdown",
   "metadata": {},
   "source": [
    "The ASP.NET Core configuration model also has the concept of `overriding settings`. Each configuration provider can define its own settings, or it can ***overwrite settings*** from a `previous provider`."
   ]
  }
 ],
 "metadata": {
  "kernelspec": {
   "display_name": ".NET (C#)",
   "language": "C#",
   "name": ".net-csharp"
  },
  "language_info": {
   "name": "python"
  },
  "polyglot_notebook": {
   "kernelInfo": {
    "defaultKernelName": "csharp",
    "items": [
     {
      "aliases": [],
      "name": "csharp"
     }
    ]
   }
  }
 },
 "nbformat": 4,
 "nbformat_minor": 2
}
