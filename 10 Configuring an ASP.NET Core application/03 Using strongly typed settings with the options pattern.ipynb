{
 "cells": [
  {
   "cell_type": "markdown",
   "metadata": {},
   "source": [
    "<div dir=\"rtl\" style=\"margin:auto; width:90%; font-family:vazirmatn;\">\n",
    "\n",
    "<p>در ASP.NET Core، الگوی <strong>Options</strong> برای مدیریت و دسترسی به تنظیمات پیکربندی (configuration settings) به صورت قوی‌نوع (strongly-typed) استفاده می‌شود. این الگو به شما این امکان را می‌دهد که تنظیمات پیکربندی برنامه را به طور مستقیم به اشیاء POCO اختصاص دهید و سپس در سرویس‌ها و کنترلرها از آن‌ها استفاده کنید. این روش باعث می‌شود که مدیریت پیکربندی‌ها ساده‌تر، قابل تست‌تر و قابل مدیریت‌تر شود.</p>\n",
    "\n",
    "<h5>مزایای استفاده از Options Pattern</h5>\n",
    "<ol><li><p><strong>Strongly Typed:</strong> استفاده از کلاس‌های strongly-typed به شما اطمینان می‌دهد که تنظیمات شما به صورت صحیح مدیریت می‌شوند و در زمان کامپایل، خطاهای احتمالی شناسایی می‌شوند.</p></li><li><p><strong>قابل تست بودن:</strong> این الگو به راحتی قابل تست است، زیرا تنظیمات به عنوان DI در سرویس‌ها و کنترلرها تزریق می‌شوند.</p></li><li><p><strong>جداسازی concerns:</strong> تنظیمات به طور جدی از سایر قسمت‌های برنامه جدا می‌شوند، که این امر نگهداری و مدیریت آن‌ها را آسان‌تر می‌کند.</p></li><li><p><strong>پشتیبانی از تغییرات داینامیک:</strong> با استفاده از الگوهای پیشرفته‌تر مانند <code>IOptionsSnapshot</code>، می‌توانید از تغییرات داینامیک در تنظیمات خود پشتیبانی کنید.</p></li></ol>\n",
    "</div>"
   ]
  },
  {
   "cell_type": "code",
   "execution_count": null,
   "metadata": {
    "dotnet_interactive": {
     "language": "javascript"
    },
    "polyglot_notebook": {
     "kernelName": "javascript"
    },
    "vscode": {
     "languageId": "polyglot-notebook"
    }
   },
   "outputs": [],
   "source": [
    "{\n",
    "    \"MapSettings\": { \n",
    "        \"DefaultZoomLevel\": 6, \n",
    "        \"DefaultLocation\": { \n",
    "            \"latitude\": 50.500, \n",
    "            \"longitude\": -4.000 \n",
    "        }\n",
    "    },\n",
    "    \"AppDisplaySettings\": { \n",
    "        \"Title\": \"Acme Store Locator\", \n",
    "        \"ShowCopyright\": true \n",
    "    }\n",
    "}"
   ]
  },
  {
   "cell_type": "code",
   "execution_count": null,
   "metadata": {
    "dotnet_interactive": {
     "language": "csharp"
    },
    "polyglot_notebook": {
     "kernelName": "csharp"
    },
    "vscode": {
     "languageId": "polyglot-notebook"
    }
   },
   "outputs": [],
   "source": [
    "app.MapGet(\"/display-settings\", (Iconfiguration config) =>\n",
    "{\n",
    "    string title = config[\"AppDisplaySettings:Title\"];\n",
    "\n",
    "    bool showCopyright = bool.Parse(\n",
    "        config[\"AppDisplaySettings:ShowCopyright\"]);\n",
    "        \n",
    "    return new { title, showCopyright };\n",
    "});"
   ]
  },
  {
   "cell_type": "code",
   "execution_count": null,
   "metadata": {
    "dotnet_interactive": {
     "language": "csharp"
    },
    "polyglot_notebook": {
     "kernelName": "csharp"
    },
    "vscode": {
     "languageId": "polyglot-notebook"
    }
   },
   "outputs": [],
   "source": [
    "app.MapGet(\"/display-settings\",\n",
    "    (IOptions<AppDisplaySettings> options) => \n",
    "{\n",
    "    AppDisplaySettings settings = options.Value; \n",
    "\n",
    "    string title = settings.Title; \n",
    "\n",
    "    bool showCopyright = settings.ShowCopyright; \n",
    "    \n",
    "    return new { title, showCopyright };\n",
    "});"
   ]
  },
  {
   "cell_type": "markdown",
   "metadata": {},
   "source": [
    "The ASP.NET Core ***configuration system*** includes a `binder`, which can **take** a\n",
    "collection of ***configuration values*** and bind them to a ***strongly typed object***"
   ]
  },
  {
   "cell_type": "markdown",
   "metadata": {},
   "source": [
    "### Introducing the IOptions interface"
   ]
  },
  {
   "cell_type": "code",
   "execution_count": null,
   "metadata": {
    "dotnet_interactive": {
     "language": "csharp"
    },
    "polyglot_notebook": {
     "kernelName": "csharp"
    },
    "vscode": {
     "languageId": "polyglot-notebook"
    }
   },
   "outputs": [],
   "source": [
    "public class AppDisplaySettings\n",
    "{\n",
    "    public string Title { get; set; }\n",
    "    public bool ShowCopyright { get; set; }\n",
    "}"
   ]
  },
  {
   "cell_type": "markdown",
   "metadata": {},
   "source": [
    "Your ***options classes*** need to be `nonabstract` and have a `public parameterless\n",
    "constructor` to be eligible for binding."
   ]
  },
  {
   "cell_type": "markdown",
   "metadata": {},
   "source": [
    "you can use nested complex types, The ***options system*** `binds` sections to complex"
   ]
  },
  {
   "cell_type": "markdown",
   "metadata": {},
   "source": [
    "ASP.NET Core introduces the `IOptions<T>` interface, ***binding*** of configuration values to your custom `POCO options classes`, have a single property, `Value`"
   ]
  },
  {
   "cell_type": "code",
   "execution_count": null,
   "metadata": {
    "dotnet_interactive": {
     "language": "csharp"
    },
    "polyglot_notebook": {
     "kernelName": "csharp"
    },
    "vscode": {
     "languageId": "polyglot-notebook"
    }
   },
   "outputs": [],
   "source": [
    "WebApplicationBuilder builder = WebApplication.CreateBuilder(args);\n",
    "\n",
    "builder.Services.Configure<MapSettings>(\n",
    "    builder.Configuration.GetSection(\"MapSettings\"));\n",
    "\n",
    "builder.Services.Configure<AppDisplaySettings>(\n",
    "    builder.Configuration.GetSection(\"AppDisplaySettings\"));"
   ]
  },
  {
   "cell_type": "markdown",
   "metadata": {},
   "source": [
    "The binding of the `T` options class to ConfigurationSection happens when\n",
    "you `first request IOptions<T>`."
   ]
  },
  {
   "cell_type": "markdown",
   "metadata": {},
   "source": [
    "This setup has ***one catch***: `you can’t use the reloadOnChange` parameter"
   ]
  },
  {
   "cell_type": "markdown",
   "metadata": {},
   "source": [
    "### Reloading strongly typed options with `IOptionsSnapshot`"
   ]
  },
  {
   "cell_type": "markdown",
   "metadata": {},
   "source": [
    "you can use the `IOptionsSnapshot<T>` interface, for get `fresh data` when ***source*** of configuration is ***changed***"
   ]
  },
  {
   "cell_type": "markdown",
   "metadata": {},
   "source": [
    "`IOptionsSnapshot<T>` is registered as a `scoped service`, so `you can’t inject` it\n",
    "into ***singleton services***, if you do, you’ll have a `captive dependency`  \n",
    "  \n",
    "If you need a ***singleton*** version of `IOptionsSnapshot<T>`, you can use a similar interface, `IOptionsMonitor<T>`.\n"
   ]
  },
  {
   "cell_type": "markdown",
   "metadata": {},
   "source": [
    "`IOptionsSnapshot<T>` ***re-create*** at `everey request`. If you edit the settings file and cause IConfiguration to reload, `IOptionsSnapshot<T>` shows the new values on the ***next request***."
   ]
  },
  {
   "cell_type": "markdown",
   "metadata": {},
   "source": [
    "### Configuring strongly typed settings without IOptions"
   ]
  },
  {
   "cell_type": "code",
   "execution_count": null,
   "metadata": {
    "dotnet_interactive": {
     "language": "csharp"
    },
    "polyglot_notebook": {
     "kernelName": "csharp"
    },
    "vscode": {
     "languageId": "polyglot-notebook"
    }
   },
   "outputs": [],
   "source": [
    "WebApplicationBuilder builder = WebApplication.CreateBuilder(args);\n",
    "\n",
    "var settings = new MapSettings (); \n",
    "\n",
    "builder.Configuration.GetSection(\"MapSettings\").Bind(settings); \n",
    "\n",
    "builder.Services.AddSingleton(settings); \n",
    "\n",
    "WebApplication app = builder.Build();\n",
    "\n",
    "app.MapGet(\"/\", (MapSettings mapSettings) => mapSettings); \n",
    "\n",
    "app.Run();"
   ]
  },
  {
   "cell_type": "code",
   "execution_count": null,
   "metadata": {
    "dotnet_interactive": {
     "language": "csharp"
    },
    "polyglot_notebook": {
     "kernelName": "csharp"
    },
    "vscode": {
     "languageId": "polyglot-notebook"
    }
   },
   "outputs": [],
   "source": [
    "WebApplicationBuilder builder = WebApplication.CreateBuilder(args);\n",
    "\n",
    "builder.Services.Configure<MapSettings>( \n",
    "    builder.Configuration.GetSection(\"MapSettings\")); \n",
    "    \n",
    "builder.Services.AddSingleton(provider => \n",
    "    provider.GetRequiredService<IOptions<MapSettings>>().Value); \n",
    "\n",
    "WebApplication app = builder.Build();\n",
    "\n",
    "app.MapGet(\"/\", (MapSettings mapSettings) => mapSettings); \n",
    "\n",
    "app.Run();"
   ]
  }
 ],
 "metadata": {
  "kernelspec": {
   "display_name": ".NET (C#)",
   "language": "C#",
   "name": ".net-csharp"
  },
  "language_info": {
   "name": "python"
  },
  "polyglot_notebook": {
   "kernelInfo": {
    "defaultKernelName": "csharp",
    "items": [
     {
      "aliases": [],
      "name": "csharp"
     }
    ]
   }
  }
 },
 "nbformat": 4,
 "nbformat_minor": 2
}
