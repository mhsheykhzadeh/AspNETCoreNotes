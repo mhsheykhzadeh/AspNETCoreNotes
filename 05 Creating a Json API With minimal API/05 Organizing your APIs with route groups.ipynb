{
 "cells": [
  {
   "cell_type": "markdown",
   "metadata": {
    "dotnet_interactive": {
     "language": "csharp"
    },
    "polyglot_notebook": {
     "kernelName": "csharp"
    }
   },
   "source": [
    ".NET 7 introduced two new mechanisms to improve management of minimal API \n",
    "- `Filters`, help ***separate*** `validation checks` and `cross-cutting functions` such as logging from the important logic in your endpoint handler functions.  \n",
    "- `Route groups`, help ***reduce duplication*** by `applying filters` and `routing` to multiple handlers at the same time."
   ]
  },
  {
   "cell_type": "code",
   "execution_count": null,
   "metadata": {
    "dotnet_interactive": {
     "language": "csharp"
    },
    "polyglot_notebook": {
     "kernelName": "csharp"
    },
    "vscode": {
     "languageId": "polyglot-notebook"
    }
   },
   "outputs": [],
   "source": [
    "app.MapGet(\"/fruits\", () => {/* */});\n",
    "app.MapGet(\"/fruits/{id}\", (string id) => {/* */});\n",
    "app.MapPost(\"/fruits/{id}\", (Fruit fruit, string id) => {/* */});\n",
    "app.MapPut(\"/fruits/{id}\", (Fruit fruit, string id) => {/* */});\n",
    "app.MapDelete(\"/fruits/{id}\", (string id) => {/* */});"
   ]
  },
  {
   "cell_type": "code",
   "execution_count": null,
   "metadata": {
    "dotnet_interactive": {
     "language": "csharp"
    },
    "polyglot_notebook": {
     "kernelName": "csharp"
    },
    "vscode": {
     "languageId": "polyglot-notebook"
    }
   },
   "outputs": [],
   "source": [
    "\n",
    "using System.Collections.Concurrent;\n",
    "\n",
    "WebApplicationBuilder builder = WebApplication.CreateBuilder(args);\n",
    "WebApplication app = builder.Build();\n",
    "\n",
    "app.AddFruitApi(); \n",
    "\n",
    "app.Run();\n",
    "\n",
    "\n",
    "public static class FruitApiExtensions\n",
    "{\n",
    "    public static void AddFruitApi(this WebApplication app)\n",
    "    {\n",
    "        var _fruit = new ConcurrentDictionary<string, Fruit>();\n",
    "\n",
    "        RouteGroupBuilder fruitApi = app.MapGroup(\"/fruit\");\n",
    "        fruitApi.MapGet(\"/\", () => _fruit);\n",
    "\n",
    "        RouteGroupBuilder fruitApiWithValidation = fruitApi.MapGroup(\"/\")\n",
    "            .AddEndpointFilter<IdValidationFilter>();\n",
    "\n",
    "        fruitApiWithValidation.MapGet(\"/{id}\", (string id) =>\n",
    "            _fruit.TryGetValue(id, out var fruit)\n",
    "            ? TypedResults.Ok(fruit)\n",
    "            : Results.Problem(statusCode: 404));\n",
    "\n",
    "        fruitApiWithValidation.MapPost(\"/{id}\", (Fruit fruit, string id) =>\n",
    "            _fruit.TryAdd(id, fruit)\n",
    "            ? TypedResults.Created($\"/fruit/{id}\", fruit)\n",
    "            : Results.ValidationProblem(new Dictionary<string, string[]>\n",
    "            {\n",
    "                { \"id\", new[] { \"A fruit with this id already exists\" } }\n",
    "            }));\n",
    "\n",
    "        fruitApiWithValidation.MapPut(\"/{id}\", (string id, Fruit fruit) =>\n",
    "        {\n",
    "            _fruit[id] = fruit;\n",
    "            return Results.NoContent();\n",
    "        });\n",
    "\n",
    "        fruitApiWithValidation.MapDelete(\"/{id}\", (string id) =>\n",
    "        {\n",
    "            _fruit.TryRemove(id, out _);\n",
    "            return Results.NoContent();\n",
    "        });\n",
    "    }\n",
    "}\n",
    "\n",
    "public record Fruit(string Name, int Stock);\n",
    "\n",
    "public class IdValidationFilter : IEndpointFilter\n",
    "{\n",
    "    public async ValueTask<object?> InvokeAsync(\n",
    "        EndpointFilterInvocationContext context,\n",
    "        EndpointFilterDelegate next)\n",
    "    {\n",
    "        var id = context.GetArgument<string>(0);\n",
    "        if (string.IsNullOrEmpty(id) || !id.StartsWith('f'))\n",
    "        {\n",
    "            return Results.ValidationProblem(\n",
    "            new Dictionary<string, string[]>\n",
    "            {\n",
    "                {\"id\", new[]{\"Invalid format. Id must start with 'f'\"}}\n",
    "            });\n",
    "        }\n",
    "        return await next(context);\n",
    "    }\n",
    "}"
   ]
  }
 ],
 "metadata": {
  "kernelspec": {
   "display_name": ".NET (C#)",
   "language": "C#",
   "name": ".net-csharp"
  },
  "language_info": {
   "name": "python"
  },
  "polyglot_notebook": {
   "kernelInfo": {
    "defaultKernelName": "csharp",
    "items": [
     {
      "aliases": [],
      "name": "csharp"
     }
    ]
   }
  }
 },
 "nbformat": 4,
 "nbformat_minor": 2
}
