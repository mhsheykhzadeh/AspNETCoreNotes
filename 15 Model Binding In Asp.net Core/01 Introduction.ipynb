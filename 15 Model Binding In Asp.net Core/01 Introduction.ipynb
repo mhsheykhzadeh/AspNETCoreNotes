{
 "cells": [
  {
   "cell_type": "markdown",
   "metadata": {},
   "source": [
    "<div dir=\"rtl\" style=\"margin:auto; width:90%; font-family:vazirmatn\">\n",
    "<p><strong>Model Binding</strong> فرایندی است که در ASP.NET Core درخواست‌های HTTP را به مقادیر متغیرها یا پارامترهای یک اکشن کنترلر تبدیل می‌کند. این مکانیزم به شما امکان می‌دهد که داده‌های ورودی کاربران (مانند داده‌های فرم، پارامترهای URL، کوکی‌ها، و غیره) را به اشیاء C# تبدیل کنید.</p>\n",
    "<p>در خواستهایی که از سمت کاربر به سرور می رسند فقط یک Text معمولی هست ، حال باید این Text به کلاسها و داده های C# تبدیل شود.</p>\n",
    "<h3>2. <strong>نحوه عملکرد Model Binding</strong></h3>\n",
    "<ul><li><strong>منابع داده</strong>: ASP.NET Core داده‌ها را از منابع مختلفی مانند کوئری‌استرینگ (Query String)، فرم‌ها (Form Data)، بدنه درخواست (Request Body)، هدرها (Headers)، و کوکی‌ها (Cookies) جمع‌آوری می‌کند.</li><li><strong>مقداردهی پارامترها</strong>: وقتی یک درخواست به یک اکشن ارسال می‌شود، ASP.NET Core به دنبال مقادیر ورودی در منابع مختلف می‌گردد تا آنها را به پارامترهای اکشن یا مدل‌ها تخصیص دهد.</li><li><strong>اولویت‌بندی</strong>: منابع مختلف داده، اولویت‌های خاصی دارند. برای مثال، داده‌های کوئری‌استرینگ اولویت بالاتری نسبت به داده‌های بدنه درخواست دارند.</li></ul>\n",
    "<h3>3. <strong>پشتیبانی از انواع داده</strong></h3>\n",
    "<ul><li><strong>انواع ساده</strong>: مانند int، string، bool و دیگر انواع پایه‌ای. ASP.NET Core به‌طور خودکار این مقادیر را از ورودی‌ها دریافت و به پارامترهای مربوطه اکشن ارسال می‌کند.</li><li><strong>مدل‌های پیچیده</strong>: کلاس‌های C# که شامل پراپرتی‌های مختلف هستند. Model Binding می‌تواند مقادیر ورودی را به این مدل‌های پیچیده نیز مرتبط کند.</li></ul>\n",
    "</div>"
   ]
  },
  {
   "cell_type": "markdown",
   "metadata": {},
   "source": [
    "### Model Binder"
   ]
  },
  {
   "cell_type": "markdown",
   "metadata": {},
   "source": [
    "<div dir=\"rtl\" style=\"margin:auto; width:90%; font-family:vazirmatn\">\n",
    "<p><strong>Model Binder</strong> ها در ASP.NET Core مسئول فرآیند <strong>Model Binding</strong> هستند؛ یعنی گرفتن داده از درخواست‌های HTTP و نگاشت آن‌ها به پارامترهای اکشن یا مدل‌ها. ASP.NET Core چندین Model Binder پیش‌فرض دارد که وظیفه‌ی جستجوی داده از منابع مختلف را بر عهده دارند.</p>\n",
    "<h3>منابع مختلف برای Bind کردن داده ها</h3>\n",
    "\n",
    "<ol><li><p><strong>Route Data</strong> (داده‌های مسیریابی):</p><ul><li>اولویت اول با داده‌های موجود در مسیر URL (route) است. وقتی پارامترها در مسیریابی تعریف شده‌اند (مانند <code>/products/{id}</code>)، ASP.NET Core به‌صورت خودکار مقادیر موجود در مسیر را برای پارامترهای مشخص شده در اکشن جستجو می‌کند.</li><li>مثال: <code>public IActionResult GetProduct(int id)</code>، که در مسیر <code>/products/5</code>، مقدار <code>id = 5</code> تنظیم می‌شود.</li></ul></li><li><p><strong>Query String</strong> (رشته‌های کوئری):</p><ul><li>اگر داده‌ها در URL به‌صورت کوئری‌استرینگ ارسال شوند (مثل <code>?id=10&amp;name=John</code>)، پس از داده‌های مسیریابی، سیستم به دنبال مقادیر در کوئری‌استرینگ می‌گردد.</li><li>مثال: <code>public IActionResult SearchProduct(int id, string name)</code>، که در مسیر <code>/search?id=10&amp;name=John</code>، مقدارهای <code>id = 10</code> و <code>name = John</code> تنظیم می‌شود.</li></ul></li><li><p><strong>Form Data</strong> (داده‌های فرم):</p><ul><li>اگر درخواست از نوع <strong>POST</strong> یا <strong>PUT</strong> باشد و داده‌ها به عنوان فرم ارسال شوند (مانند فرم‌های HTML)، ASP.NET Core داده‌های فرم را بررسی می‌کند.</li><li>مثال: <code>public IActionResult SubmitForm(string name)</code>، که در فرم ارسالی با متد POST، مقدار <code>name</code> از داده‌های فرم تنظیم می‌شود.</li></ul></li><li><p><strong>Request Body</strong> (بدنه‌ی درخواست):</p><ul><li>برای درخواست‌هایی که داده‌ها در بدنه‌ی JSON یا XML ارسال می‌شوند (مانند درخواست‌های API)، ASP.NET Core به دنبال داده‌ها در بدنه‌ی درخواست می‌گردد. پارامترهای اکشن باید با <code>[FromBody]</code> مشخص شوند تا این رفتار رخ دهد.</li></ul></li><li><p><strong>Header Data</strong> (داده‌های هدر):</p><ul><li>ASP.NET Core می‌تواند مقادیر را از هدرهای HTTP استخراج کند. برای این کار، باید پارامترهای اکشن با <code>[FromHeader]</code> مشخص شوند.</li></ul></li><li><p><strong>Cookies</strong>:</p><ul><li>مقادیر کوکی‌ها نیز می‌توانند به پارامترهای اکشن نگاشت شوند، با استفاده از <code>[FromCookie]</code> (اگرچه این مورد کمتر استفاده می‌شود).</li></ul></li><li><p><strong>Services</strong>:</p><ul><li>علاوه بر منابع ورودی کاربر، ASP.NET Core به شما اجازه می‌دهد سرویس‌ها را به پارامترهای اکشن تزریق کنید با استفاده از <code>[FromServices]</code>. این مورد در سناریوهایی مانند تزریق وابستگی (Dependency Injection) برای سرویس‌ها به‌کار می‌رود.</li></ul></li></ol>\n",
    "</div>"
   ]
  },
  {
   "cell_type": "markdown",
   "metadata": {},
   "source": [
    "<div dir=\"rtl\" style=\"margin:auto; width:90%; font-family:vazirmatn\">\n",
    "<h3>ترتیب جستجوی مقادیر</h3>\n",
    "<p> ترتیب جستجوی مقادیر توسط <strong>Model Binding</strong> در ASP.NET Core بستگی به نوع داده‌های ورودی دارد و به گونه‌ای طراحی شده که به محض یافتن مقدار موردنظر، از جستجو در سایر منابع صرف‌نظر می‌شود. در واقع، ASP.NET Core از اولین مکانی که بتواند مقدار مربوط به پارامتر اکشن یا مدل را پیدا کند، استفاده می‌کند و به سراغ سایر منابع نمی‌رود. ترتیب پیش‌فرضی که در برخی منابع آمده به این شکل است:</p>\n",
    "<ol><li><p><strong>Form Data (داده‌های فرم)</strong>:</p><ul><li>ابتدا مدل بایندینگ در داده‌های ارسالی از فرم (مانند داده‌های POST یا PUT) جستجو می‌کند.</li></ul></li><li><p><strong>Body Data (داده‌های بدنه)</strong>:</p><ul><li>اگر درخواست شامل داده‌های API (مانند JSON یا XML) باشد و از <code>[FromBody]</code> استفاده شود، این داده‌ها از بدنه‌ی درخواست استخراج می‌شوند.</li></ul></li><li><p><strong>Route Data (داده‌های مسیریابی)</strong>:</p><ul><li>اگر پارامترهای مورد نظر در URL تعریف شده باشند، مدل بایندینگ مقادیر را از مسیرهای URL استخراج می‌کند.</li></ul></li><li><p><strong>Query String Data (رشته‌های کوئری)</strong>:</p><ul><li>در صورتی که داده‌های مربوطه در Query String موجود باشند، مدل بایندینگ مقادیر را از این بخش دریافت می‌کند.</li></ul></li><li><p><strong>Uploaded File Data (فایل‌های آپلود شده)</strong>:</p><ul><li>برای نوع داده‌های <code>IFormFile</code> که مربوط به آپلود فایل‌ها هستند، داده‌ها از فرم آپلودی استخراج می‌شوند.</li></ul></li></ol>\n",
    "</div>"
   ]
  },
  {
   "cell_type": "code",
   "execution_count": null,
   "metadata": {
    "dotnet_interactive": {
     "language": "csharp"
    },
    "polyglot_notebook": {
     "kernelName": "csharp"
    },
    "vscode": {
     "languageId": "polyglot-notebook"
    }
   },
   "outputs": [],
   "source": [
    "public IActionResult ProcessRequest(\n",
    "    [FromForm] string name,\n",
    "    [FromBody] string description,\n",
    "    [FromRoute] int id,\n",
    "    [FromQuery] string category,\n",
    "    IFormFile file)\n",
    "{\n",
    "    // ASP.NET Core به ترتیب منابع پیش‌فرض مقداردهی را انجام می‌دهد.\n",
    "}\n"
   ]
  },
  {
   "cell_type": "markdown",
   "metadata": {},
   "source": [
    "<div dir=\"rtl\" style=\"margin:auto; width:90%; font-family:vazirmatn\">\n",
    "البته این ترتیب به صورت پیش فرض تنظیم شده است و می توان آن را customize کرد.\n",
    "\n",
    "<p>سیستم مدل binding سعی میکند مقدار را پیدا کنید اگر نکرد exception بر نمی گرداند، مقدار Default را بر می گرداند</p>\n",
    "</div>"
   ]
  },
  {
   "cell_type": "code",
   "execution_count": null,
   "metadata": {
    "dotnet_interactive": {
     "language": "csharp"
    },
    "polyglot_notebook": {
     "kernelName": "csharp"
    },
    "vscode": {
     "languageId": "polyglot-notebook"
    }
   },
   "outputs": [],
   "source": [
    "   public IActionResult IntInput(int id)\n",
    "   {\n",
    "       return View(id);\n",
    "   }\n",
    "\n",
    "   /*\n",
    "   /home/IntInput?id=123  => id = 123\n",
    "   /home/IntInput/test?id=123  => id = 0 \n",
    "\n",
    "   beacuse for priority of model binding\n",
    "   */\n"
   ]
  }
 ],
 "metadata": {
  "kernelspec": {
   "display_name": ".NET (C#)",
   "language": "C#",
   "name": ".net-csharp"
  },
  "language_info": {
   "name": "python"
  },
  "polyglot_notebook": {
   "kernelInfo": {
    "defaultKernelName": "csharp",
    "items": [
     {
      "aliases": [],
      "name": "csharp"
     }
    ]
   }
  }
 },
 "nbformat": 4,
 "nbformat_minor": 2
}
