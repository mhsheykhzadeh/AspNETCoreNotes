{
 "cells": [
  {
   "cell_type": "markdown",
   "metadata": {},
   "source": [
    "<div dir=\"rtl\" style=\"margin:auto; width:90%; font-family:vazirmatn\">\n",
    "<h3>مراحل و نحوه خواندن مقادیر ساده:</h3>\n",
    "<ol><li><p><strong>مقادیر <code>string</code></strong>:</p><ul><li>اگر پارامتر اکشن از نوع <code>string</code> باشد، سیستم مدل بایندینگ مقدار را به همان صورتی که از منابع می‌گیرد، بدون تغییر خاصی به پارامتر اکشن نگاشت می‌کند.</li></ul></li><li><p><strong>مقادیر <code>int</code> و سایر انواع داده‌های عددی (<code>int</code>, <code>float</code>, <code>double</code>, <code>decimal</code>)</strong>:</p><ul><li>مدل بایندینگ تلاش می‌کند تا مقدار ورودی را از رشته‌های متنی (که از منابع مختلف مثل کوئری‌استرینگ، داده‌های فرم و ... دریافت می‌شود) به نوع داده عددی تبدیل کند.</li><li>اگر تبدیل موفق باشد، مقدار تنظیم می‌شود، و اگر مقدار ورودی قابل تبدیل به عدد نباشد (مثل فرستادن \"abc\" برای پارامتر <code>int</code>)، یک خطای مدل ایجاد می‌شود و مقدار پیش‌فرض برای آن نوع (<code>0</code> برای <code>int</code>) استفاده خواهد شد.</li></ul></li><li><p><strong>مقادیر <code>DateTime</code></strong>:</p><ul><li>مدل بایندینگ تاریخ‌ها را به‌صورت <code>DateTime</code> تبدیل می‌کند، به شرط اینکه فرمت ورودی معتبر باشد (مانند <code>YYYY-MM-DD</code> یا سایر فرمت‌های استاندارد).</li><li>اگر مقدار ورودی به فرمت معتبری نباشد، خطای مدل ایجاد می‌شود و مقدار پیش‌فرض <code>DateTime.MinValue</code> استفاده می‌شود.</li></ul></li><li><p><strong>مقادیر <code>enum</code></strong>:</p><ul><li>سیستم مدل بایندینگ تلاش می‌کند تا مقادیر ورودی را به نوع‌های <code>enum</code> تبدیل کند. ورودی‌ها می‌توانند نام <code>enum</code> یا مقدار عددی آن باشند.</li><li>اگر تبدیل ناموفق باشد، خطای مدل ایجاد می‌شود.</li></ul></li></ol>\n",
    "</div>"
   ]
  },
  {
   "cell_type": "markdown",
   "metadata": {},
   "source": [
    "<div dir=\"rtl\" style=\"margin:auto; width:90%; font-family:vazirmatn\">\n",
    "<h3>فرآیند مقداردهی به مدل‌های پیچیده:</h3>\n",
    "<ol><li><p><strong>امکان مقداردهی با <code>Parse</code> نیست</strong>:</p><ul><li>برای انواع ساده مثل <code>int</code>، <code>bool</code>، و <code>DateTime</code>، سیستم مدل بایندینگ به راحتی می‌تواند از متدهایی مثل <code>Parse</code> یا <code>TryParse</code> استفاده کند. اما برای مدل‌های پیچیده که شامل چندین خاصیت هستند، استفاده از <code>Parse</code> امکان‌پذیر نیست. بنابراین مدل بایندینگ به روش متفاوتی مقادیر را تنظیم می‌کند.</li></ul></li><li><p><strong>بازیابی خواص با استفاده از Reflection</strong>:</p><ul><li>ASP.NET Core از <strong>Reflection</strong> برای بررسی و شناسایی خواص مدل استفاده می‌کند. سیستم مدل بایندینگ به خواص هر کلاس نگاه می‌کند و نام هر خاصیت را با داده‌های موجود در درخواست مقایسه می‌کند تا متوجه شود که آیا داده‌ای برای آن خاصیت وجود دارد یا خیر.</li><li>برای مثال، اگر مدل شما شامل خاصیتی به نام <code>FirstName</code> باشد، مدل بایندینگ تلاش می‌کند تا مقداری با کلید <code>FirstName</code> را از منابع موجود (مانند کوئری استرینگ، داده‌های فرم و ...) بازیابی کند.</li></ul></li><li><p><strong>مقداردهی به تک تک خواص مدل</strong>:</p><ul><li>پس از یافتن مقادیر مناسب برای هر خاصیت، مدل بایندینگ مقادیر را به صورت جداگانه به هر خاصیت مدل نگاشت می‌کند. اگر داده‌های ورودی قابل تبدیل به نوع خاصیت باشند (مثل تبدیل یک رشته به <code>int</code> یا <code>DateTime</code>)، این تبدیل انجام می‌شود. اگر نتواند مقدار را به نوع خاصیت تبدیل کند (مثلاً اگر ورودی نامعتبر باشد)، خطای مدل ایجاد می‌شود و مقدار پیش‌فرض خاصیت تنظیم می‌شود.</li></ul></li><li><p><strong>اگر خاصیت پیچیده باشد، تکرار روال</strong>:</p><ul><li>اگر خاصیتی خود یک مدل پیچیده باشد (به عنوان مثال، خاصیت یک کلاس دیگر یا یک شیء مرکب باشد)، مدل بایندینگ همین روند را برای آن خاصیت تکرار می‌کند. این فرآیند به صورت بازگشتی ادامه پیدا می‌کند تا تمام خواص به درستی مقداردهی شوند.</li><li>به عبارت دیگر، اگر مدل شامل شیء‌های تو در تو باشد، مدل بایندینگ ابتدا شیء‌های داخلی را مقداردهی می‌کند و سپس آن‌ها را به مدل اصلی اختصاص می‌دهد.</li></ul></li></ol>\n",
    "</div>"
   ]
  },
  {
   "cell_type": "code",
   "execution_count": null,
   "metadata": {
    "dotnet_interactive": {
     "language": "csharp"
    },
    "polyglot_notebook": {
     "kernelName": "csharp"
    },
    "vscode": {
     "languageId": "polyglot-notebook"
    }
   },
   "outputs": [],
   "source": [
    "public class Address\n",
    "{\n",
    "    public string Street { get; set; }\n",
    "    public string City { get; set; }\n",
    "}\n",
    "\n",
    "public class Person\n",
    "{\n",
    "    public string FirstName { get; set; }\n",
    "    public string LastName { get; set; }\n",
    "    public int Age { get; set; }\n",
    "    public Address Address { get; set; }\n",
    "}"
   ]
  },
  {
   "cell_type": "markdown",
   "metadata": {},
   "source": [
    "<div dir=\"rtl\" style=\"margin:auto; width:90%; font-family:vazirmatn\">\n",
    "<p>در اینجا، خاصیت <code>Person</code> یک <strong>شیء پیچیده</strong> است. مدل بایندینگ تلاش می‌کند تا ابتدا خواص <code>FirstName</code>، <code>LastName</code>، و <code>Age</code> را از داده‌های ورودی به مدل <code>Person</code> نگاشت کند. سپس برای خاصیت <code>Address</code> که خودش یک کلاس است، به صورت بازگشتی عملیات را ادامه می‌دهد تا به خواص داخلی <code>Street</code> و <code>City</code> مقداردهی کند.</p>\n",
    "</div>"
   ]
  },
  {
   "cell_type": "code",
   "execution_count": null,
   "metadata": {
    "dotnet_interactive": {
     "language": "csharp"
    },
    "polyglot_notebook": {
     "kernelName": "csharp"
    },
    "vscode": {
     "languageId": "polyglot-notebook"
    }
   },
   "outputs": [],
   "source": [
    "[HttpPost]\n",
    "public IActionResult Register(Person person)\n",
    "{\n",
    "    if (!ModelState.IsValid)\n",
    "    {\n",
    "        return BadRequest(ModelState);\n",
    "    }\n",
    "\n",
    "    // در اینجا مدل person و خواص داخلی آن به درستی مقداردهی شده‌اند\n",
    "    return Ok(person);\n",
    "}\n"
   ]
  },
  {
   "cell_type": "markdown",
   "metadata": {},
   "source": [
    "<div dir=\"rtl\" style=\"margin:auto; width:90%; font-family:vazirmatn\">\n",
    "<h3>Bind Prefix</h3>\n",
    "<p>در ASP.NET Core، مدل بایندینگ به طور خودکار سعی می‌کند مقادیر ورودی از منابع مختلف (مثل Query string، فرم‌ها و body درخواست‌ها) را به مدل‌های اکشن‌ها نگاشت کند. گاهی اوقات نام فیلدهای ورودی فرم یا داده‌های ارسال‌شده با ساختار مدل در اکشن تطابق مستقیم ندارند. در چنین مواقعی، می‌توان از ویژگی <code>[Bind(Prefix = \"...\")]</code> استفاده کرد تا مشخص شود که مدل بایندینگ باید مقادیر مربوط به آن مدل را با یک پیشوند خاص پیدا کند.</p>\n",
    "<h3>Bind Prefix چگونه کار می‌کند؟</h3>\n",
    "<p>ویژگی <code>[Bind]</code> به شما این امکان را می‌دهد که یک پیشوند مشخص کنید که مدل بایندینگ بر اساس آن، مقادیر ورودی را به مدل نگاشت کند. این پیشوند نشان می‌دهد که مدل بایندینگ باید به دنبال مقادیری باشد که با نام مشخص‌شده شروع می‌شوند و آنها را به مدل مرتبط کند.</p>\n",
    "</div>"
   ]
  },
  {
   "cell_type": "code",
   "execution_count": null,
   "metadata": {
    "dotnet_interactive": {
     "language": "html"
    },
    "polyglot_notebook": {
     "kernelName": "html"
    },
    "vscode": {
     "languageId": "polyglot-notebook"
    }
   },
   "outputs": [],
   "source": [
    "<input type=\"text\" name=\"ProductInfo.Id\" />\n",
    "<input type=\"text\" name=\"ProductInfo.Name\" />"
   ]
  },
  {
   "cell_type": "code",
   "execution_count": null,
   "metadata": {
    "dotnet_interactive": {
     "language": "csharp"
    },
    "polyglot_notebook": {
     "kernelName": "csharp"
    },
    "vscode": {
     "languageId": "polyglot-notebook"
    }
   },
   "outputs": [],
   "source": [
    "public IActionResult Create([Bind(Prefix = \"ProductInfo\")] Product product)\n",
    "{\n",
    "    // پردازش محصول\n",
    "}"
   ]
  },
  {
   "cell_type": "markdown",
   "metadata": {},
   "source": [
    "<div dir=\"rtl\" style=\"margin:auto; width:90%; font-family:vazirmatn\">\n",
    "<h3>مفهوم Include در Bind</h3>\n",
    "<p>ویژگی <code>[Bind(Include = \"Property1, Property2, ...\")]</code> به شما این امکان را می‌دهد که به صورت صریح مشخص کنید فقط برخی از خواص یک مدل باید از ورودی‌ها مقداردهی شوند. این رویکرد می‌تواند برای افزایش امنیت، جلوگیری از over-posting (پست کردن مقادیر ناخواسته یا حساس) و بهبود عملکرد مورد استفاده قرار گیرد.</p>\n",
    "</div>"
   ]
  },
  {
   "cell_type": "code",
   "execution_count": null,
   "metadata": {
    "dotnet_interactive": {
     "language": "csharp"
    },
    "polyglot_notebook": {
     "kernelName": "csharp"
    },
    "vscode": {
     "languageId": "polyglot-notebook"
    }
   },
   "outputs": [],
   "source": [
    "public class Product\n",
    "{\n",
    "    public int Id { get; set; }\n",
    "    public string Name { get; set; }\n",
    "    public int Price {get; set;}\n",
    "    public Category Category { get; set; }\n",
    "}\n",
    "public class Category\n",
    "{\n",
    "    public int Id { get; set; }\n",
    "    public string Name { get; set; }\n",
    "}"
   ]
  },
  {
   "cell_type": "code",
   "execution_count": null,
   "metadata": {
    "dotnet_interactive": {
     "language": "csharp"
    },
    "polyglot_notebook": {
     "kernelName": "csharp"
    },
    "vscode": {
     "languageId": "polyglot-notebook"
    }
   },
   "outputs": [],
   "source": [
    "[HttpPost]\n",
    "public IActionResult Save([Bind(\"Name, Price\")] Product product)\n",
    "{\n",
    "    return View(\"Result\", product);\n",
    "}"
   ]
  },
  {
   "cell_type": "markdown",
   "metadata": {},
   "source": [
    "### BindNever"
   ]
  },
  {
   "cell_type": "markdown",
   "metadata": {},
   "source": [
    "<div dir=\"rtl\" style=\"margin:auto; width:90%; font-family:vazirmatn\">\n",
    "<p>در ASP.NET Core، ویژگی <code>[BindNever]</code> یکی از Attributeهای مربوط به مدل بایندینگ است که می‌توانید برای جلوگیری از بایند شدن (Binding) خواص خاصی از مدل استفاده کنید. این ویژگی به صراحت مشخص می‌کند که یک خاصیت نباید در فرآیند مدل بایندینگ مقداردهی شود، حتی اگر داده‌ای برای آن خاصیت در درخواست ورودی وجود داشته باشد.</p>\n",
    "\n",
    "</div>"
   ]
  },
  {
   "cell_type": "code",
   "execution_count": null,
   "metadata": {
    "dotnet_interactive": {
     "language": "csharp"
    },
    "polyglot_notebook": {
     "kernelName": "csharp"
    },
    "vscode": {
     "languageId": "polyglot-notebook"
    }
   },
   "outputs": [],
   "source": [
    "public class Product\n",
    "{\n",
    "    [BindNever]\n",
    "    public int Id { get; set; }  // نباید از ورودی مقداردهی شود\n",
    "    public string Name { get; set; }\n",
    "    public decimal Price { get; set; }\n",
    "}"
   ]
  }
 ],
 "metadata": {
  "kernelspec": {
   "display_name": ".NET (C#)",
   "language": "C#",
   "name": ".net-csharp"
  },
  "language_info": {
   "name": "python"
  },
  "polyglot_notebook": {
   "kernelInfo": {
    "defaultKernelName": "csharp",
    "items": [
     {
      "aliases": [],
      "name": "csharp"
     }
    ]
   }
  }
 },
 "nbformat": 4,
 "nbformat_minor": 2
}
