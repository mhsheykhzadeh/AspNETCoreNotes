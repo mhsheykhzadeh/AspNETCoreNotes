{
 "cells": [
  {
   "cell_type": "markdown",
   "metadata": {},
   "source": [
    "<div dir=\"rtl\" style=\"margin:auto; width:90%; font-family:vazirmatn\">\n",
    "<p>در ASP.NET Core، متدی به نام <code>TryUpdateModelAsync</code> وجود دارد که به شما این امکان را می‌دهد تا مدل خود را به صورت دستی از داده‌های دریافتی از منابع مختلف (مانند فرم‌ها، query string، route data و غیره) به‌روزرسانی کنید. این متد به‌طور معمول در سناریوهایی استفاده می‌شود که نیاز به به‌روزرسانی مدل در اکشن‌های کنترلر دارید ولی به صورت خودکار مدل بایندینگ انجام نمی‌شود، یا شما نیاز دارید تا کنترل بیشتری روی فرایند بایندینگ داشته باشید.</p>\n",
    "<h3>کاربردهای <code>TryUpdateModelAsync</code></h3>\n",
    "<ol><li><strong>آپدیت دستی مدل</strong>: این متد به شما این امکان را می‌دهد که به جای استفاده از بایندینگ خودکار در پارامترهای اکشن، مدل خود را به صورت دستی آپدیت کنید.</li><li><strong>کنترل بیشتر بر روی بایندینگ</strong>: در مواقعی که بخواهید کنترل بیشتری روی فیلدهای بایند شده داشته باشید، یا بخواهید فیلتر خاصی بر روی داده‌ها اعمال کنید، می‌توانید از این متد استفاده کنید.</li><li><strong>خطاهای اعتبارسنجی</strong>: مانند مدل بایندینگ معمولی، اگر بایندینگ با خطا مواجه شود (مثلاً تبدیل نوع نادرست باشد یا اعتبارسنجی‌ها موفق نشوند)، این خطاها در <code>ModelState</code> قرار می‌گیرند.</li></ol>\n",
    "<h3>ساختار <code>TryUpdateModelAsync</code></h3>\n",
    "</div>"
   ]
  },
  {
   "cell_type": "code",
   "execution_count": null,
   "metadata": {
    "dotnet_interactive": {
     "language": "csharp"
    },
    "polyglot_notebook": {
     "kernelName": "csharp"
    },
    "vscode": {
     "languageId": "polyglot-notebook"
    }
   },
   "outputs": [],
   "source": [
    "public Task<bool> TryUpdateModelAsync<TModel>(\n",
    "    TModel model, \n",
    "    string prefix = null, \n",
    "    params Expression<Func<TModel, object>>[] includeExpressions\n",
    ")"
   ]
  },
  {
   "cell_type": "markdown",
   "metadata": {},
   "source": [
    "<div dir=\"rtl\" style=\"margin:auto; width:90%; font-family:vazirmatn\">\n",
    "<h4>پارامترها:</h4>\n",
    "<ol><li><strong><code>TModel model</code></strong>: مدل مورد نظر برای به‌روزرسانی.</li><li><strong><code>prefix</code></strong>: پیش‌وندی که برای جستجوی فیلدها در داده‌های ورودی استفاده می‌شود. اگر این مقدار <code>null</code> باشد، فریم‌ورک تلاش می‌کند تا بدون استفاده از پیش‌وند، داده‌ها را برای مدل بایند کند.</li><li><strong><code>includeExpressions</code></strong>: یک یا چند عبارت لامبدا که فیلدهایی که باید بایند شوند را مشخص می‌کند.</li></ol>\n",
    "</div>"
   ]
  },
  {
   "cell_type": "code",
   "execution_count": null,
   "metadata": {
    "dotnet_interactive": {
     "language": "csharp"
    },
    "polyglot_notebook": {
     "kernelName": "csharp"
    },
    "vscode": {
     "languageId": "polyglot-notebook"
    }
   },
   "outputs": [],
   "source": [
    "public async Task<IActionResult> EditProduct(int id)\n",
    "{\n",
    "    // یافتن محصول در پایگاه داده\n",
    "    var product = await _context.Products.FindAsync(id);\n",
    "\n",
    "    // تلاش برای آپدیت کردن مدل با داده‌های فرم\n",
    "    if (await TryUpdateModelAsync(product))\n",
    "    {\n",
    "        if (ModelState.IsValid)\n",
    "        {\n",
    "            await _context.SaveChangesAsync();\n",
    "            return RedirectToAction(\"Index\");\n",
    "        }\n",
    "    }\n",
    "\n",
    "    // اگر مدل بایندینگ ناموفق بود یا خطا داشت، فرم دوباره نمایش داده می‌شود\n",
    "    return View(product);\n",
    "}\n"
   ]
  },
  {
   "cell_type": "code",
   "execution_count": null,
   "metadata": {
    "dotnet_interactive": {
     "language": "csharp"
    },
    "polyglot_notebook": {
     "kernelName": "csharp"
    },
    "vscode": {
     "languageId": "polyglot-notebook"
    }
   },
   "outputs": [],
   "source": [
    "// use perfix\n",
    "public async Task<IActionResult> EditProduct(int id)\n",
    "{\n",
    "    var product = await _context.Products.FindAsync(id);\n",
    "\n",
    "    // استفاده از \"Product\" به عنوان پیش‌وند\n",
    "    if (await TryUpdateModelAsync(product, \"Product\"))\n",
    "    {\n",
    "        if (ModelState.IsValid)\n",
    "        {\n",
    "            await _context.SaveChangesAsync();\n",
    "            return RedirectToAction(\"Index\");\n",
    "        }\n",
    "    }\n",
    "\n",
    "    return View(product);\n",
    "}\n"
   ]
  },
  {
   "cell_type": "code",
   "execution_count": null,
   "metadata": {
    "dotnet_interactive": {
     "language": "csharp"
    },
    "polyglot_notebook": {
     "kernelName": "csharp"
    },
    "vscode": {
     "languageId": "polyglot-notebook"
    }
   },
   "outputs": [],
   "source": [
    "// use includeExpressions\n",
    "\n",
    "public async Task<IActionResult> EditProduct(int id)\n",
    "{\n",
    "    var product = await _context.Products.FindAsync(id);\n",
    "\n",
    "    // فقط خواص Name و Price بایند می‌شوند\n",
    "    if (await TryUpdateModelAsync(product, \"\", p => p.Name, p => p.Price))\n",
    "    {\n",
    "        if (ModelState.IsValid)\n",
    "        {\n",
    "            await _context.SaveChangesAsync();\n",
    "            return RedirectToAction(\"Index\");\n",
    "        }\n",
    "    }\n",
    "\n",
    "    return View(product);\n",
    "}\n"
   ]
  }
 ],
 "metadata": {
  "kernelspec": {
   "display_name": ".NET (C#)",
   "language": "C#",
   "name": ".net-csharp"
  },
  "language_info": {
   "name": "python"
  },
  "polyglot_notebook": {
   "kernelInfo": {
    "defaultKernelName": "csharp",
    "items": [
     {
      "aliases": [],
      "name": "csharp"
     }
    ]
   }
  }
 },
 "nbformat": 4,
 "nbformat_minor": 2
}
