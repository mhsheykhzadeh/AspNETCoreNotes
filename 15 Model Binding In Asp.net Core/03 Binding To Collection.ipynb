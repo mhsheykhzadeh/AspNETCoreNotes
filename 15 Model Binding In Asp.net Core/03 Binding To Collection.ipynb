{
 "cells": [
  {
   "cell_type": "markdown",
   "metadata": {},
   "source": [
    "<div dir=\"rtl\" style=\"margin:auto; width:90%; font-family:vazirmatn\">\n",
    "<p>در ASP.NET Core، مدل بایندینگ به شما اجازه می‌دهد تا مقادیر ورودی را نه تنها به اشیاء ساده یا پیچیده، بلکه به مجموعه‌ها (Collections) نیز نگاشت کنید. این قابلیت به شما این امکان را می‌دهد که مقادیری از نوع آرایه، لیست و سایر مجموعه‌های قابل تکرار را از داده‌های ورودی (مانند فرم‌ها، Query string، یا body درخواست‌ها) دریافت و به مدل‌ها نگاشت کنید.</p>\n",
    "\n",
    "<h3>انواع مختلف مجموعه‌ها در Model Binding:</h3>\n",
    "<ol><li><strong>آرایه‌ها (<code>Array</code>)</strong></li><li><strong>لیست‌ها (<code>List&lt;T&gt;</code>)</strong></li><li><strong>مجموعه‌ها (<code>IEnumerable&lt;T&gt;</code>, <code>ICollection&lt;T&gt;</code>, <code>IList&lt;T&gt;</code>)</strong></li></ol>\n",
    "\n",
    "</div>"
   ]
  },
  {
   "cell_type": "markdown",
   "metadata": {},
   "source": [
    "### Binding to Arrays"
   ]
  },
  {
   "cell_type": "code",
   "execution_count": null,
   "metadata": {
    "dotnet_interactive": {
     "language": "csharp"
    },
    "polyglot_notebook": {
     "kernelName": "csharp"
    },
    "vscode": {
     "languageId": "polyglot-notebook"
    }
   },
   "outputs": [],
   "source": [
    "public class Product\n",
    "{\n",
    "    public string[] Tags { get; set; }\n",
    "}"
   ]
  },
  {
   "cell_type": "code",
   "execution_count": null,
   "metadata": {
    "dotnet_interactive": {
     "language": "html"
    },
    "polyglot_notebook": {
     "kernelName": "html"
    },
    "vscode": {
     "languageId": "polyglot-notebook"
    }
   },
   "outputs": [],
   "source": [
    "<form method=\"post\" action=\"/product/create\">\n",
    "    <input type=\"text\" name=\"Tags[1]\" value=\"Tag1\" />\n",
    "    <input type=\"text\" name=\"Tags[2]\" value=\"Tag2\" />\n",
    "    <input type=\"text\" name=\"Tags[0]\" value=\"Tag3\" />\n",
    "    <button type=\"submit\">Create Product</button>\n",
    "</form>"
   ]
  },
  {
   "cell_type": "code",
   "execution_count": null,
   "metadata": {
    "dotnet_interactive": {
     "language": "csharp"
    },
    "polyglot_notebook": {
     "kernelName": "csharp"
    },
    "vscode": {
     "languageId": "polyglot-notebook"
    }
   },
   "outputs": [],
   "source": [
    "[HttpPost]\n",
    "public IActionResult Create(Product product)\n",
    "{\n",
    "    // محصولی با لیستی از تگ‌ها ایجاد می‌شود\n",
    "    // product.Tags شامل [\"Tag1\", \"Tag2\", \"Tag3\"] خواهد بود\n",
    "    return View(product);\n",
    "}\n"
   ]
  },
  {
   "cell_type": "markdown",
   "metadata": {},
   "source": [
    "### Binding to List<T>"
   ]
  },
  {
   "cell_type": "code",
   "execution_count": null,
   "metadata": {
    "dotnet_interactive": {
     "language": "html"
    },
    "polyglot_notebook": {
     "kernelName": "html"
    },
    "vscode": {
     "languageId": "polyglot-notebook"
    }
   },
   "outputs": [],
   "source": [
    "<form method=\"post\" action=\"/product/create\">\n",
    "    <input type=\"number\" name=\"Prices\" value=\"9.99\" />\n",
    "    <input type=\"number\" name=\"Prices\" value=\"19.99\" />\n",
    "    <input type=\"number\" name=\"Prices\" value=\"29.99\" />\n",
    "    <button type=\"submit\">Create Product</button>\n",
    "</form>"
   ]
  },
  {
   "cell_type": "code",
   "execution_count": null,
   "metadata": {
    "dotnet_interactive": {
     "language": "csharp"
    },
    "polyglot_notebook": {
     "kernelName": "csharp"
    },
    "vscode": {
     "languageId": "polyglot-notebook"
    }
   },
   "outputs": [],
   "source": [
    "public class Product\n",
    "{\n",
    "    public List<decimal> Prices { get; set; }\n",
    "}\n",
    "\n",
    "[HttpPost]\n",
    "public IActionResult Create(Product product)\n",
    "{\n",
    "    // محصولی با لیستی از قیمت‌ها ایجاد می‌شود\n",
    "    // product.Prices شامل [9.99, 19.99, 29.99] خواهد بود\n",
    "    return View(product);\n",
    "}"
   ]
  },
  {
   "cell_type": "markdown",
   "metadata": {},
   "source": [
    "### Binding to Complex Collections"
   ]
  },
  {
   "cell_type": "code",
   "execution_count": null,
   "metadata": {
    "dotnet_interactive": {
     "language": "csharp"
    },
    "polyglot_notebook": {
     "kernelName": "csharp"
    },
    "vscode": {
     "languageId": "polyglot-notebook"
    }
   },
   "outputs": [],
   "source": [
    "public class Product\n",
    "{\n",
    "    public List<Category> Categories { get; set; }\n",
    "}\n",
    "\n",
    "public class Category\n",
    "{\n",
    "    public int Id { get; set; }\n",
    "    public string Name { get; set; }\n",
    "}"
   ]
  },
  {
   "cell_type": "code",
   "execution_count": null,
   "metadata": {
    "dotnet_interactive": {
     "language": "html"
    },
    "polyglot_notebook": {
     "kernelName": "html"
    },
    "vscode": {
     "languageId": "polyglot-notebook"
    }
   },
   "outputs": [],
   "source": [
    "<form method=\"post\" action=\"/product/create\">\n",
    "    <input type=\"hidden\" name=\"Categories[0].Id\" value=\"1\" />\n",
    "    <input type=\"text\" name=\"Categories[0].Name\" value=\"Category1\" />\n",
    "    \n",
    "    <input type=\"hidden\" name=\"Categories[1].Id\" value=\"2\" />\n",
    "    <input type=\"text\" name=\"Categories[1].Name\" value=\"Category2\" />\n",
    "    \n",
    "    <button type=\"submit\">Create Product</button>\n",
    "</form>"
   ]
  },
  {
   "cell_type": "code",
   "execution_count": null,
   "metadata": {
    "dotnet_interactive": {
     "language": "csharp"
    },
    "polyglot_notebook": {
     "kernelName": "csharp"
    },
    "vscode": {
     "languageId": "polyglot-notebook"
    }
   },
   "outputs": [],
   "source": [
    "[HttpPost]\n",
    "public IActionResult Create(Product product)\n",
    "{\n",
    "    // محصولی با لیستی از دسته‌بندی‌ها (Categories) ایجاد می‌شود\n",
    "    // product.Categories شامل دو دسته‌بندی خواهد بود\n",
    "    return View(product);\n",
    "}"
   ]
  },
  {
   "cell_type": "markdown",
   "metadata": {},
   "source": [
    "<div dir=\"rtl\" style=\"margin:auto; width:90%; font-family:vazirmatn\">\n",
    "<h3>نکات کلیدی:</h3>\n",
    "<ol><li><strong>ایندکس‌ها در Binding</strong>: برای مجموعه‌های پیچیده مانند لیست‌های از اشیاء پیچیده، استفاده از ایندکس‌ها در نام فیلدهای ورودی فرم (مانند <code>Categories[0].Name</code>) ضروری است تا مدل بایندینگ بتواند مقادیر را به درستی به هر آیتم نگاشت کند.</li><li><strong>نگاشت به آرایه‌ها و لیست‌ها</strong>: بایندینگ به مجموعه‌ها (چه آرایه‌ها و چه لیست‌ها) به سادگی با استفاده از نام‌های تکراری برای فیلدها (مثل <code>Tags</code> یا <code>Prices</code>) یا با استفاده از ایندکس‌ها برای مجموعه‌های پیچیده انجام می‌شود.\n",
    "در این حالت نیز می توان index ها را مشخص کرد</li></ol>\n",
    "</div>"
   ]
  }
 ],
 "metadata": {
  "kernelspec": {
   "display_name": ".NET (C#)",
   "language": "C#",
   "name": ".net-csharp"
  },
  "language_info": {
   "name": "python"
  },
  "polyglot_notebook": {
   "kernelInfo": {
    "defaultKernelName": "csharp",
    "items": [
     {
      "aliases": [],
      "name": "csharp"
     }
    ]
   }
  }
 },
 "nbformat": 4,
 "nbformat_minor": 2
}
