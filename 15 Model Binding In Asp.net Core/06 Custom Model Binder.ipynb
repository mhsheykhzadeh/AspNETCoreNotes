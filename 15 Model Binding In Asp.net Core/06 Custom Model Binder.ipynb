{
 "cells": [
  {
   "cell_type": "markdown",
   "metadata": {},
   "source": [
    "<div dir=\"rtl\" style=\"margin:auto; width:90%; font-family:vazirmatn\">\n",
    "<h3>Model Binder اختصاصی</h3>\n",
    "<ol><li><strong>تبدیل داده‌های پیچیده یا سفارشی</strong>: برای تبدیل داده‌هایی که ساختار خاصی دارند یا از استانداردهای مرسوم (مانند JSON یا فرم‌داده‌ها) پیروی نمی‌کنند.</li><li><strong>اعتبارسنجی داده‌ها</strong>: در صورتی که نیاز به اعتبارسنجی خاصی بر روی داده‌های ورودی داریم و این اعتبارسنجی باید قبل از ایجاد مدل انجام شود.</li><li><strong>پشتیبانی از فرمت‌های داده سفارشی</strong>: مانند فرمت‌های تاریخ و زمان خاص، داده‌های باینری پیچیده یا حتی ترکیب‌های خاص داده‌ها.</li></ol>\n",
    "</div>"
   ]
  },
  {
   "cell_type": "code",
   "execution_count": null,
   "metadata": {
    "dotnet_interactive": {
     "language": "csharp"
    },
    "polyglot_notebook": {
     "kernelName": "csharp"
    },
    "vscode": {
     "languageId": "polyglot-notebook"
    }
   },
   "outputs": [],
   "source": [
    "public class CustomDateModelBinder : IModelBinder\n",
    "{\n",
    "    public Task BindModelAsync(ModelBindingContext bindingContext)\n",
    "    {\n",
    "        var value = bindingContext.ValueProvider.GetValue(bindingContext.FieldName).FirstValue;\n",
    "\n",
    "        if (string.IsNullOrEmpty(value))\n",
    "        {\n",
    "            bindingContext.Result = ModelBindingResult.Failed();\n",
    "            return Task.CompletedTask;\n",
    "        }\n",
    "\n",
    "        // Trying to parse date in \"yyyyMMdd\" format\n",
    "        if (DateTime.TryParseExact(value, \"yyyyMMdd\", null, System.Globalization.DateTimeStyles.None, out var date))\n",
    "        {\n",
    "            bindingContext.Result = ModelBindingResult.Success(date);\n",
    "        }\n",
    "        else\n",
    "        {\n",
    "            bindingContext.ModelState.AddModelError(bindingContext.FieldName, \"Invalid date format. Use 'yyyyMMdd'\");\n",
    "            bindingContext.Result = ModelBindingResult.Failed();\n",
    "        }\n",
    "\n",
    "        return Task.CompletedTask;\n",
    "    }\n",
    "}\n",
    "\n",
    "public class MyModel\n",
    "{\n",
    "    [ModelBinder(BinderType = typeof(CustomDateModelBinder))]\n",
    "    public DateTime CustomDate { get; set; }\n",
    "}"
   ]
  },
  {
   "cell_type": "code",
   "execution_count": null,
   "metadata": {
    "dotnet_interactive": {
     "language": "csharp"
    },
    "polyglot_notebook": {
     "kernelName": "csharp"
    },
    "vscode": {
     "languageId": "polyglot-notebook"
    }
   },
   "outputs": [],
   "source": [
    "public class CustomModelBinder : IModelBinder\n",
    "{\n",
    "    public Task BindModelAsync(ModelBindingContext bindingContext)\n",
    "    {\n",
    "        var customDateValue = bindingContext.ValueProvider.GetValue(\"customDate\").FirstValue;\n",
    "        var customIntValue = bindingContext.ValueProvider.GetValue(\"customInt\").FirstValue;\n",
    "\n",
    "        if (DateTime.TryParseExact(customDateValue, \"yyyyMMdd\", null, System.Globalization.DateTimeStyles.None, out var date) &&\n",
    "            int.TryParse(customIntValue, out var customInt))\n",
    "        {\n",
    "            var model = new MyModel\n",
    "            {\n",
    "                CustomDate = date,\n",
    "                CustomInt = customInt\n",
    "            };\n",
    "\n",
    "            bindingContext.Result = ModelBindingResult.Success(model);\n",
    "        }\n",
    "        else\n",
    "        {\n",
    "            bindingContext.ModelState.AddModelError(bindingContext.ModelName, \"Invalid input format.\");\n",
    "            bindingContext.Result = ModelBindingResult.Failed();\n",
    "        }\n",
    "\n",
    "        return Task.CompletedTask;\n",
    "    }\n",
    "}\n",
    "\n",
    "[ModelBinder(BinderType = typeof(CustomModelBinder))]\n",
    "public class MyModel\n",
    "{\n",
    "    public DateTime CustomDate { get; set; }\n",
    "    public int CustomInt { get; set; }\n",
    "}"
   ]
  },
  {
   "cell_type": "markdown",
   "metadata": {},
   "source": [
    "<div dir=\"rtl\" style=\"margin:auto; width:90%; font-family:vazirmatn\">\n",
    "<h3>ModelBinderProvider چیست؟</h3>\n",
    "<p><strong>ModelBinderProvider</strong> در واقع یک کلاس است که تصمیم می‌گیرد چه <strong>Model Binder</strong>‌ای برای هر مدل استفاده شود. ASP.NET Core به طور پیش‌فرض چندین <strong>ModelBinderProvider</strong> دارد که مدل بایندرهای مناسب را برای مدل‌های ساده، مجموعه‌ها و ... تعیین می‌کنند. اما با تعریف یک <strong>ModelBinderProvider</strong> اختصاصی، می‌توانیم شرایط خاصی را ایجاد کنیم تا در صورت برخورد با مدل‌ها یا propertyهای خاص، <strong>Custom Model Binder</strong> ما به صورت خودکار اعمال شود.</p>\n",
    "</div>"
   ]
  },
  {
   "cell_type": "code",
   "execution_count": null,
   "metadata": {
    "dotnet_interactive": {
     "language": "csharp"
    },
    "polyglot_notebook": {
     "kernelName": "csharp"
    },
    "vscode": {
     "languageId": "polyglot-notebook"
    }
   },
   "outputs": [],
   "source": [
    "\n",
    "public class CustomModelBinderProvider : IModelBinderProvider\n",
    "{\n",
    "    public IModelBinder GetBinder(ModelBinderProviderContext context)\n",
    "    {\n",
    "        // بررسی اینکه آیا مدل از نوع MyModel است\n",
    "        if (context.Metadata.ModelType == typeof(MyModel))\n",
    "        {\n",
    "            return new BinderTypeModelBinder(typeof(CustomModelBinder));\n",
    "        }\n",
    "\n",
    "        // اگر مدل از نوع MyModel نباشد، به ASP.NET اجازه می‌دهیم بایندر پیش‌فرض را اعمال کند\n",
    "        return null;\n",
    "    }\n",
    "}\n",
    "\n",
    "\n",
    "//program.cs\n",
    "\n",
    "services.AddControllerWithViews(options =>\n",
    "{\n",
    "    // افزودن CustomModelBinderProvider به ابتدای لیست ModelBinderProviders\n",
    "    options.ModelBinderProviders.Insert(0, new CustomModelBinderProvider());\n",
    "});\n",
    "   "
   ]
  },
  {
   "cell_type": "markdown",
   "metadata": {},
   "source": [
    "<div dir=\"rtl\" style=\"margin:auto; width:90%; font-family:vazirmatn\">\n",
    "<h3>نحوه استفاده</h3>\n",
    "<p>حالا، زمانی که <code>MyModel</code> در اکشن کنترلر به عنوان ورودی مدل استفاده شود، نیازی نیست که <code>[ModelBinder]</code> به صورت دستی روی آن قرار بگیرد. <strong>CustomModelBinderProvider</strong> به طور خودکار <strong>CustomModelBinder</strong> را برای <code>MyModel</code> انتخاب و اجرا می‌کند.</p>\n",
    "\n",
    "\n",
    "<b>یک نمونه خوب از استفاده</b> زمانی که شما میخواهید شناسه یک Object را به سمت کاربر ارسال کنید آن را کد گذاری کنید\n",
    "\n",
    "</div>"
   ]
  }
 ],
 "metadata": {
  "kernelspec": {
   "display_name": ".NET (C#)",
   "language": "C#",
   "name": ".net-csharp"
  },
  "language_info": {
   "name": "python"
  },
  "polyglot_notebook": {
   "kernelInfo": {
    "defaultKernelName": "csharp",
    "items": [
     {
      "aliases": [],
      "name": "csharp"
     }
    ]
   }
  }
 },
 "nbformat": 4,
 "nbformat_minor": 2
}
