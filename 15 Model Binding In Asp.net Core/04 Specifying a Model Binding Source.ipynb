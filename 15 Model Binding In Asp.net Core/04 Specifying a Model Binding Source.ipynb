{
 "cells": [
  {
   "cell_type": "markdown",
   "metadata": {},
   "source": [
    "<div dir=\"rtl\" style=\"margin:auto; width:90%; font-family:vazirmatn\">\n",
    "<p>در ASP.NET Core، وقتی مدل بایندینگ انجام می‌شود، فریم‌ورک به طور پیش‌فرض از منابع مختلف (مانند query string، فرم‌ها، body درخواست و غیره) برای یافتن داده‌ها استفاده می‌کند. با این حال، گاهی اوقات ممکن است بخواهید به فریم‌ورک به صراحت بگویید که از کدام منبع خاص داده‌ها را برای یک پارامتر یا خاصیت استخراج کند. این کار را می‌توان با استفاده از Attributeهای مربوط به <strong>Model Binding Source</strong> انجام داد.</p>\n",
    "<h3>منابع اصلی برای مدل بایندینگ</h3>\n",
    "<ol><li><strong>Query string</strong>: پارامترهایی که در آدرس URL بعد از علامت <code>?</code> می‌آیند.</li><li><strong>Route data</strong>: داده‌هایی که در مسیر URL مشخص می‌شوند.</li><li><strong>Form data</strong>: داده‌هایی که از فرم‌های HTML ارسال می‌شوند.</li><li><strong>Request body</strong>: داده‌هایی که در بدنه‌ی درخواست (به ویژه در APIها) ارسال می‌شوند.</li><li><strong>Header data</strong>: داده‌هایی که در هدر درخواست ارسال می‌شوند.</li></ol>\n",
    "<h3>Attributeهای Model Binding Source</h3>\n",
    "<ol><li><strong>[FromQuery]</strong>: برای دریافت داده از query string استفاده می‌شود.</li><li><strong>[FromRoute]</strong>: برای دریافت داده از route data استفاده می‌شود.</li><li><strong>[FromForm]</strong>: برای دریافت داده از فرم‌های HTML استفاده می‌شود.</li><li><strong>[FromBody]</strong>: برای دریافت داده از بدنه درخواست استفاده می‌شود.</li><li><strong>[FromHeader]</strong>: برای دریافت داده از هدر درخواست استفاده می‌شود.</li><li><strong>[FromServices]</strong>: برای دریافت وابستگی‌های تزریق شده (dependency injection) استفاده می‌شود.</li></ol>\n",
    "</div>"
   ]
  },
  {
   "cell_type": "code",
   "execution_count": null,
   "metadata": {
    "dotnet_interactive": {
     "language": "csharp"
    },
    "polyglot_notebook": {
     "kernelName": "csharp"
    },
    "vscode": {
     "languageId": "polyglot-notebook"
    }
   },
   "outputs": [],
   "source": [
    "[HttpPost(\"products/{id}\")]\n",
    "public IActionResult UpdateProduct(\n",
    "    [FromRoute] int id, \n",
    "    [FromBody] Product product, \n",
    "    [FromHeader(Name = \"X-Auth-Token\")] string authToken)\n",
    "{\n",
    "    // id از route، product از body، و authToken از header گرفته می‌شود\n",
    "    return Ok();\n",
    "}\n"
   ]
  }
 ],
 "metadata": {
  "kernelspec": {
   "display_name": ".NET (C#)",
   "language": "C#",
   "name": ".net-csharp"
  },
  "language_info": {
   "name": "python"
  },
  "polyglot_notebook": {
   "kernelInfo": {
    "defaultKernelName": "csharp",
    "items": [
     {
      "aliases": [],
      "name": "csharp"
     }
    ]
   }
  }
 },
 "nbformat": 4,
 "nbformat_minor": 2
}
