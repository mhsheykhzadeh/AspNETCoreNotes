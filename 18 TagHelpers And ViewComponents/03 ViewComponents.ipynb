{
 "cells": [
  {
   "cell_type": "markdown",
   "metadata": {
    "dotnet_interactive": {
     "language": "csharp"
    },
    "polyglot_notebook": {
     "kernelName": "csharp"
    }
   },
   "source": [
    "<div dir=\"rtl\" style=\"margin:auto; width:90%; font-family:vazirmatn\">\n",
    "<p><code>View Component</code> یکی از قابلیت‌های قدرتمند در <code>ASP.NET Core</code> است که برای جداسازی منطق ارائه (Presentation Logic) و بازاستفاده‌ی آن در پروژه استفاده می‌شود. <code>View Component</code> شباهت زیادی به Partial View دارد، اما با ویژگی‌های بیشتر و قابلیت‌های پیشرفته‌تر.</p>\n",
    "\n",
    "<h3><code>View Component</code> چیست؟</h3>\n",
    "<p><strong>View Component</strong> به شما اجازه می‌دهد بخشی از رابط کاربری را به همراه منطق مرتبط با آن، در یک کامپوننت مستقل سازماندهی کنید. این قابلیت برای سناریوهایی که نیاز به نمایش داده‌های پویا یا قابل تغییر در بخشی از صفحه دارید، بسیار مفید است.</p>\n",
    "\n",
    "<h3><strong>ویژگی‌های کلیدی View Component</strong></h3>\n",
    "<ol><li><strong>جداسازی منطق و UI</strong>:<ul><li>برخلاف Partial Views، <strong>View Component</strong> دارای منطق مخصوص به خود است و می‌تواند داده‌ها را پردازش کرده و آماده‌سازی کند.</li></ul></li><li><strong>باز استفاده</strong>:<ul><li>می‌توانید از یک <strong>View Component</strong> در بخش‌های مختلف پروژه به راحتی استفاده کنید.</li></ul></li><li><strong>استقلال</strong>:<ul><li>هر View Component کاملاً مستقل است و نیازی به وابستگی به کنترلر ندارد.</li></ul></li><li><strong>امکان استفاده از Dependency Injection</strong>:<ul><li>می‌توانید سرویس‌ها یا داده‌های مورد نیاز را از طریق DI در داخل View Component تزریق کنید.</li></ul></li></ol>\n",
    "\n",
    "<h3><strong>ساختار یک View Component</strong></h3>\n",
    "<ol><li><strong>کلاس C# برای منطق پردازش</strong></li><li><strong>نمای Razor برای نمایش خروجی</strong></li></ol>\n",
    "\n",
    "<h3>روشهای ایجاد</h3>\n",
    "<h4>1. پایان نام کلاس با <code>ViewComponent</code> (poco view component)</h4>\n",
    "<h4>2. ارث بری کردن از کلاس <code>ViewComponent</code></h4>\n",
    "<ul>\n",
    "<li>فراهم کردن دسترسی به <code>ContextData</code></li>\n",
    "<li>قانون نامگذاری اهمیتی ندارد</li>\n",
    "</ul>\n",
    "\n",
    "<h3>انواع بازگشتی از ViewComponent</h3>\n",
    "<p>خروجی یک ViewComponet می تواند از نوع <code>IViewComponentResult</code> باشد که سه پیاده سازی دارد.</p>\n",
    "<ul>\n",
    "<li><code>ViewViewComponentResult</code>: خروجی آن یک فایل <code>.cshtml</code> است </li>\n",
    "<li><code>ContentViewComponentResult</code>: قابلیت این را داریم که یک متن برگردانیم که قابلیت کد گذاری دارد .</li>\n",
    "<li><code>HtmlViewComponentResult</code>: کدهای Html بر میگرداند</li>\n",
    "</ul>\n",
    "</div>"
   ]
  },
  {
   "cell_type": "markdown",
   "metadata": {},
   "source": [
    "<div dir=\"rtl\" style=\"margin:auto; width:90%; font-family:vazirmatn\">\n",
    "<p><code>ViewComponentContext</code> در <strong>ASP.NET Core</strong> یک آبجکت است که هنگام اجرای یک View Component توسط فریمورک فراهم می‌شود و اطلاعات مفیدی درباره اجرای جاری View Component در اختیار شما قرار می‌دهد. این آبجکت به صورت خودکار توسط فریمورک مقداردهی می‌شود و به شما اجازه می‌دهد اطلاعاتی نظیر HttpContext، ViewData و پارامترهای View Component را بررسی کنید.</p>\n",
    "<h3><strong>اطلاعات موجود در <code>ViewComponentContext</code></strong></h3>\n",
    "<h4>1. <strong><code>ViewContext</code></strong></h4>\n",
    "<ul><li>این ویژگی از نوع <code>ViewContext</code> است و اطلاعات کامل مربوط به درخواست جاری View را ارائه می‌دهد.</li><li>شامل موارد زیر می‌شود:<ul><li><strong>HttpContext</strong>: اطلاعات مربوط به درخواست HTTP.</li><li><strong>RouteData</strong>: اطلاعات مربوط به مسیریابی (Route).</li><li><strong>ViewData</strong>: داده‌های ارسال شده به View.</li><li><strong>ModelState</strong>: وضعیت مدل.</li><li><strong>TempData</strong>: داده‌های موقتی.</li></ul></li></ul>\n",
    "<h4>2. <strong><code>Arguments</code></strong></h4>\n",
    "<ul><li>این ویژگی تمام آرگومان‌هایی که به View Component ارسال شده‌اند را در قالب یک آرایه‌ی <code>object[]</code> ارائه می‌دهد.</li></li></ul>\n",
    "<h4>3. <strong><code>ViewData</code></strong></h4>\n",
    "<ul><li>این ویژگی از نوع <code>ViewDataDictionary</code> است و داده‌های مربوط به View را در اختیار شما قرار می‌دهد.</li><li>داده‌هایی که از کنترلر یا View اصلی به View Component ارسال شده‌اند نیز از این طریق قابل دسترسی هستند.</li></ul>\n",
    "<h4>4. <strong><code>ViewComponentDescriptor</code></strong></h4>\n",
    "<ul><li>این ویژگی شامل متادیتا و اطلاعاتی درباره View Component جاری است:<ul><li><strong>DisplayName</strong>: نام نمایش داده شده View Component.</li><li><strong>TypeInfo</strong>: اطلاعات مربوط به نوع View Component.</li></ul></li></ul>\n",
    "</div>"
   ]
  },
  {
   "cell_type": "markdown",
   "metadata": {},
   "source": [
    "### Passing Data From View"
   ]
  }
 ],
 "metadata": {
  "kernelspec": {
   "display_name": ".NET (C#)",
   "language": "C#",
   "name": ".net-csharp"
  },
  "language_info": {
   "name": "python"
  },
  "polyglot_notebook": {
   "kernelInfo": {
    "defaultKernelName": "csharp",
    "items": [
     {
      "aliases": [],
      "name": "csharp"
     }
    ]
   }
  }
 },
 "nbformat": 4,
 "nbformat_minor": 2
}
