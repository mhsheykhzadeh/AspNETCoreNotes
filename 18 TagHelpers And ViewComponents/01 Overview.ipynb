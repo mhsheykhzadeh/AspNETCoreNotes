{
 "cells": [
  {
   "cell_type": "markdown",
   "metadata": {},
   "source": [
    "<div dir=\"rtl\" style=\"margin:auto; width:90%; font-family:vazirmatn\">\n",
    "<p><strong>TagHelper</strong> در ASP.NET Core یک ویژگی است که امکان اضافه کردن رفتار و قابلیت‌های پیشرفته به عناصر HTML را فراهم می‌کند. این قابلیت به توسعه‌دهندگان کمک می‌کند تا تجربه‌ای یکپارچه بین کد HTML و منطق سرور داشته باشند.</p>\n",
    "\n",
    "<hr>\n",
    "<h3>اهداف و مزایای TagHelper:</h3>\n",
    "<ol><li><p><strong>توسعه قابل‌فهم‌تر و تمیزتر:</strong></p><ul><li>با استفاده از TagHelper، می‌توانید منطق سرور را به صورت مستقیم در کد HTML ادغام کنید، بدون اینکه نیازی به نوشتن کدهای پیچیده در View باشد.</li></ul></li><li><p><strong>کاهش وابستگی به کدهای JavaScript و Razor:</strong></p><ul><li>بسیاری از سناریوها که نیاز به ترکیب کدهای JavaScript و Razor داشتند، می‌توانند با TagHelper مدیریت شوند.</li></ul></li><li><p><strong>افزایش خوانایی و نگهداری آسان‌تر:</strong></p><ul><li>با جدا کردن منطق TagHelper از View، مدیریت کد ساده‌تر می‌شود.</li></ul></li><li><p><strong>توسعه‌ی مجدد‌پذیر:</strong></p><ul><li>TagHelperها می‌توانند به صورت ماژولار طراحی شوند و در بخش‌های مختلف پروژه استفاده شوند.</li></ul></li></ol>\n",
    "\n",
    "<hr>\n",
    "<h3>نحوه عملکرد:</h3>\n",
    "<p>TagHelperها به صورت یک کلاس C# تعریف می‌شوند که از کلاس <code>TagHelper</code> به ارث می‌برند و رفتار خاصی را برای یک یا چند تگ HTML مشخص می‌کنند.</p>\n",
    "\n",
    "<ol><li><p><strong>دسترسی به عناصر HTML:</strong></p><ul><li>TagHelperها می‌توانند بر اساس ویژگی‌های خاص (Attributes) یک تگ HTML، رفتار آن را تغییر دهند یا داده‌های خاصی را اضافه/تغییر دهند.</li></ul></li><li><p><strong>پردازش در سمت سرور:</strong></p><ul><li>هنگامی که صفحه Razor پردازش می‌شود، TagHelper منطق خود را اجرا کرده و نتیجه را به HTML خام تبدیل می‌کند.</li></ul></li><li><p><strong>استفاده در Razor View:</strong></p><ul><li>TagHelperها از طریق نامشان به صورت مستقیم در فایل‌های Razor استفاده می‌شوند، و شبیه به تگ‌های HTML به نظر می‌رسند.</li></ul></li></ol>\n",
    "</div>"
   ]
  },
  {
   "cell_type": "markdown",
   "metadata": {},
   "source": [
    "<div dir=\"rtl\" style=\"margin:auto; width:90%; font-family:vazirmatn\">\n",
    "<h3>مراحل ایجاد اولین <strong>TagHelper</strong> در ASP.NET Core</h3>\n",
    "\n",
    "<h3>1. <strong>ایجاد یک کلاس برای TagHelper</strong></h3>\n",
    "\n",
    "<p>TagHelper در ASP.NET Core به صورت یک کلاس تعریف می‌شود. این کلاس باید از کلاس پایه <code>TagHelper</code> که در فضای نام <code>Microsoft.AspNetCore.Razor.TagHelpers</code> قرار دارد، ارث‌بری کند.</p>\n",
    "\n",
    "<p><code>TagHelper</code> می تواند به دو منظور ایجاد شود، </p>\n",
    "<ol>\n",
    "<li><strong>تغییرات در تگهای موجود: </strong>\n",
    "برای اینکار اگر تگ یا تگهایی خاصی مد نظر داریم می توانیم با استفاده از Attribute [HtmlTargetElement] تگهای هدف را محدود کنیم.\n",
    "اما اگر تگ خاصی مد نظر نیست میتوانیم با استفاده از <code>Property</code> های کلاس TagHelper این کار را انجام دهیم\n",
    "</li>\n",
    "<li><strong>ایجاد یک تگ جدید : </strong>\n",
    "\n",
    "در این روش ما نام تگی که میخواهیم ایجاد شود را در اسم کلاس TagHelper می آوریم مثلا: <br>\n",
    "<p><code>my-button</code> -> نام کلاس <code>MyButtonTagHelper</code></p>\n",
    "</li>\n",
    "</ol>\n",
    "</div>"
   ]
  },
  {
   "cell_type": "code",
   "execution_count": null,
   "metadata": {
    "dotnet_interactive": {
     "language": "csharp"
    },
    "polyglot_notebook": {
     "kernelName": "csharp"
    },
    "vscode": {
     "languageId": "polyglot-notebook"
    }
   },
   "outputs": [],
   "source": [
    "using Microsoft.AspNetCore.Razor.TagHelpers;\n",
    "\n",
    "public class MyButtonTagHelper : TagHelper\n",
    "{\n",
    "    // تعریف یک ویژگی سفارشی برای متن دکمه\n",
    "    public string Text { get; set; }\n",
    "\n",
    "    // تعریف یک ویژگی سفارشی برای استایل دکمه\n",
    "    public string CssClass { get; set; } = \"btn btn-primary\";\n",
    "\n",
    "    // متد اصلی برای پردازش تگ\n",
    "    public override void Process(TagHelperContext context, TagHelperOutput output)\n",
    "    {\n",
    "        // تغییر نوع تگ به button\n",
    "        output.TagName = \"button\";\n",
    "\n",
    "        // اضافه کردن کلاس CSS\n",
    "        output.Attributes.SetAttribute(\"class\", CssClass);\n",
    "\n",
    "        // اضافه کردن متن دکمه\n",
    "        output.Content.SetContent(Text);\n",
    "    }\n",
    "}\n"
   ]
  },
  {
   "cell_type": "code",
   "execution_count": null,
   "metadata": {
    "dotnet_interactive": {
     "language": "html"
    },
    "polyglot_notebook": {
     "kernelName": "html"
    },
    "vscode": {
     "languageId": "polyglot-notebook"
    }
   },
   "outputs": [],
   "source": [
    "<my-button text=\"Click Me\" css-class=\"btn btn-success\"></my-button>"
   ]
  },
  {
   "cell_type": "markdown",
   "metadata": {},
   "source": [
    "<div dir=\"rtl\" style=\"margin:auto; width:90%; font-family:vazirmatn\">\n",
    "<h3>2. <strong>پیاده‌سازی منطق پردازش در متد <code>Process</code> یا <code>ProcessAsync</code></strong></h3>\n",
    "<p>در این متد، شما می‌توانید تگ HTML ورودی را پردازش کنید و رفتار دلخواه را اعمال کنید:</p>\n",
    "<ul><li><code>Process</code>: برای پردازش همگام.</li><li><code>ProcessAsync</code>: برای پردازش ناهمگام.</li></ul>\n",
    "<p>این متد ها دو ورودی دارند</p>\n",
    "<h4><code> TagHelperContext</code></h4>\n",
    "<p>این کلاس اطلاعات مرتبط با تگ HTML که توسط TagHelper پردازش می‌شود را در اختیار شما قرار می‌دهد. از آن می‌توانید برای خواندن اطلاعاتی که در زمان اجرای View مربوط به این تگ فراهم شده استفاده کنید.</p>\n",
    "<h5>ویژگی‌ها (Properties):</h5>\n",
    "<ol>\n",
    "<li>\n",
    "<p><strong><code>AllAttributes</code>:</strong></p>\n",
    "<p>شامل تمامی ویژگی‌ها (Attributes) موجود در تگ HTML است.از آن برای دسترسی به مقادیر Attributeهای ورودی استفاده می‌شود.</p>\n",
    "</li>\n",
    "<li>\n",
    "<p><strong><code>Items</code>:</strong></p>\n",
    "<p>یک دیکشنری برای اشتراک‌گذاری داده‌ها بین TagHelperهای مختلف.می‌توانید اطلاعاتی را بین چند TagHelper که روی یک تگ عمل می‌کنند به اشتراک بگذارید.</p>\n",
    "</li>\n",
    "<li>\n",
    "<p><strong><code>TagName</code>:</strong></p>\n",
    "<p>نام تگ HTML را برمی‌گرداند.معمولاً زمانی مفید است که بخواهید رفتار خاصی برای یک نوع تگ اعمال کنید.</p>\n",
    "</li>\n",
    "<li>\n",
    "<p><strong><code>UniqueId</code>:</strong></p>\n",
    "<p>یک شناسه یکتا برای هر تگ که توسط ASP.NET Core تولید می‌شود.\n",
    "می‌توانید از آن برای شناسایی یا ردیابی تگ‌ها استفاده کنید.</p>\n",
    "</li>\n",
    "<li>\n",
    "<p><strong><code>TagMode</code>:</strong></p>\n",
    "<p>مشخص می‌کند که تگ به صورت self-closing (تگ بدون بسته شدن) یا تگ معمولی (با باز و بسته) استفاده می‌شود.</p>\n",
    "</li>\n",
    "</ol>\n",
    "</div>\n",
    "\n",
    "<h4><code> TagHelperOutput</code></h4>\n",
    "<p>این کلاس برای تغییر تگ HTML که توسط TagHelper پردازش می‌شود استفاده می‌شود. شما می‌توانید با این کلاس:</p>\n",
    "<ul><li>نوع تگ HTML (مثلاً تغییر <code>&lt;div&gt;</code> به <code>&lt;button&gt;</code>) را تغییر دهید.</li><li>ویژگی‌های تگ HTML را ویرایش کنید.</li><li>محتوای داخل تگ HTML را تغییر دهید.</li></ul>\n",
    "\n",
    "\n",
    "<h5>ویژگی‌ها (Properties):</h5>\n",
    "<ol>\n",
    "<li>\n",
    "<p><strong><code>TagName</code>:</strong></p>\n",
    "<p>نام تگ HTML که در حال پردازش است. می‌توانید آن را تغییر دهید</p>\n",
    "<code><pre>output.TagName = \"button\"; // تغییر تگ به button\n",
    "</pre></code>\n",
    "\n",
    "</li>\n",
    "\n",
    "<li>\n",
    "<p><strong><code>Attributes</code>:</strong></p>\n",
    "<p>مجموعه‌ای از Attributeهای فعلی تگ HTML.\n",
    "می‌توانید Attribute جدید اضافه کنید، Attributeهای موجود را تغییر دهید یا حذف کنید.</p>\n",
    "<code><pre>output.Attributes.SetAttribute(\"class\", \"btn btn-primary\");\n",
    "output.Attributes.RemoveAll(\"old-attribute\");</pre></code>\n",
    "</li>\n",
    "<li>\n",
    "<p><strong><code>Content</code>:</strong></p>\n",
    "<p>محتوای داخل تگ HTML.\n",
    "می‌توانید محتوای داخل تگ را تغییر دهید یا مقدار جدیدی به آن اختصاص دهید.</p>\n",
    "<code><pre>output.Content.SetContent(\"Hello World!\");\n",
    "</pre></code>\n",
    "</li>\n",
    "<li>\n",
    "<p><strong><code>TagMode</code>:</strong></p>\n",
    "<p>مشخص می‌کند که تگ به چه صورت رندر شود:\n",
    "StartTagAndEndTag: تگ با باز و بسته شدن.\n",
    "SelfClosing: تگ بدون بسته شدن.</p>\n",
    "<code><pre>output.TagMode = TagMode.StartTagAndEndTag;\n",
    "</pre></code>\n",
    "</li>\n",
    "<li>\n",
    "<p><strong><code>PreContent</code> و <code>PostContent</code>:</strong></p>\n",
    "<p>برای افزودن محتوای قبل و بعد از محتوای اصلی تگ استفاده می‌شود.</p>\n",
    "<code><pre>output.PreContent.SetHtmlContent(\"<div>\");\n",
    "output.PostContent.SetHtmlContent(\"</div>\");\n",
    "</pre></code>\n",
    "</li>\n",
    "\n",
    "<li>\n",
    "<p><strong><code>SuppressOutput</code>:</strong></p>\n",
    "<p>زمانی که نمی‌خواهید تگ HTML در خروجی رندر شود.</p>\n",
    "<code><pre>output.SuppressOutput();</pre></code>\n",
    "</li>\n",
    "</ol>\n"
   ]
  },
  {
   "cell_type": "markdown",
   "metadata": {},
   "source": [
    "<div dir=\"rtl\" style=\"margin:auto; width:90%; font-family:vazirmatn\">\n",
    "<h3>4. <strong>ثبت TagHelper در پروژه</strong></h3>\n",
    "<p>TagHelperهای تعریف‌شده باید در فایل <strong>ViewImports</strong> با استفاده از دستور <code>@addTagHelper</code> ثبت شوند تا در View قابل استفاده باشند.</p>\n",
    "</div>"
   ]
  },
  {
   "cell_type": "markdown",
   "metadata": {},
   "source": [
    "### Implement first taghelper"
   ]
  }
 ],
 "metadata": {
  "kernelspec": {
   "display_name": ".NET (C#)",
   "language": "C#",
   "name": ".net-csharp"
  },
  "language_info": {
   "name": "python"
  },
  "polyglot_notebook": {
   "kernelInfo": {
    "defaultKernelName": "csharp",
    "items": [
     {
      "aliases": [],
      "name": "csharp"
     }
    ]
   }
  }
 },
 "nbformat": 4,
 "nbformat_minor": 2
}
