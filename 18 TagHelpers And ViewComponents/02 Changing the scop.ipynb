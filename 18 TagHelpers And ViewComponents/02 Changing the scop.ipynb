{
 "cells": [
  {
   "cell_type": "markdown",
   "metadata": {},
   "source": [
    "<div dir=\"rtl\" style=\"margin:auto; width:90%; font-family:vazirmatn\">\n",
    "\n",
    "<p>در ASP.NET Core، <strong>محدوده‌ی TagHelper</strong> مشخص می‌کند که یک <strong>TagHelper</strong> روی کدام تگ‌های HTML اعمال شود. به طور پیش‌فرض، محدوده‌ی TagHelper به تمام Viewهایی که به صورت مستقیم یا غیرمستقیم فایل <code>_ViewImports.cshtml</code> را وارد می‌کنند، اعمال می‌شود. اما شما می‌توانید این محدوده را تغییر دهید و مشخص کنید که یک TagHelper در کجاها یا برای چه تگ‌هایی قابل استفاده باشد.</p>\n",
    "\n",
    "<p>میتوانیم محدوده یک <code>TagHelper</code> را با استفاده از <code>[HtmlTargetElement]</code> محدود کنیم.</p>\n",
    "\n",
    "</div>"
   ]
  },
  {
   "cell_type": "markdown",
   "metadata": {},
   "source": [
    "### Elements Shorthand"
   ]
  },
  {
   "cell_type": "code",
   "execution_count": null,
   "metadata": {
    "dotnet_interactive": {
     "language": "html"
    },
    "polyglot_notebook": {
     "kernelName": "html"
    },
    "vscode": {
     "languageId": "polyglot-notebook"
    }
   },
   "outputs": [],
   "source": [
    "<alert \n",
    "    header-text=\"My Header Alert\"\n",
    "    text-color=\"warning\">\n",
    "    my alert content\n",
    "</alert>"
   ]
  },
  {
   "cell_type": "markdown",
   "metadata": {},
   "source": [
    "### ViewContext in taghelpers"
   ]
  },
  {
   "cell_type": "markdown",
   "metadata": {},
   "source": [
    "<div dir=\"rtl\" style=\"margin:auto; width:90%; font-family:vazirmatn\">\n",
    "<p>در <strong>TagHelper</strong>های ASP.NET Core، برای دسترسی به <strong>ViewContext</strong> می‌توانید از وابستگی تزریق‌شده (Dependency Injection) استفاده کنید. <strong>ViewContext</strong> اطلاعاتی درباره محیط اجرای View فراهم می‌کند، مانند داده‌های View، مدل، HttpContext، و سایر اطلاعات مربوط به اجرای Razor View.</p>\n",
    "\n",
    "<h3><strong>دسترسی به ViewContext در TagHelper</strong></h3>\n",
    "<p>برای دسترسی به ViewContext، باید یک پراپرتی از نوع <code>ViewContext</code> در کلاس <strong>TagHelper</strong> تعریف کنید و از ویژگی <code>[ViewContext]</code> استفاده کنید. ASP.NET Core به صورت خودکار مقدار آن را هنگام اجرا تزریق می‌کند.</p>\n",
    "\n",
    "</div>"
   ]
  },
  {
   "cell_type": "code",
   "execution_count": null,
   "metadata": {
    "dotnet_interactive": {
     "language": "csharp"
    },
    "polyglot_notebook": {
     "kernelName": "csharp"
    },
    "vscode": {
     "languageId": "polyglot-notebook"
    }
   },
   "outputs": [],
   "source": [
    "using Microsoft.AspNetCore.Mvc.Rendering;\n",
    "using Microsoft.AspNetCore.Mvc.ViewFeatures;\n",
    "using Microsoft.AspNetCore.Razor.TagHelpers;\n",
    "\n",
    "public class MyTagHelper : TagHelper\n",
    "{\n",
    "    [ViewContext]\n",
    "    [HtmlAttributeNotBound]\n",
    "    public ViewContext ViewContext { get; set; }\n",
    "\n",
    "    public override void Process(TagHelperContext context, TagHelperOutput output)\n",
    "    {\n",
    "        // دسترسی به اطلاعات ViewContext\n",
    "        var httpContext = ViewContext.HttpContext; // دسترسی به HttpContext\n",
    "        var routeData = ViewContext.RouteData;     // اطلاعات مسیریابی\n",
    "        var viewData = ViewContext.ViewData;       // ViewData\n",
    "        var model = ViewContext.ViewData.Model;    // مدل View\n",
    "    }\n",
    "}\n"
   ]
  },
  {
   "cell_type": "markdown",
   "metadata": {},
   "source": [
    "<div dir=\"rtl\" style=\"margin:auto; width:90%; font-family:vazirmatn\">\n",
    "<h3><strong>کاربردهای ViewContext در TagHelper</strong></h3>\n",
    "\n",
    "<ol>\n",
    "<li>\n",
    "<p><strong>دسترسی به اطلاعات کاربر:</strong></p>\n",
    "<ul><li>می‌توانید وضعیت کاربر احراز هویت‌شده را بررسی کنید و رفتار تگ HTML را بر اساس آن تغییر دهید.</li></ul>\n",
    "</li>\n",
    "<li>\n",
    "<p><p><strong>دسترسی به مقادیر مسیر (Route):</strong></p>\n",
    "<ul><li>مقادیر مسیر (Controller, Action, ID) را بخوانید و از آن‌ها برای شخصی‌سازی تگ استفاده کنید.</li></ul>\n",
    "</li>\n",
    "<li>\n",
    "<p><strong>استفاده از ViewData یا Model:</strong></p>\n",
    "<ul><li>بر اساس داده‌های موجود در ViewData یا مدل جاری، تغییراتی در تگ اعمال کنید.</li></ul>\n",
    "</li>\n",
    "<li>\n",
    "<p><strong>تنظیم فرم‌ها و اعتبارسنجی:</strong></p>\n",
    "<ul><li>با استفاده از FormContext می‌توانید تنظیمات فرم یا رفتارهای اعتبارسنجی را سفارشی کنید.</li></ul>\n",
    "</li>\n",
    "</ol>\n",
    "\n",
    "</div>"
   ]
  },
  {
   "cell_type": "code",
   "execution_count": null,
   "metadata": {
    "dotnet_interactive": {
     "language": "csharp"
    },
    "polyglot_notebook": {
     "kernelName": "csharp"
    },
    "vscode": {
     "languageId": "polyglot-notebook"
    }
   },
   "outputs": [],
   "source": [
    "public class AuthMessageTagHelper : TagHelper\n",
    "{\n",
    "    [ViewContext]\n",
    "    [HtmlAttributeNotBound]\n",
    "    public ViewContext ViewContext { get; set; }\n",
    "\n",
    "    public override void Process(TagHelperContext context, TagHelperOutput output)\n",
    "    {\n",
    "        if (ViewContext.HttpContext.User.Identity.IsAuthenticated)\n",
    "        {\n",
    "            output.Content.SetContent(\"Welcome back, User!\");\n",
    "        }\n",
    "        else\n",
    "        {\n",
    "            output.Content.SetContent(\"Please log in to continue.\");\n",
    "        }\n",
    "    }\n",
    "}"
   ]
  },
  {
   "cell_type": "code",
   "execution_count": null,
   "metadata": {
    "dotnet_interactive": {
     "language": "html"
    },
    "polyglot_notebook": {
     "kernelName": "html"
    },
    "vscode": {
     "languageId": "polyglot-notebook"
    }
   },
   "outputs": [],
   "source": [
    "<auth-message></auth-message>"
   ]
  },
  {
   "cell_type": "markdown",
   "metadata": {},
   "source": [
    "### pass data to child from parent \n",
    "\n",
    "`tr` -> `td`"
   ]
  },
  {
   "cell_type": "markdown",
   "metadata": {},
   "source": [
    "### SuppressOutput\n",
    "\n",
    "- prevnet render tags\n",
    "- add sever logic without output html"
   ]
  },
  {
   "cell_type": "markdown",
   "metadata": {},
   "source": [
    "### Form Tag Helpers"
   ]
  },
  {
   "cell_type": "markdown",
   "metadata": {},
   "source": [
    "### Link Tag Helper"
   ]
  },
  {
   "cell_type": "markdown",
   "metadata": {},
   "source": [
    "### Caching Tag Helper"
   ]
  },
  {
   "cell_type": "markdown",
   "metadata": {},
   "source": [
    "<div dir=\"rtl\" style=\"margin:auto; width:90%; font-family:vazirmatn\">\n",
    "<p><strong>Caching Tag Helper</strong> یکی از امکانات مفید ASP.NET Core است که به شما کمک می‌کند بخش‌هایی از <strong>HTML</strong> که تولید آن‌ها پرهزینه یا تکراری است را در حافظه کش ذخیره کرده و در درخواست‌های بعدی بدون نیاز به پردازش مجدد از کش بازیابی کنید. این قابلیت می‌تواند عملکرد برنامه را بهبود داده و زمان پاسخ‌دهی را کاهش دهد.</p>\n",
    "<hr>\n",
    "<h3><strong>Caching Tag Helper چیست؟</strong></h3>\n",
    "\n",
    "<p><strong>Caching Tag Helper</strong> یک Tag Helper داخلی است که به شما امکان می‌دهد خروجی بخشی از یک View را ذخیره کرده و در درخواست‌های بعدی همان خروجی را به سرعت ارائه دهید، به جای اینکه هر بار کد مربوطه اجرا شود.</p>\n",
    "<p>این Tag Helper با استفاده از <strong>ASP.NET Core In-Memory Caching</strong> کار می‌کند و می‌تواند برای:</p>\n",
    "<ul><li><strong>بهبود عملکرد</strong>: ذخیره نتایج محاسباتی یا داده‌های سنگین.</li><li><strong>کاهش بار سرور</strong>: جلوگیری از اجرای مکرر عملیات مشابه.</li><li><strong>افزایش سرعت نمایش UI</strong>: کش کردن بخشی از View که تغییرات کمتری دارد.</li></ul>\n",
    "\n",
    "\n",
    "</div>"
   ]
  },
  {
   "cell_type": "code",
   "execution_count": null,
   "metadata": {
    "dotnet_interactive": {
     "language": "html"
    },
    "polyglot_notebook": {
     "kernelName": "html"
    },
    "vscode": {
     "languageId": "polyglot-notebook"
    }
   },
   "outputs": [],
   "source": [
    "<cache>\n",
    "    <p>This content is cached.</p>\n",
    "    <p>@DateTime.Now</p>\n",
    "</cache>\n",
    "<cache expires-after=\"00:05:00\">\n",
    "    <p>This content will be cached for 5 minutes.</p>\n",
    "</cache>\n",
    "<cache expires-on=\"2024-11-21T15:00:00\">\n",
    "    <p>This content is cached until 3:00 PM.</p>\n",
    "</cache>\n",
    "<cache expires-sliding=\"00:02:00\">\n",
    "    <p>This content will expire if not accessed for 2 minutes.</p>\n",
    "</cache>\n",
    "\n"
   ]
  },
  {
   "cell_type": "markdown",
   "metadata": {},
   "source": [
    "<div dir=\"rtl\" style=\"margin:auto; width:90%; font-family:vazirmatn\">\n",
    "<h3><strong>کاربردهای Caching Tag Helper</strong></h3>\n",
    "<ol><li><p><strong>بهبود عملکرد صفحات پیچیده:</strong></p><ul><li>صفحات پیچیده که شامل محتوای ثابت یا نیمه‌ثابت هستند، می‌توانند بخشی از خروجی را کش کنند.</li><li>مثال: فهرست مقالات یا محصولات که به ندرت تغییر می‌کند.</li></ul></li><li><p><strong>کاهش بار سرور:</strong></p><ul><li>از اجرای مکرر کدهای پردازش سنگین یا کوئری‌های پایگاه داده جلوگیری می‌کند.</li></ul></li><li><p><strong>شخصی‌سازی محتوا:</strong></p><ul><li>کش کردن محتوای سفارشی بر اساس کاربر یا پارامترهای دیگر، مانند زبان یا تنظیمات کاربر.</li></ul></li><li><p><strong>رندر سریع‌تر UI:</strong></p><ul><li>محتوایی که تغییرات کمتری دارد (مانند هدر یا فوتر) می‌تواند کش شود تا سرعت رندر افزایش یابد.</li></ul></li><li><p><strong>کش کردن محتوای پویا:</strong></p><ul><li>اگر محتوای پویا اما قابل پیش‌بینی دارید (مثلاً تغییرات هفتگی)، می‌توانید از ویژگی‌های زمان انقضا استفاده کنید.</li></ul></li></ol>\n",
    "</div>"
   ]
  },
  {
   "cell_type": "markdown",
   "metadata": {},
   "source": [
    "### Environment Tag Helper"
   ]
  },
  {
   "cell_type": "markdown",
   "metadata": {},
   "source": [
    "<div dir=\"rtl\" style=\"margin:auto; width:90%; font-family:vazirmatn\">\n",
    "<p><strong>Environment Tag Helper</strong> در ASP.NET Core یکی از TagHelperهای داخلی است که به شما امکان می‌دهد محتوای HTML را بر اساس محیط اجرا (Development، Staging، Production و غیره) نمایش دهید. این ابزار مفید به شما کمک می‌کند تا به راحتی محتوای خاصی را فقط در محیط‌های خاص ارائه دهید.</p>\n",
    "</div>"
   ]
  },
  {
   "cell_type": "code",
   "execution_count": null,
   "metadata": {
    "dotnet_interactive": {
     "language": "html"
    },
    "polyglot_notebook": {
     "kernelName": "html"
    },
    "vscode": {
     "languageId": "polyglot-notebook"
    }
   },
   "outputs": [],
   "source": [
    "<environment include=\"Development\">\n",
    "    <link rel=\"stylesheet\" href=\"/css/site.css\" />\n",
    "    <script src=\"/js/site.js\"></script>\n",
    "</environment>\n",
    "\n",
    "<environment include=\"Production\">\n",
    "    <link rel=\"stylesheet\" href=\"/css/site.min.css\" />\n",
    "    <script src=\"/js/site.min.js\"></script>\n",
    "</environment>\n"
   ]
  },
  {
   "cell_type": "markdown",
   "metadata": {},
   "source": [
    "### Css And JavaScript Tag Helpers"
   ]
  },
  {
   "cell_type": "markdown",
   "metadata": {},
   "source": [
    "<div dir=\"rtl\" style=\"margin:auto; width:90%; font-family:vazirmatn\">\n",
    "<p>در <code>ASP.NET Core</code>، <code>CSS و JavaScript Tag Helper</code> ابزارهایی هستند که به توسعه‌دهندگان کمک می‌کنند فایل‌های CSS و JavaScript را به راحتی در صفحات Razor مدیریت و اضافه کنند. این Tag Helperها به صورت داخلی در ASP.NET Core تعریف شده‌اند و استفاده از آن‌ها می‌تواند فرآیند مدیریت منابع (Assets) را ساده‌تر، خواناتر و منعطف‌تر کند.</p>\n",
    "</div>"
   ]
  }
 ],
 "metadata": {
  "kernelspec": {
   "display_name": ".NET (C#)",
   "language": "C#",
   "name": ".net-csharp"
  },
  "language_info": {
   "name": "python"
  },
  "polyglot_notebook": {
   "kernelInfo": {
    "defaultKernelName": "csharp",
    "items": [
     {
      "aliases": [],
      "name": "csharp"
     }
    ]
   }
  }
 },
 "nbformat": 4,
 "nbformat_minor": 2
}
