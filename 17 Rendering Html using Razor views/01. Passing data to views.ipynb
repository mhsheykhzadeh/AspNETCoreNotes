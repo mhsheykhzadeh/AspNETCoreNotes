{
 "cells": [
  {
   "cell_type": "markdown",
   "metadata": {},
   "source": [
    "<div dir=\"rtl\" style=\"margin:auto; width:90%; font-family:vazirmatn\"> \n",
    "<h3>مراحل اولیه پردازش درخواست در ASP.NET Core</h3>\n",
    "<ol><li><p><strong>ورود به Middleware Pipeline</strong>: ابتدا درخواست وارد مجموعه‌ای از <strong>Middlewareها</strong> می‌شود. این middlewareها وظیفه انجام کارهایی مثل احراز هویت، اعتبارسنجی، لاگ‌گیری و یا ایجاد ارتباطات با پایگاه‌داده را دارند. هر Middleware می‌تواند تصمیم بگیرد که درخواست را به middleware بعدی ارسال کند یا مستقیماً به آن پاسخ دهد.</p></li><li><p><strong>مدیریت Routing</strong>: در نهایت، درخواست به <strong>Endpoint Routing</strong> می‌رسد که تعیین می‌کند درخواست به کدام Controller و Action فرستاده شود.</p></li><li><p><strong>Controller و Action</strong>: پس از مشخص شدن مسیر، درخواست به Controller و سپس Action مناسب ارسال می‌شود. در این مرحله، منطق اصلی برنامه اجرا می‌شود و معمولاً داده‌ها از طریق سرویس‌ها و مخازن به Action آورده می‌شوند.</p></li></ol>\n",
    "<h3>از آماده‌سازی ViewModel تا رندر کردن View</h3>\n",
    "<p>حال که ViewModel در Action آماده شده است، بیایید مراحل از آماده‌سازی View تا رندر HTML نهایی را به تفصیل بررسی کنیم.</p>\n",
    "<ol><li><p><strong>انتخاب View</strong>: زمانی که Action به پایان می‌رسد و یک ViewModel (یا داده‌ی دیگر) را برمی‌گرداند، ابتدا باید View مناسب پیدا شود. ASP.NET Core به طور خودکار View را بر اساس نام Action و Controller جستجو می‌کند. اگر یک نام خاصی برای View مشخص نشده باشد، فریمورک دنبال فایلی با نام Action (مثل <code>Index.cshtml</code>) در مسیر <code>Views/ControllerName</code> می‌گردد.</p></li><li><p><strong>ایجاد یک نمونه از View</strong>: پس از پیدا کردن View، فریمورک نمونه‌ای از کلاس View مربوطه ایجاد می‌کند. این کلاس از کلاس <code>RazorPage&lt;T&gt;</code> ارث‌بری می‌کند و در واقع قالب <code>.cshtml</code> را به یک کلاس C# قابل اجرا تبدیل کرده است. این کلاس همان View شما است که حاوی کد HTML و C# است.</p></li><li><p><strong>تعیین Layout (چیدمان)</strong>: در این مرحله، اگر View از Layout استفاده کند (مثلاً <code>_Layout.cshtml</code>)، ابتدا فایل Layout بارگذاری می‌شود. Layout ها ساختار کلی صفحه، مثل هدر و فوتر، را مشخص می‌کنند و View نهایی در داخل Layout رندر می‌شود.</p></li><li><p><strong>View Rendering (رندر کردن View)</strong>:</p><ul><li>حالا که Layout و ViewModel آماده هستند، View شروع به رندر شدن می‌کند. فریمورک کدهای HTML و C# درون View را اجرا و به HTML تبدیل می‌کند.</li><li>ViewModel که به عنوان ورودی به View ارسال شده است، در دسترس View قرار می‌گیرد، و می‌توان با استفاده از Razor Syntax (<code>@Model</code>) به داده‌های آن دسترسی داشت و آن‌ها را در HTML نمایش داد.</li></ul></li><li><p><strong>رندر کردن بخش‌های پویا و Partial Views</strong>: در صورتی که View شامل <strong>Partial Views</strong> باشد (مثل فرم‌ها یا بخش‌های کوچک‌تر قابل‌استفاده در چندین قسمت از برنامه)، این قسمت‌ها هم به طور جداگانه رندر شده و به View اصلی اضافه می‌شوند. هر Partial View مستقل از View اصلی رندر می‌شود و داده‌های خودش را دریافت می‌کند.</p></li><li><p><strong>تکمیل Rendering و ارسال پاسخ</strong>: پس از اتمام رندر HTML، محتوای نهایی صفحه HTML به صورت یک رشته از کد HTML تولید می‌شود. این محتوا سپس به خروجی (Response) ارسال می‌شود و درخواست HTTP با ارسال این پاسخ به کاربر خاتمه می‌یابد.</p></li></ol>\n",
    "</div>"
   ]
  },
  {
   "cell_type": "markdown",
   "metadata": {},
   "source": [
    "<div dir=\"rtl\" style=\"margin:auto; width:90%; font-family:vazirmatn\"> \n",
    "<p>در ASP.NET Core، وقتی یک فایل <strong><code>.cshtml</code></strong> به کلاس تبدیل می‌شود، این کلاس از <code>RazorPage&lt;T&gt;</code> ارث‌بری می‌کند، که در آن <strong><code>T</code></strong> همان نوع ViewModel است. این <code>T</code> به فریمورک کمک می‌کند تا نوع داده‌ای که ViewModel به View ارسال می‌شود را شناسایی کند و در زمان رندر View به این نوع دسترسی داشته باشد.</p>\n",
    "<p>به عبارت دیگر، اگر شما در بالای فایل <code>.cshtml</code> خود از دستور زیر استفاده کنید:</p>\n",
    "<p dir=\"ltr\">\n",
    "<code>@model YourNamespace.YourViewModel</code>\n",
    "</p>\n",
    "<p>فریمورک نوع <code>YourViewModel</code> را به عنوان نوع ViewModel در نظر می‌گیرد، و کلاس پشت صحنه‌ای که برای آن View تولید می‌شود، به شکل زیر خواهد بود:</p>\n",
    "</div>"
   ]
  },
  {
   "cell_type": "code",
   "execution_count": null,
   "metadata": {
    "dotnet_interactive": {
     "language": "csharp"
    },
    "polyglot_notebook": {
     "kernelName": "csharp"
    },
    "vscode": {
     "languageId": "polyglot-notebook"
    }
   },
   "outputs": [],
   "source": [
    "public class YourViewName : RazorPage<YourNamespace.YourViewModel>\n",
    "{\n",
    "    // کدهای رندر View\n",
    "}"
   ]
  },
  {
   "cell_type": "code",
   "execution_count": null,
   "metadata": {
    "dotnet_interactive": {
     "language": "html"
    },
    "polyglot_notebook": {
     "kernelName": "html"
    },
    "vscode": {
     "languageId": "polyglot-notebook"
    }
   },
   "outputs": [],
   "source": [
    "@model List<string>\n",
    "\n",
    "<h1>List</h1>\n",
    "<ul>\n",
    "    @foreach(var item in Model)\n",
    "    {\n",
    "        <li>@item</li>\n",
    "    }\n",
    "</li>"
   ]
  },
  {
   "cell_type": "code",
   "execution_count": null,
   "metadata": {
    "dotnet_interactive": {
     "language": "csharp"
    },
    "polyglot_notebook": {
     "kernelName": "csharp"
    },
    "vscode": {
     "languageId": "polyglot-notebook"
    }
   },
   "outputs": [],
   "source": [
    "public class GeneratedRazorPage : RazorPage<List<string>>\n",
    "{\n",
    "    public override async Task ExecuteAsync()\n",
    "    {\n",
    "        // HTML ثابت <h1>List</h1> \n",
    "        WriteLiteral(\"<h1>List</h1>\\n<ul>\\n\");\n",
    "\n",
    "        // حلقه foreach برای پیمایش لیست Model\n",
    "        foreach (var item in Model)\n",
    "        {\n",
    "            WriteLiteral(\"<li>\");\n",
    "            Write(item); // خروجی آیتم‌های داخل لیست\n",
    "            WriteLiteral(\"</li>\\n\");\n",
    "        }\n",
    "\n",
    "        WriteLiteral(\"</ul>\"); // پایان لیست\n",
    "    }\n",
    "}\n"
   ]
  },
  {
   "cell_type": "markdown",
   "metadata": {},
   "source": [
    "<div dir=\"rtl\" style=\"margin:auto; width:90%; font-family:vazirmatn\">\n",
    "<h3 dir=\"ltr\"><code>ViewBag</code></h3>\n",
    "<p><strong>ViewBag</strong> یک ویژگی پویا (dynamic) در ASP.NET MVC و ASP.NET Core است که برای ارسال داده‌های ساده و موقتی از یک <strong>Controller</strong> به <strong>View</strong> استفاده می‌شود. این داده‌ها فقط در طول یک درخواست معتبر هستند و پس از اتمام درخواست، از بین می‌روند.</p>\n",
    "<h3>ساختار ViewBag</h3>\n",
    "<p>ViewBag از نوع <strong>dynamic</strong> است و به این دلیل که dynamic است، می‌توان مقادیر مختلفی (رشته، عدد، اشیاء و ...) را بدون نیاز به تعریف نوع خاصی به آن نسبت داد. این ویژگی به دلیل استفاده از نوع dynamic در زبان C#، به شما اجازه می‌دهد که به صورت پویا متغیرهایی به ViewBag اضافه کرده و در View از آن‌ها استفاده کنید.</p>\n",
    "<h3>کاربردهای ViewBag</h3>\n",
    "<p>ViewBag بیشتر برای انتقال داده‌های <strong>ساده و موقتی</strong> که نیاز به مدل‌سازی خاص یا ایجاد ViewModel ندارند، استفاده می‌شود. برخی از کاربردهای رایج آن عبارتند از:</p>\n",
    "<ol>\n",
    "<li><p><strong>ارسال پیام‌های موقت</strong>: می‌توانید از ViewBag برای ارسال پیام‌هایی مثل تأیید یا هشدار استفاده کنید. برای مثال، پیام‌هایی مانند \"عملیات با موفقیت انجام شد\" یا \"خطایی رخ داده است.\"</p></li>\n",
    "<li><p><strong>ارسال اطلاعات پویا به Layout یا Partial Views</strong>: اگر بخواهید اطلاعات ساده‌ای را به Layout یا Partial Views بفرستید، ViewBag می‌تواند راه ساده‌ای برای این کار باشد. این امر به ویژه زمانی مفید است که نیازی به تعریف مدل‌های پیچیده نباشد.</p></li>\n",
    "<p><strong>ارسال اطلاعات ساده و موقتی</strong>: برای مثال، می‌توانید عنوان صفحه یا متن‌های ثابت را از طریق ViewBag به View بفرستید تا قابل نمایش باشند. برای این منظور نیازی به ساخت ViewModel ندارید.</p>\n",
    "</ol>\n",
    "\n",
    "<h3>مزایای ViewBag</h3>\n",
    "<ul><li><strong>استفاده ساده و سریع</strong>: به دلیل پویا بودن ViewBag، نیازی به تعریف کلاس یا مدل خاصی نیست و می‌توانید به سرعت مقادیری را به View انتقال دهید.</li><li><strong>مناسب برای داده‌های کوچک و موقتی</strong>: چون ViewBag فقط در طول یک درخواست معتبر است، برای داده‌هایی که نیازی به ماندگاری بیشتر ندارند، مناسب است.</li></ul>\n",
    "<h3>محدودیت‌ها و معایب ViewBag</h3>\n",
    "<ul><li><strong>محدود به یک درخواست</strong>: ViewBag فقط در طول همان درخواست معتبر است و نمی‌تواند داده‌ها را بین درخواست‌ها نگهداری کند.</li><li><strong>نبود تایپ ایمنی (Type Safety)</strong>: چون ViewBag از نوع dynamic است، تایپ ایمنی در آن وجود ندارد و اگر نام متغیرها اشتباه وارد شود، خطاهای زمان اجرا ایجاد می‌شود که قابل شناسایی در زمان کامپایل نیستند.</li><li><strong>کندتر از ViewData</strong>: ViewBag به دلیل استفاده از نوع dynamic نسبت به ViewData که از نوع <code>Dictionary&lt;string, object&gt;</code> است، کمی کندتر است.</li></ul>\n",
    "</div>"
   ]
  },
  {
   "cell_type": "markdown",
   "metadata": {},
   "source": [
    "<div dir=\"rtl\" style=\"margin:auto; width:90%; font-family:vazirmatn\">\n",
    "<h3 dir=\"ltr\"><code>ViewData</code></h3>\n",
    "<p><strong>ViewData</strong> در ASP.NET MVC و ASP.NET Core یک <strong>دیکشنری از نوع <code>Dictionary&lt;string, object&gt;</code></strong> است که برای انتقال داده‌های ساده و موقتی از Controller به View استفاده می‌شود. ViewData برای ذخیره داده‌هایی که نیازی به حفظ نوع داده (type safety) ندارند و به‌صورت موقت در یک درخواست خاص مورد استفاده قرار می‌گیرند، به‌کار می‌رود.</p>\n",
    "<h3>ساختار ViewData</h3>\n",
    "<p>ViewData یک <code>ViewDataDictionary</code> است که در قالب یک دیکشنری کار می‌کند، به این معنا که مقادیر آن با کلیدهای متنی (رشته‌ای) ذخیره و بازیابی می‌شوند. هر مقدار در ViewData از نوع <code>object</code> است، بنابراین برای دسترسی به نوع خاصی از داده، معمولاً نیاز به <strong>کست کردن (type casting)</strong> دارید.</p>\n",
    "\n",
    "<h3>کاربردهای ViewData</h3>\n",
    "<p>ViewData برای انتقال داده‌های <strong>ساده و موقت</strong> بین Controller و View، به خصوص داده‌هایی که در طول درخواست نیازی به ماندگاری یا تایپ ایمنی ندارند، مفید است. برخی از کاربردهای متداول ViewData عبارتند از:</p>\n",
    "\n",
    "<ol>\n",
    "<li><p><strong>ارسال پیام‌های موقت</strong>: مانند نمایش پیام‌های موفقیت یا خطا که پس از عملیات خاصی به کاربر نمایش داده می‌شود، مثل پیغام \"ثبت نام با موفقیت انجام شد\".</p></li>\n",
    "<li><p><strong>انتقال داده‌ها به Layout</strong>: برای داده‌هایی که باید در قالب اصلی (Layout) یا در چندین View استفاده شوند، ViewData می‌تواند روشی مناسب باشد. مثلاً اگر بخواهید عنوان صفحه یا نام کاربر را به Layout ارسال کنید.</p></li>\n",
    "<li><p><strong>ارسال داده‌های ساده و سبک به View</strong>: برای داده‌هایی که نیازی به استفاده از ViewModel ندارند، مانند داده‌های ثابت یا مقادیر ساده‌ای که تنها در View استفاده می‌شوند.</p></li>\n",
    "<li><p><strong>استفاده در Partial Views</strong>: می‌توانید داده‌هایی را از Controller به Partial View ارسال کنید بدون اینکه نیاز به تغییرات عمده‌ای در مدل داده‌ها داشته باشید.</p></li>\n",
    "</ol>\n",
    "<h3>مزایای ViewData</h3>\n",
    "<ul><li><strong>ساختار ساده</strong>: به دلیل اینکه ViewData یک دیکشنری از نوع <code>Dictionary&lt;string, object&gt;</code> است، می‌توان به سرعت داده‌ها را به View منتقل کرد.</li><li><strong>عدم نیاز به تعریف ViewModel</strong>: برای داده‌های ساده نیازی به ایجاد ViewModel نیست، بنابراین استفاده از ViewData زمان کمتری نسبت به ایجاد کلاس‌ها نیاز دارد.</li><li><strong>مناسب برای Layoutها و Partial Views</strong>: ViewData برای ارسال داده‌هایی که در Layout یا Partial Views استفاده می‌شوند بسیار مناسب است، چون نیازی به تعریف ساختار داده خاصی ندارد.</li></ul>\n",
    "\n",
    "<h3>محدودیت‌ها و معایب ViewData</h3>\n",
    "<ul><li><strong>نبود تایپ ایمنی (Type Safety)</strong>: ViewData از نوع <code>object</code> است، بنابراین برای دسترسی به نوع خاصی از داده باید آن را کست کنید. اگر کست اشتباه انجام شود، باعث ایجاد خطای زمان اجرا خواهد شد.</li><li><strong>کندتر از ViewModel</strong>: استفاده از کست‌های مکرر و تبدیل داده‌ها به object و برعکس، ممکن است سرعت را کاهش دهد و در مقایسه با ViewModel کمتر بهینه باشد.</li><li><strong>محدود به یک درخواست</strong>: ViewData فقط در طول همان درخواست معتبر است و داده‌ها پس از اتمام درخواست از بین می‌روند.</li></ul>\n",
    "\n",
    "<h3>تفاوت ViewData و ViewBag</h3>\n",
    "<ul><li><strong>ساختار و نوع داده</strong>: ViewData یک <code>Dictionary&lt;string, object&gt;</code> است، در حالی که ViewBag یک ویژگی dynamic است. بنابراین برای استفاده از ViewData نیاز به کست دارید، اما در ViewBag نیازی به کست کردن نیست.</li><li><strong>عملکرد و سرعت</strong>: ViewData کمی سریع‌تر از ViewBag است، چون ViewBag از نوع dynamic است که در زمان اجرا بررسی می‌شود و معمولاً زمان بیشتری نسبت به ViewData نیاز دارد.</li></ul>\n",
    "</div>"
   ]
  },
  {
   "cell_type": "markdown",
   "metadata": {},
   "source": [
    "<div dir=\"rtl\" style=\"margin:auto; width:90%; font-family:vazirmatn\">\n",
    "<h3 dir=\"ltr\"><code>TempData</code></h3>\n",
    "<p><strong>TempData</strong> در ASP.NET MVC و ASP.NET Core ابزاری برای ذخیره‌سازی موقتی داده‌ها بین درخواست‌ها است. این ابزار به شما امکان می‌دهد داده‌ها را از یک درخواست به درخواست دیگر (مثل از یک <code>POST</code> به یک <code>Redirect</code> و سپس <code>GET</code>) منتقل کنید. <strong>TempData</strong> برای زمانی که می‌خواهید اطلاعاتی مثل پیام‌های موفقیت، هشدار، یا داده‌های موقتی دیگر را بعد از انجام عملیات خاصی نمایش دهید، بسیار مفید است.</p>\n",
    "<h3>ساختار و عملکرد TempData</h3>\n",
    "<ul><li><p><strong>نوع داده</strong>: TempData مانند ViewData و ViewBag یک <strong>دیکشنری از نوع <code>Dictionary&lt;string, object&gt;</code></strong> است. هر داده در TempData با یک کلید متنی ذخیره می‌شود و می‌توان آن را به راحتی بازیابی کرد.</p></li><li><p><strong>مدت زمان نگهداری داده</strong>: داده‌ها در TempData تا زمانی که از آن‌ها خوانده شوند، باقی می‌مانند. هنگامی که داده‌ای از TempData خوانده شود، به صورت خودکار حذف می‌شود. این رفتار به طور خاص برای الگوی <strong>Post-Redirect-Get</strong> طراحی شده است.</p></li><li><p><strong>ذخیره‌سازی پیش‌فرض</strong>: به طور پیش‌فرض، TempData داده‌ها را در <strong>کوکی‌های رمزنگاری‌شده</strong> نگه می‌دارد، که امنیت داده‌ها را تضمین می‌کند. با این حال، می‌توانید TempData را به گونه‌ای پیکربندی کنید که از مکان‌های ذخیره‌سازی دیگری مثل Session استفاده کند.</p></li></ul>\n",
    "\n",
    "</div>"
   ]
  },
  {
   "cell_type": "code",
   "execution_count": null,
   "metadata": {
    "dotnet_interactive": {
     "language": "csharp"
    },
    "polyglot_notebook": {
     "kernelName": "csharp"
    },
    "vscode": {
     "languageId": "polyglot-notebook"
    }
   },
   "outputs": [],
   "source": [
    "public IActionResult SaveData()\n",
    "{\n",
    "    TempData[\"SuccessMessage\"] = \"Your data has been saved successfully!\";\n",
    "    return RedirectToAction(\"DisplayMessage\");\n",
    "}"
   ]
  },
  {
   "cell_type": "code",
   "execution_count": null,
   "metadata": {
    "dotnet_interactive": {
     "language": "csharp"
    },
    "polyglot_notebook": {
     "kernelName": "csharp"
    },
    "vscode": {
     "languageId": "polyglot-notebook"
    }
   },
   "outputs": [],
   "source": [
    "public IActionResult DisplayMessage()\n",
    "{\n",
    "    var message = TempData[\"SuccessMessage\"];\n",
    "    return View();\n",
    "}"
   ]
  },
  {
   "cell_type": "code",
   "execution_count": null,
   "metadata": {
    "dotnet_interactive": {
     "language": "csharp"
    },
    "polyglot_notebook": {
     "kernelName": "csharp"
    },
    "vscode": {
     "languageId": "polyglot-notebook"
    }
   },
   "outputs": [],
   "source": [
    "//keep data \n",
    "public IActionResult DisplayMessage()\n",
    "{\n",
    "    var message = TempData[\"SuccessMessage\"];\n",
    "    TempData.Keep(\"SuccessMessage\"); // داده‌ها همچنان در TempData باقی می‌مانند\n",
    "    TempData.Keep();// keep all data\n",
    "    TempData.Remove(\"SuccessMessage\"); //remove specific data\n",
    "\n",
    "    return View();\n",
    "}\n"
   ]
  },
  {
   "cell_type": "markdown",
   "metadata": {},
   "source": [
    "<div dir=\"rtl\" style=\"margin:auto; width:90%; font-family:vazirmatn\">\n",
    "<h3>کاربردهای اصلی TempData</h3>\n",
    "<ol><li><p><strong>پیاده‌سازی الگوی POST-REDIRECT-GET (PRG)</strong>: یکی از کاربردهای اصلی TempData استفاده از آن در الگوی PRG است. در این الگو، درخواست POST ابتدا به یک صفحه دیگر Redirect می‌شود تا از ارسال مجدد فرم و اجرای مجدد عملیات (مانند ذخیره‌سازی داده‌ها) جلوگیری کند.</p></li><li><p><strong>ذخیره پیام‌های موفقیت یا هشدار</strong>: TempData برای نمایش پیام‌های موقتی مثل \"ثبت با موفقیت انجام شد\" یا \"خطا در عملیات\" مناسب است، به طوری که این پیام‌ها پس از یک عملیات POST و هنگام Redirect به صفحه دیگری نمایش داده شوند.</p></li><li><p><strong>نگهداری داده‌ها در طول چندین درخواست</strong>: در برخی موارد ممکن است نیاز باشد داده‌ها را بین چندین درخواست نگه دارید، به عنوان مثال در مراحل مختلف یک فرم چند صفحه‌ای.</p></li></ol>\n",
    "\n",
    "<h3>مدیریت ذخیره‌سازی TempData</h3>\n",
    "<p>در ASP.NET Core، به صورت پیش‌فرض، TempData در <strong>کوکی‌های رمزنگاری‌شده</strong> ذخیره می‌شود که از امنیت بالایی برخوردار است. اما در صورتی که بخواهید TempData را در Session ذخیره کنید، می‌توانید TempData را به شکل زیر پیکربندی کنید:</p>\n",
    "</div>"
   ]
  },
  {
   "cell_type": "code",
   "execution_count": null,
   "metadata": {
    "dotnet_interactive": {
     "language": "csharp"
    },
    "polyglot_notebook": {
     "kernelName": "csharp"
    },
    "vscode": {
     "languageId": "polyglot-notebook"
    }
   },
   "outputs": [],
   "source": [
    "public void ConfigureServices(IServiceCollection services)\n",
    "{\n",
    "    services.AddSession();\n",
    "    services.AddControllersWithViews().AddSessionStateTempDataProvider();\n",
    "}"
   ]
  },
  {
   "cell_type": "markdown",
   "metadata": {},
   "source": [
    "<div dir=\"rtl\" style=\"margin:auto; width:90%; font-family:vazirmatn\">\n",
    "<h3>روش‌های مختلف ارسال داده از یک Action به View</h3>\n",
    "<ol>\n",
    "<li><code>ViewModel</code></li>\n",
    "<li><code>ViewData</code></li>\n",
    "<li><code>ViewBag</code></li>\n",
    "<li><code>TempData</code></li>\n",
    "<li><code>HttpContext</code></li>\n",
    "<li>\n",
    "    <p><code>Dependency Injection</code><p>\n",
    "    <ul><li>در ASP.NET Core، امکان <strong>تزریق سرویس‌ها</strong> به Viewها وجود دارد. این روش زمانی استفاده می‌شود که بخواهید داده‌هایی را از یک سرویس دریافت کنید و در View استفاده کنید.</li><li>برای این کار از دستور <code>@inject</code> در بالای View استفاده می‌شود و یک سرویس مشخص از DI container به View تزریق می‌شود.</li><li>این روش برای ارسال داده‌هایی که نیاز به پردازش‌های بیشتر یا دسترسی به سرویس‌های خارجی دارند، مفید است.</li></ul>\n",
    "</li>\n",
    "</ol>\n",
    "</div>"
   ]
  },
  {
   "cell_type": "code",
   "execution_count": null,
   "metadata": {
    "dotnet_interactive": {
     "language": "csharp"
    },
    "polyglot_notebook": {
     "kernelName": "csharp"
    },
    "vscode": {
     "languageId": "polyglot-notebook"
    }
   },
   "outputs": [],
   "source": [
    "public class MyService\n",
    "{\n",
    "    public string GetData() => \"Data from service\";\n",
    "}"
   ]
  },
  {
   "cell_type": "code",
   "execution_count": null,
   "metadata": {
    "dotnet_interactive": {
     "language": "html"
    },
    "polyglot_notebook": {
     "kernelName": "html"
    },
    "vscode": {
     "languageId": "polyglot-notebook"
    }
   },
   "outputs": [],
   "source": [
    "@inject MyNamespace.MyService myService\n",
    "<p>@myService.GetData()</p>"
   ]
  },
  {
   "cell_type": "markdown",
   "metadata": {
    "vscode": {
     "languageId": "polyglot-notebook"
    }
   },
   "source": [
    "#### Directives\n",
    "  \n",
    "- `@model`\n",
    "- `@using`\n",
    "- `@inject`\n",
    "- `@inherits`\n",
    "- `@section`\n",
    "- `@functions`\n",
    "- ` @Html و @Url`\n",
    "- `@ViewData و @ViewBag`\n",
    "- `@if, @for, @foreach, @while`\n",
    "- `@...@`\n",
    "- `@RenderBody`\n",
    "- `@RenderSection`\n",
    "- `@RenderPage`"
   ]
  },
  {
   "cell_type": "code",
   "execution_count": null,
   "metadata": {
    "dotnet_interactive": {
     "language": "csharp"
    },
    "polyglot_notebook": {
     "kernelName": "csharp"
    },
    "vscode": {
     "languageId": "polyglot-notebook"
    }
   },
   "outputs": [],
   "source": [
    "@functions {\n",
    "    public string GetGreeting()\n",
    "    {\n",
    "        return \"Hello, World!\";\n",
    "    }\n",
    "}\n",
    "\n",
    "<p>@GetGreeting()</p>\n"
   ]
  },
  {
   "cell_type": "code",
   "execution_count": null,
   "metadata": {
    "dotnet_interactive": {
     "language": "csharp"
    },
    "polyglot_notebook": {
     "kernelName": "csharp"
    },
    "vscode": {
     "languageId": "polyglot-notebook"
    }
   },
   "outputs": [],
   "source": [
    "public class CustomRazorPage<TModel> : RazorPage<TModel>\n",
    "{\n",
    "    public override Task ExecuteAsync()\n",
    "    {\n",
    "        // عملیات قبل از رندر View\n",
    "        OnPageExecuting();\n",
    "\n",
    "        // اجرای منطق اصلی رندر View\n",
    "        var result = base.ExecuteAsync();\n",
    "\n",
    "        // عملیات بعد از رندر View\n",
    "        OnPageExecuted();\n",
    "\n",
    "        return result;\n",
    "    }\n",
    "\n",
    "    protected virtual void OnPageExecuting()\n",
    "    {\n",
    "        // عملیات دلخواه قبل از رندر View\n",
    "    }\n",
    "\n",
    "    protected virtual void OnPageExecuted()\n",
    "    {\n",
    "        // عملیات دلخواه بعد از رندر View\n",
    "    }\n",
    "}\n"
   ]
  },
  {
   "cell_type": "markdown",
   "metadata": {
    "vscode": {
     "languageId": "polyglot-notebook"
    }
   },
   "source": [
    "@inherits CustomRazorPage<TModel>"
   ]
  }
 ],
 "metadata": {
  "kernelspec": {
   "display_name": ".NET (C#)",
   "language": "C#",
   "name": ".net-csharp"
  },
  "language_info": {
   "name": "python"
  },
  "polyglot_notebook": {
   "kernelInfo": {
    "defaultKernelName": "csharp",
    "items": [
     {
      "aliases": [],
      "name": "csharp"
     }
    ]
   }
  }
 },
 "nbformat": 4,
 "nbformat_minor": 2
}
